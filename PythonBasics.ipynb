{
  "nbformat": 4,
  "nbformat_minor": 0,
  "metadata": {
    "colab": {
      "name": "PythonBasics.ipynb",
      "provenance": [],
      "collapsed_sections": [
        "h7CFofgtZcz-",
        "NEUT8F6QamzU",
        "iXIryw_wkSep",
        "4nvsLqecoOoP",
        "z-G5jSNg1g2Z",
        "0wUuGWGY67PE"
      ],
      "toc_visible": true,
      "include_colab_link": true
    },
    "kernelspec": {
      "name": "python3",
      "display_name": "Python 3"
    }
  },
  "cells": [
    {
      "cell_type": "markdown",
      "metadata": {
        "id": "view-in-github",
        "colab_type": "text"
      },
      "source": [
        "<a href=\"https://colab.research.google.com/github/MarcelAleza1/Introduction-to-PyTorch/blob/master/PythonBasics.ipynb\" target=\"_parent\"><img src=\"https://colab.research.google.com/assets/colab-badge.svg\" alt=\"Open In Colab\"/></a>"
      ]
    },
    {
      "cell_type": "markdown",
      "metadata": {
        "id": "XYXQX6MHZOCT",
        "colab_type": "text"
      },
      "source": [
        "# Simple data types and operators"
      ]
    },
    {
      "cell_type": "code",
      "metadata": {
        "id": "4nrTtKWTUfj-",
        "colab_type": "code",
        "colab": {}
      },
      "source": [
        "name = 'iPhone 5s'"
      ],
      "execution_count": 0,
      "outputs": []
    },
    {
      "cell_type": "code",
      "metadata": {
        "id": "FPNzkLdmUm_K",
        "colab_type": "code",
        "outputId": "12f95ea8-2faf-4c81-fbc3-3327f52c4892",
        "colab": {
          "base_uri": "https://localhost:8080/",
          "height": 36
        }
      },
      "source": [
        "type(name)"
      ],
      "execution_count": 190,
      "outputs": [
        {
          "output_type": "execute_result",
          "data": {
            "text/plain": [
              "str"
            ]
          },
          "metadata": {
            "tags": []
          },
          "execution_count": 190
        }
      ]
    },
    {
      "cell_type": "code",
      "metadata": {
        "id": "mPBSQQTmUt-g",
        "colab_type": "code",
        "outputId": "8a59e735-f52e-480c-a4be-9ad02d8e914d",
        "colab": {
          "base_uri": "https://localhost:8080/",
          "height": 36
        }
      },
      "source": [
        "print(name)"
      ],
      "execution_count": 191,
      "outputs": [
        {
          "output_type": "stream",
          "text": [
            "iPhone 5s\n"
          ],
          "name": "stdout"
        }
      ]
    },
    {
      "cell_type": "code",
      "metadata": {
        "id": "TM72O_cVUyWX",
        "colab_type": "code",
        "outputId": "f91a5551-3b48-432f-8a86-4690919f1684",
        "colab": {
          "base_uri": "https://localhost:8080/",
          "height": 36
        }
      },
      "source": [
        "screen_size = 4.3\n",
        "type(screen_size)"
      ],
      "execution_count": 192,
      "outputs": [
        {
          "output_type": "execute_result",
          "data": {
            "text/plain": [
              "float"
            ]
          },
          "metadata": {
            "tags": []
          },
          "execution_count": 192
        }
      ]
    },
    {
      "cell_type": "code",
      "metadata": {
        "id": "IVhG8yejU20h",
        "colab_type": "code",
        "colab": {}
      },
      "source": [
        "num_of_speakers = 1"
      ],
      "execution_count": 0,
      "outputs": []
    },
    {
      "cell_type": "code",
      "metadata": {
        "id": "Pdl_938QU9m6",
        "colab_type": "code",
        "outputId": "405753ed-6d92-453a-fb2a-d8029e071461",
        "colab": {
          "base_uri": "https://localhost:8080/",
          "height": 36
        }
      },
      "source": [
        "type(num_of_speakers)"
      ],
      "execution_count": 194,
      "outputs": [
        {
          "output_type": "execute_result",
          "data": {
            "text/plain": [
              "int"
            ]
          },
          "metadata": {
            "tags": []
          },
          "execution_count": 194
        }
      ]
    },
    {
      "cell_type": "code",
      "metadata": {
        "id": "46zyohNZU_7z",
        "colab_type": "code",
        "outputId": "9046ab16-b001-4442-9682-5c08ecdbf77a",
        "colab": {
          "base_uri": "https://localhost:8080/",
          "height": 36
        }
      },
      "source": [
        "print('I just bought an ' + name)"
      ],
      "execution_count": 195,
      "outputs": [
        {
          "output_type": "stream",
          "text": [
            "I just bought an iPhone 5s\n"
          ],
          "name": "stdout"
        }
      ]
    },
    {
      "cell_type": "code",
      "metadata": {
        "id": "nW9PGsCFVGAB",
        "colab_type": "code",
        "outputId": "303db47a-e143-4e97-ee63-3965084857c8",
        "colab": {
          "base_uri": "https://localhost:8080/",
          "height": 36
        }
      },
      "source": [
        "a = 3\n",
        "b = 2\n",
        "print( a * b, a / b, a + b, a - b, a ** b, a // b)"
      ],
      "execution_count": 196,
      "outputs": [
        {
          "output_type": "stream",
          "text": [
            "6 1.5 5 1 9 1\n"
          ],
          "name": "stdout"
        }
      ]
    },
    {
      "cell_type": "code",
      "metadata": {
        "id": "O8n1BxEUVKlJ",
        "colab_type": "code",
        "outputId": "02851e21-8506-4755-fd23-33ed2edad916",
        "colab": {
          "base_uri": "https://localhost:8080/",
          "height": 36
        }
      },
      "source": [
        "is_android = False\n",
        "type(is_android)"
      ],
      "execution_count": 197,
      "outputs": [
        {
          "output_type": "execute_result",
          "data": {
            "text/plain": [
              "bool"
            ]
          },
          "metadata": {
            "tags": []
          },
          "execution_count": 197
        }
      ]
    },
    {
      "cell_type": "code",
      "metadata": {
        "id": "SwPmpf3OVVeJ",
        "colab_type": "code",
        "outputId": "0d55eb7f-8b9a-4381-cfc3-92511b19103c",
        "colab": {
          "base_uri": "https://localhost:8080/",
          "height": 36
        }
      },
      "source": [
        "print (is_android == True)"
      ],
      "execution_count": 198,
      "outputs": [
        {
          "output_type": "stream",
          "text": [
            "False\n"
          ],
          "name": "stdout"
        }
      ]
    },
    {
      "cell_type": "code",
      "metadata": {
        "id": "LJGzx6_oVZCg",
        "colab_type": "code",
        "outputId": "ab0f1cee-b91c-4bdb-cbe7-edb792998674",
        "colab": {
          "base_uri": "https://localhost:8080/",
          "height": 36
        }
      },
      "source": [
        "print (is_android == False and num_of_speakers > 1)"
      ],
      "execution_count": 199,
      "outputs": [
        {
          "output_type": "stream",
          "text": [
            "False\n"
          ],
          "name": "stdout"
        }
      ]
    },
    {
      "cell_type": "markdown",
      "metadata": {
        "id": "ufHD4qX3ZVyn",
        "colab_type": "text"
      },
      "source": [
        "# Code blocks - If, For, While"
      ]
    },
    {
      "cell_type": "code",
      "metadata": {
        "id": "sM4hQO8XVeFv",
        "colab_type": "code",
        "outputId": "ec1dbc9a-4fd4-42b6-ae7f-b0281422038a",
        "colab": {
          "base_uri": "https://localhost:8080/",
          "height": 36
        }
      },
      "source": [
        "if is_android == True:\n",
        "  print(name + ' supports Android')\n",
        "  print('Continuing to print inside the if block')\n",
        "print('Printing this outside the block')"
      ],
      "execution_count": 200,
      "outputs": [
        {
          "output_type": "stream",
          "text": [
            "Printing this outside the block\n"
          ],
          "name": "stdout"
        }
      ]
    },
    {
      "cell_type": "code",
      "metadata": {
        "id": "CKZaAZ0iVvT8",
        "colab_type": "code",
        "outputId": "8ba67c2b-3a7c-499a-9b03-bb8ba2166e65",
        "colab": {
          "base_uri": "https://localhost:8080/",
          "height": 111
        }
      },
      "source": [
        "for i in range(5):\n",
        "  print(i, i**2)"
      ],
      "execution_count": 201,
      "outputs": [
        {
          "output_type": "stream",
          "text": [
            "0 0\n",
            "1 1\n",
            "2 4\n",
            "3 9\n",
            "4 16\n"
          ],
          "name": "stdout"
        }
      ]
    },
    {
      "cell_type": "code",
      "metadata": {
        "id": "LLeT548bV9YT",
        "colab_type": "code",
        "colab": {}
      },
      "source": [
        "range?"
      ],
      "execution_count": 0,
      "outputs": []
    },
    {
      "cell_type": "code",
      "metadata": {
        "id": "ZPFWIgcsWA82",
        "colab_type": "code",
        "outputId": "e3231382-953f-42ca-e169-ef5944e468e7",
        "colab": {
          "base_uri": "https://localhost:8080/",
          "height": 111
        }
      },
      "source": [
        "i = 0\n",
        "while i < 5:\n",
        "  print(i, i**2)\n",
        "  i += 1 # equivalent to i = i + 1"
      ],
      "execution_count": 203,
      "outputs": [
        {
          "output_type": "stream",
          "text": [
            "0 0\n",
            "1 1\n",
            "2 4\n",
            "3 9\n",
            "4 16\n"
          ],
          "name": "stdout"
        }
      ]
    },
    {
      "cell_type": "markdown",
      "metadata": {
        "id": "h7CFofgtZcz-",
        "colab_type": "text"
      },
      "source": [
        "# Functions"
      ]
    },
    {
      "cell_type": "code",
      "metadata": {
        "id": "IgaKXk0eWO-N",
        "colab_type": "code",
        "colab": {}
      },
      "source": [
        "def print_squares(stop_val):\n",
        "  for i in range(stop_val):\n",
        "    print (i , i**2)"
      ],
      "execution_count": 0,
      "outputs": []
    },
    {
      "cell_type": "code",
      "metadata": {
        "id": "OOqb6EWZWdcy",
        "colab_type": "code",
        "outputId": "f34b1474-439d-4c6e-f21c-43045fd4489e",
        "colab": {
          "base_uri": "https://localhost:8080/",
          "height": 0
        }
      },
      "source": [
        "print_squares(5)"
      ],
      "execution_count": 205,
      "outputs": [
        {
          "output_type": "stream",
          "text": [
            "0 0\n",
            "1 1\n",
            "2 4\n",
            "3 9\n",
            "4 16\n"
          ],
          "name": "stdout"
        }
      ]
    },
    {
      "cell_type": "code",
      "metadata": {
        "id": "dRyGB-cVWgVi",
        "colab_type": "code",
        "outputId": "524cb530-ff3d-44b4-b3fa-17ebd102a7d5",
        "colab": {
          "base_uri": "https://localhost:8080/",
          "height": 0
        }
      },
      "source": [
        "print_squares(3)"
      ],
      "execution_count": 206,
      "outputs": [
        {
          "output_type": "stream",
          "text": [
            "0 0\n",
            "1 1\n",
            "2 4\n"
          ],
          "name": "stdout"
        }
      ]
    },
    {
      "cell_type": "code",
      "metadata": {
        "id": "mOR_I24OWiIf",
        "colab_type": "code",
        "colab": {}
      },
      "source": [
        "def sum_of_squares(stop_val):\n",
        "  sum_ = 0\n",
        "  for i in range(stop_val):\n",
        "    sum_ += i ** 2\n",
        "  return sum_"
      ],
      "execution_count": 0,
      "outputs": []
    },
    {
      "cell_type": "code",
      "metadata": {
        "id": "r1XbKgBcWtKF",
        "colab_type": "code",
        "outputId": "54ab31c5-1b85-4525-fb2a-72b3ddcd8ac6",
        "colab": {
          "base_uri": "https://localhost:8080/",
          "height": 0
        }
      },
      "source": [
        "sum_of_squares(5)"
      ],
      "execution_count": 208,
      "outputs": [
        {
          "output_type": "execute_result",
          "data": {
            "text/plain": [
              "30"
            ]
          },
          "metadata": {
            "tags": []
          },
          "execution_count": 208
        }
      ]
    },
    {
      "cell_type": "code",
      "metadata": {
        "id": "fGP1QkdrWxKu",
        "colab_type": "code",
        "colab": {}
      },
      "source": [
        "sum_5 = sum_of_squares(5)"
      ],
      "execution_count": 0,
      "outputs": []
    },
    {
      "cell_type": "code",
      "metadata": {
        "id": "KshU4IgCW1K4",
        "colab_type": "code",
        "colab": {}
      },
      "source": [
        "def print_squares_with_startval(stop_val, start_val = 0):\n",
        "  \"\"\"Prints the squares of numbers starting from start_val (inclusive) and ending with stop_val (exclusive)\"\"\"\n",
        "  for i in range(start_val, stop_val):\n",
        "    print (i , i**2)"
      ],
      "execution_count": 0,
      "outputs": []
    },
    {
      "cell_type": "code",
      "metadata": {
        "id": "0VBEHuSEXHE1",
        "colab_type": "code",
        "outputId": "eceac655-7808-4810-871c-daab4ec994bd",
        "colab": {
          "base_uri": "https://localhost:8080/",
          "height": 0
        }
      },
      "source": [
        "print_squares_with_startval(5, 2)"
      ],
      "execution_count": 211,
      "outputs": [
        {
          "output_type": "stream",
          "text": [
            "2 4\n",
            "3 9\n",
            "4 16\n"
          ],
          "name": "stdout"
        }
      ]
    },
    {
      "cell_type": "code",
      "metadata": {
        "id": "xtjv8eBSXJcU",
        "colab_type": "code",
        "colab": {}
      },
      "source": [
        "print_squares_with_startval?"
      ],
      "execution_count": 0,
      "outputs": []
    },
    {
      "cell_type": "markdown",
      "metadata": {
        "id": "NEUT8F6QamzU",
        "colab_type": "text"
      },
      "source": [
        "# Lists"
      ]
    },
    {
      "cell_type": "code",
      "metadata": {
        "id": "w0YdzytNany6",
        "colab_type": "code",
        "colab": {}
      },
      "source": [
        "my_phone = [name, is_android, screen_size]"
      ],
      "execution_count": 0,
      "outputs": []
    },
    {
      "cell_type": "code",
      "metadata": {
        "id": "znFZcOHwavn5",
        "colab_type": "code",
        "outputId": "27671832-e183-465e-872d-8e6222b29d47",
        "colab": {
          "base_uri": "https://localhost:8080/",
          "height": 0
        }
      },
      "source": [
        "type(my_phone)"
      ],
      "execution_count": 214,
      "outputs": [
        {
          "output_type": "execute_result",
          "data": {
            "text/plain": [
              "list"
            ]
          },
          "metadata": {
            "tags": []
          },
          "execution_count": 214
        }
      ]
    },
    {
      "cell_type": "code",
      "metadata": {
        "id": "s3hC7aNoax5a",
        "colab_type": "code",
        "outputId": "6e632303-7ed4-44fc-a0fc-f7ed491b9383",
        "colab": {
          "base_uri": "https://localhost:8080/",
          "height": 0
        }
      },
      "source": [
        "print(my_phone)"
      ],
      "execution_count": 215,
      "outputs": [
        {
          "output_type": "stream",
          "text": [
            "['iPhone 5s', False, 4.3]\n"
          ],
          "name": "stdout"
        }
      ]
    },
    {
      "cell_type": "code",
      "metadata": {
        "id": "0DEZsBFPazSA",
        "colab_type": "code",
        "outputId": "270bb0ad-0c4f-48b5-eb9c-2a56024250da",
        "colab": {
          "base_uri": "https://localhost:8080/",
          "height": 0
        }
      },
      "source": [
        "my_phone[2]"
      ],
      "execution_count": 216,
      "outputs": [
        {
          "output_type": "execute_result",
          "data": {
            "text/plain": [
              "4.3"
            ]
          },
          "metadata": {
            "tags": []
          },
          "execution_count": 216
        }
      ]
    },
    {
      "cell_type": "code",
      "metadata": {
        "id": "eBK65TAoa4fK",
        "colab_type": "code",
        "outputId": "fab43ea0-f36d-4d58-edc8-f73ee9e649d1",
        "colab": {
          "base_uri": "https://localhost:8080/",
          "height": 0
        }
      },
      "source": [
        "type(my_phone[0])"
      ],
      "execution_count": 217,
      "outputs": [
        {
          "output_type": "execute_result",
          "data": {
            "text/plain": [
              "str"
            ]
          },
          "metadata": {
            "tags": []
          },
          "execution_count": 217
        }
      ]
    },
    {
      "cell_type": "code",
      "metadata": {
        "id": "R5MUjfqLa6jq",
        "colab_type": "code",
        "outputId": "ae440cdf-b6eb-4453-f0f4-5b034ad23095",
        "colab": {
          "base_uri": "https://localhost:8080/",
          "height": 0
        }
      },
      "source": [
        "my_phone[1:3]"
      ],
      "execution_count": 218,
      "outputs": [
        {
          "output_type": "execute_result",
          "data": {
            "text/plain": [
              "[False, 4.3]"
            ]
          },
          "metadata": {
            "tags": []
          },
          "execution_count": 218
        }
      ]
    },
    {
      "cell_type": "code",
      "metadata": {
        "id": "DJxUga5Ka-WG",
        "colab_type": "code",
        "outputId": "316fd949-7576-46e9-ea63-80eee4034edc",
        "colab": {
          "base_uri": "https://localhost:8080/",
          "height": 0
        }
      },
      "source": [
        "my_dads_phone = my_phone\n",
        "print(my_dads_phone)"
      ],
      "execution_count": 219,
      "outputs": [
        {
          "output_type": "stream",
          "text": [
            "['iPhone 5s', False, 4.3]\n"
          ],
          "name": "stdout"
        }
      ]
    },
    {
      "cell_type": "code",
      "metadata": {
        "id": "2MG34sObbIQU",
        "colab_type": "code",
        "colab": {}
      },
      "source": [
        "my_phone[2] = 4"
      ],
      "execution_count": 0,
      "outputs": []
    },
    {
      "cell_type": "code",
      "metadata": {
        "id": "Z3YndaQWbNyh",
        "colab_type": "code",
        "outputId": "d809b655-36be-46e4-8783-05b423a4fedb",
        "colab": {
          "base_uri": "https://localhost:8080/",
          "height": 0
        }
      },
      "source": [
        "print(my_phone)"
      ],
      "execution_count": 221,
      "outputs": [
        {
          "output_type": "stream",
          "text": [
            "['iPhone 5s', False, 4]\n"
          ],
          "name": "stdout"
        }
      ]
    },
    {
      "cell_type": "code",
      "metadata": {
        "id": "Ro-yczbAbPLx",
        "colab_type": "code",
        "outputId": "c839e19b-714e-4f1a-d74e-9f29c9142547",
        "colab": {
          "base_uri": "https://localhost:8080/",
          "height": 0
        }
      },
      "source": [
        "print(my_dads_phone)"
      ],
      "execution_count": 222,
      "outputs": [
        {
          "output_type": "stream",
          "text": [
            "['iPhone 5s', False, 4]\n"
          ],
          "name": "stdout"
        }
      ]
    },
    {
      "cell_type": "code",
      "metadata": {
        "id": "jZX5xgGQbRxl",
        "colab_type": "code",
        "colab": {}
      },
      "source": [
        "my_dads_phone = list(my_phone)\n",
        "# my_dads_phone = my_phone[:]"
      ],
      "execution_count": 0,
      "outputs": []
    },
    {
      "cell_type": "code",
      "metadata": {
        "id": "hLeiUELGbfnR",
        "colab_type": "code",
        "colab": {}
      },
      "source": [
        "my_phone[2] = 4.3"
      ],
      "execution_count": 0,
      "outputs": []
    },
    {
      "cell_type": "code",
      "metadata": {
        "id": "NcnLRx74bhvn",
        "colab_type": "code",
        "outputId": "593c354e-929c-4daf-9e3c-13eb71bdffdf",
        "colab": {
          "base_uri": "https://localhost:8080/",
          "height": 0
        }
      },
      "source": [
        "print(my_phone)\n",
        "print(my_dads_phone)"
      ],
      "execution_count": 225,
      "outputs": [
        {
          "output_type": "stream",
          "text": [
            "['iPhone 5s', False, 4.3]\n",
            "['iPhone 5s', False, 4]\n"
          ],
          "name": "stdout"
        }
      ]
    },
    {
      "cell_type": "code",
      "metadata": {
        "id": "K1yoXlp-bkLK",
        "colab_type": "code",
        "outputId": "44f689d8-4a37-43a3-a32e-c459085bb41f",
        "colab": {
          "base_uri": "https://localhost:8080/",
          "height": 0
        }
      },
      "source": [
        "len(my_phone)"
      ],
      "execution_count": 226,
      "outputs": [
        {
          "output_type": "execute_result",
          "data": {
            "text/plain": [
              "3"
            ]
          },
          "metadata": {
            "tags": []
          },
          "execution_count": 226
        }
      ]
    },
    {
      "cell_type": "code",
      "metadata": {
        "id": "V3NvYANKbnh_",
        "colab_type": "code",
        "colab": {}
      },
      "source": [
        "len?"
      ],
      "execution_count": 0,
      "outputs": []
    },
    {
      "cell_type": "code",
      "metadata": {
        "id": "GqBPaAS5bpw6",
        "colab_type": "code",
        "colab": {}
      },
      "source": [
        "my_phone.append('3G')"
      ],
      "execution_count": 0,
      "outputs": []
    },
    {
      "cell_type": "code",
      "metadata": {
        "id": "0LY0vJlFbv61",
        "colab_type": "code",
        "outputId": "b04b6971-f974-46f8-97bf-00e842aca81a",
        "colab": {
          "base_uri": "https://localhost:8080/",
          "height": 0
        }
      },
      "source": [
        "print(my_phone)"
      ],
      "execution_count": 229,
      "outputs": [
        {
          "output_type": "stream",
          "text": [
            "['iPhone 5s', False, 4.3, '3G']\n"
          ],
          "name": "stdout"
        }
      ]
    },
    {
      "cell_type": "code",
      "metadata": {
        "id": "ELv3B2lcbw4K",
        "colab_type": "code",
        "outputId": "ff44ce64-f434-4675-9156-197e01a400dc",
        "colab": {
          "base_uri": "https://localhost:8080/",
          "height": 0
        }
      },
      "source": [
        "len(my_phone)"
      ],
      "execution_count": 230,
      "outputs": [
        {
          "output_type": "execute_result",
          "data": {
            "text/plain": [
              "4"
            ]
          },
          "metadata": {
            "tags": []
          },
          "execution_count": 230
        }
      ]
    },
    {
      "cell_type": "code",
      "metadata": {
        "id": "QZlmh30mbyqn",
        "colab_type": "code",
        "colab": {}
      },
      "source": [
        "iphone5s_some_prefs = ['single_sim', 35000]"
      ],
      "execution_count": 0,
      "outputs": []
    },
    {
      "cell_type": "code",
      "metadata": {
        "id": "kKuLGThFb6I8",
        "colab_type": "code",
        "colab": {}
      },
      "source": [
        "my_phone = my_phone + iphone5s_some_prefs"
      ],
      "execution_count": 0,
      "outputs": []
    },
    {
      "cell_type": "code",
      "metadata": {
        "id": "0Lx0f606b_FY",
        "colab_type": "code",
        "outputId": "66316297-5cfa-4428-eece-1167eeeb204d",
        "colab": {
          "base_uri": "https://localhost:8080/",
          "height": 0
        }
      },
      "source": [
        "print(my_phone)"
      ],
      "execution_count": 233,
      "outputs": [
        {
          "output_type": "stream",
          "text": [
            "['iPhone 5s', False, 4.3, '3G', 'single_sim', 35000]\n"
          ],
          "name": "stdout"
        }
      ]
    },
    {
      "cell_type": "code",
      "metadata": {
        "id": "6zNovNkZcAhG",
        "colab_type": "code",
        "outputId": "9dff683e-5de0-480a-ff34-0ef7a2fd6c6e",
        "colab": {
          "base_uri": "https://localhost:8080/",
          "height": 0
        }
      },
      "source": [
        "for data in my_phone:\n",
        "  print(data)"
      ],
      "execution_count": 234,
      "outputs": [
        {
          "output_type": "stream",
          "text": [
            "iPhone 5s\n",
            "False\n",
            "4.3\n",
            "3G\n",
            "single_sim\n",
            "35000\n"
          ],
          "name": "stdout"
        }
      ]
    },
    {
      "cell_type": "code",
      "metadata": {
        "id": "gJ2vgUV3cKaH",
        "colab_type": "code",
        "outputId": "6f3eed76-51ec-4f85-ac35-b45da25b1f8a",
        "colab": {
          "base_uri": "https://localhost:8080/",
          "height": 0
        }
      },
      "source": [
        "range(5)"
      ],
      "execution_count": 235,
      "outputs": [
        {
          "output_type": "execute_result",
          "data": {
            "text/plain": [
              "range(0, 5)"
            ]
          },
          "metadata": {
            "tags": []
          },
          "execution_count": 235
        }
      ]
    },
    {
      "cell_type": "code",
      "metadata": {
        "id": "HD8Dv1vWcNty",
        "colab_type": "code",
        "outputId": "672904db-6eca-4ee0-dc7e-2abb43d8af1c",
        "colab": {
          "base_uri": "https://localhost:8080/",
          "height": 0
        }
      },
      "source": [
        "print(list(range(5)))"
      ],
      "execution_count": 236,
      "outputs": [
        {
          "output_type": "stream",
          "text": [
            "[0, 1, 2, 3, 4]\n"
          ],
          "name": "stdout"
        }
      ]
    },
    {
      "cell_type": "code",
      "metadata": {
        "id": "9mX05ylFcQxE",
        "colab_type": "code",
        "outputId": "88f73472-b786-46db-8407-1ea3959f7789",
        "colab": {
          "base_uri": "https://localhost:8080/",
          "height": 0
        }
      },
      "source": [
        "a = list(range(5))\n",
        "print(a)"
      ],
      "execution_count": 237,
      "outputs": [
        {
          "output_type": "stream",
          "text": [
            "[0, 1, 2, 3, 4]\n"
          ],
          "name": "stdout"
        }
      ]
    },
    {
      "cell_type": "code",
      "metadata": {
        "id": "uqKrTubAcYxd",
        "colab_type": "code",
        "colab": {}
      },
      "source": [
        "b = list(map(lambda x: x**2, a))"
      ],
      "execution_count": 0,
      "outputs": []
    },
    {
      "cell_type": "code",
      "metadata": {
        "id": "ApS_bIJGck9c",
        "colab_type": "code",
        "outputId": "846b35d7-8922-4304-f5ca-0d8315fabe59",
        "colab": {
          "base_uri": "https://localhost:8080/",
          "height": 0
        }
      },
      "source": [
        "print(b)"
      ],
      "execution_count": 239,
      "outputs": [
        {
          "output_type": "stream",
          "text": [
            "[0, 1, 4, 9, 16]\n"
          ],
          "name": "stdout"
        }
      ]
    },
    {
      "cell_type": "code",
      "metadata": {
        "id": "553AMMo9cl8L",
        "colab_type": "code",
        "outputId": "e1d770e2-9080-4f12-e2d0-0b8f2a424b42",
        "colab": {
          "base_uri": "https://localhost:8080/",
          "height": 0
        }
      },
      "source": [
        "c = list(filter(lambda x: x % 2 == 0, b))\n",
        "print(c)"
      ],
      "execution_count": 240,
      "outputs": [
        {
          "output_type": "stream",
          "text": [
            "[0, 4, 16]\n"
          ],
          "name": "stdout"
        }
      ]
    },
    {
      "cell_type": "code",
      "metadata": {
        "id": "yNMVIPhGcz54",
        "colab_type": "code",
        "outputId": "0c90f750-7c91-4f80-dcbc-3f5076f7ae92",
        "colab": {
          "base_uri": "https://localhost:8080/",
          "height": 0
        }
      },
      "source": [
        "print(my_phone)\n",
        "type(my_phone)"
      ],
      "execution_count": 241,
      "outputs": [
        {
          "output_type": "stream",
          "text": [
            "['iPhone 5s', False, 4.3, '3G', 'single_sim', 35000]\n"
          ],
          "name": "stdout"
        },
        {
          "output_type": "execute_result",
          "data": {
            "text/plain": [
              "list"
            ]
          },
          "metadata": {
            "tags": []
          },
          "execution_count": 241
        }
      ]
    },
    {
      "cell_type": "markdown",
      "metadata": {
        "id": "iXIryw_wkSep",
        "colab_type": "text"
      },
      "source": [
        "# Tuples, Sets, and Dicts"
      ]
    },
    {
      "cell_type": "code",
      "metadata": {
        "id": "zTEUhr5ii07E",
        "colab_type": "code",
        "outputId": "a745a835-d67e-43e9-fbe9-0f9ebb642238",
        "colab": {
          "base_uri": "https://localhost:8080/",
          "height": 54
        }
      },
      "source": [
        "my_phone_tuple = ('iPhone 5s', False, 4.3)\n",
        "print(my_phone_tuple)\n",
        "type(my_phone_tuple)"
      ],
      "execution_count": 242,
      "outputs": [
        {
          "output_type": "stream",
          "text": [
            "('iPhone 5s', False, 4.3)\n"
          ],
          "name": "stdout"
        },
        {
          "output_type": "execute_result",
          "data": {
            "text/plain": [
              "tuple"
            ]
          },
          "metadata": {
            "tags": []
          },
          "execution_count": 242
        }
      ]
    },
    {
      "cell_type": "code",
      "metadata": {
        "id": "DiFafO6Ti9uB",
        "colab_type": "code",
        "outputId": "02f1ec8a-b68b-4e18-f187-61a255950eab",
        "colab": {
          "base_uri": "https://localhost:8080/",
          "height": 36
        }
      },
      "source": [
        "my_phone_tuple[0:2]"
      ],
      "execution_count": 243,
      "outputs": [
        {
          "output_type": "execute_result",
          "data": {
            "text/plain": [
              "('iPhone 5s', False)"
            ]
          },
          "metadata": {
            "tags": []
          },
          "execution_count": 243
        }
      ]
    },
    {
      "cell_type": "code",
      "metadata": {
        "id": "Cv0N8__3jCGl",
        "colab_type": "code",
        "outputId": "cbabb261-30e7-44f5-f092-c3072c2d69b6",
        "colab": {
          "base_uri": "https://localhost:8080/",
          "height": 73
        }
      },
      "source": [
        "for data in my_phone_tuple:\n",
        "  print(data)"
      ],
      "execution_count": 244,
      "outputs": [
        {
          "output_type": "stream",
          "text": [
            "iPhone 5s\n",
            "False\n",
            "4.3\n"
          ],
          "name": "stdout"
        }
      ]
    },
    {
      "cell_type": "code",
      "metadata": {
        "id": "3ReasIC9jFps",
        "colab_type": "code",
        "colab": {}
      },
      "source": [
        "#my_phone_tuple[2] = 4"
      ],
      "execution_count": 0,
      "outputs": []
    },
    {
      "cell_type": "code",
      "metadata": {
        "id": "Mrmaol0YjINt",
        "colab_type": "code",
        "colab": {}
      },
      "source": [
        "import time"
      ],
      "execution_count": 0,
      "outputs": []
    },
    {
      "cell_type": "code",
      "metadata": {
        "id": "qnnhdMQFjZz9",
        "colab_type": "code",
        "outputId": "da94f4ec-076d-4726-da41-6352318368c9",
        "colab": {
          "base_uri": "https://localhost:8080/",
          "height": 36
        }
      },
      "source": [
        "tic = time.time()\n",
        "print(tic)"
      ],
      "execution_count": 247,
      "outputs": [
        {
          "output_type": "stream",
          "text": [
            "1582823305.4765673\n"
          ],
          "name": "stdout"
        }
      ]
    },
    {
      "cell_type": "code",
      "metadata": {
        "id": "caZRUKqcjeeR",
        "colab_type": "code",
        "colab": {}
      },
      "source": [
        "time.time?"
      ],
      "execution_count": 0,
      "outputs": []
    },
    {
      "cell_type": "code",
      "metadata": {
        "id": "evmSlFJPjf2N",
        "colab_type": "code",
        "outputId": "5010e0ed-0573-49d1-ccf6-1f6fd0961748",
        "colab": {
          "base_uri": "https://localhost:8080/",
          "height": 36
        }
      },
      "source": [
        "tic = time.time()\n",
        "# do something that takes some time that is to be measured\n",
        "toc = time.time()\n",
        "print('Elapsed time in seconds', toc - tic)"
      ],
      "execution_count": 249,
      "outputs": [
        {
          "output_type": "stream",
          "text": [
            "Elapsed time in seconds 3.147125244140625e-05\n"
          ],
          "name": "stdout"
        }
      ]
    },
    {
      "cell_type": "code",
      "metadata": {
        "id": "j-4qqt9ejqIq",
        "colab_type": "code",
        "outputId": "acd9e52c-d385-4041-d7ff-f36a1a805db8",
        "colab": {
          "base_uri": "https://localhost:8080/",
          "height": 36
        }
      },
      "source": [
        "my_list = list(range(1000000))\n",
        "tic = time.time()\n",
        "my_list_squared = map(lambda i: i**2, my_list)\n",
        "toc = time.time()\n",
        "print('Elapsed time in seconds', toc - tic)"
      ],
      "execution_count": 250,
      "outputs": [
        {
          "output_type": "stream",
          "text": [
            "Elapsed time in seconds 0.016706228256225586\n"
          ],
          "name": "stdout"
        }
      ]
    },
    {
      "cell_type": "code",
      "metadata": {
        "id": "6pu03oqbj5z4",
        "colab_type": "code",
        "outputId": "75627fea-45f9-4bf1-ebc1-d4d995e05a1a",
        "colab": {
          "base_uri": "https://localhost:8080/",
          "height": 36
        }
      },
      "source": [
        "my_tuple = tuple(range(1000000))\n",
        "tic = time.time()\n",
        "my_tuple_squared = map(lambda i: i**2, my_tuple)\n",
        "toc = time.time()\n",
        "print('Elapsed time in seconds', toc - tic)"
      ],
      "execution_count": 251,
      "outputs": [
        {
          "output_type": "stream",
          "text": [
            "Elapsed time in seconds 0.018319129943847656\n"
          ],
          "name": "stdout"
        }
      ]
    },
    {
      "cell_type": "code",
      "metadata": {
        "id": "RO5cewUtkDk0",
        "colab_type": "code",
        "colab": {}
      },
      "source": [
        "my_set = set(my_phone)"
      ],
      "execution_count": 0,
      "outputs": []
    },
    {
      "cell_type": "code",
      "metadata": {
        "id": "tHmF19zjka0p",
        "colab_type": "code",
        "outputId": "7e5a75b6-fa01-4086-8e1f-9978ebb749f0",
        "colab": {
          "base_uri": "https://localhost:8080/",
          "height": 36
        }
      },
      "source": [
        "print(my_set)"
      ],
      "execution_count": 253,
      "outputs": [
        {
          "output_type": "stream",
          "text": [
            "{False, 4.3, 'iPhone 5s', 'single_sim', '3G', 35000}\n"
          ],
          "name": "stdout"
        }
      ]
    },
    {
      "cell_type": "code",
      "metadata": {
        "id": "zj0fCKqDkcQC",
        "colab_type": "code",
        "colab": {}
      },
      "source": [
        "my_phone.append(4.3)"
      ],
      "execution_count": 0,
      "outputs": []
    },
    {
      "cell_type": "code",
      "metadata": {
        "id": "tTFDektFkhhj",
        "colab_type": "code",
        "outputId": "5ba838db-554e-4433-a7b9-03213b6831a2",
        "colab": {
          "base_uri": "https://localhost:8080/",
          "height": 36
        }
      },
      "source": [
        "print(my_phone)"
      ],
      "execution_count": 255,
      "outputs": [
        {
          "output_type": "stream",
          "text": [
            "['iPhone 5s', False, 4.3, '3G', 'single_sim', 35000, 4.3]\n"
          ],
          "name": "stdout"
        }
      ]
    },
    {
      "cell_type": "code",
      "metadata": {
        "id": "zu54Dw4skifm",
        "colab_type": "code",
        "colab": {}
      },
      "source": [
        "my_set = set(my_phone)"
      ],
      "execution_count": 0,
      "outputs": []
    },
    {
      "cell_type": "code",
      "metadata": {
        "id": "dScJWQKhklqS",
        "colab_type": "code",
        "outputId": "1aabae82-fafa-46d3-c6ca-6d1b2981aa2b",
        "colab": {
          "base_uri": "https://localhost:8080/",
          "height": 36
        }
      },
      "source": [
        "print(my_set)"
      ],
      "execution_count": 257,
      "outputs": [
        {
          "output_type": "stream",
          "text": [
            "{False, 4.3, 'iPhone 5s', 'single_sim', '3G', 35000}\n"
          ],
          "name": "stdout"
        }
      ]
    },
    {
      "cell_type": "code",
      "metadata": {
        "id": "HPag6Cr3kr_I",
        "colab_type": "code",
        "outputId": "8529a418-3d48-4418-b1f8-3489643fc646",
        "colab": {
          "base_uri": "https://localhost:8080/",
          "height": 92
        }
      },
      "source": [
        "my_list = list(range(1000000))\n",
        "tic = time.time()\n",
        "print(98731 in my_list)\n",
        "print(131591 in my_list)\n",
        "print(1111111111 in my_list)\n",
        "toc = time.time()\n",
        "print('Elapsed time', toc - tic)"
      ],
      "execution_count": 258,
      "outputs": [
        {
          "output_type": "stream",
          "text": [
            "True\n",
            "True\n",
            "False\n",
            "Elapsed time 0.01592278480529785\n"
          ],
          "name": "stdout"
        }
      ]
    },
    {
      "cell_type": "code",
      "metadata": {
        "id": "oGPTjV3xlFam",
        "colab_type": "code",
        "outputId": "db854dfa-fc52-45a5-c6cd-cd1bdb9d1e7a",
        "colab": {
          "base_uri": "https://localhost:8080/",
          "height": 92
        }
      },
      "source": [
        "my_set = set(range(1000000))\n",
        "tic = time.time()\n",
        "print(98731 in my_set)\n",
        "print(131591 in my_set)\n",
        "print(1111111111 in my_set)\n",
        "toc = time.time()\n",
        "print('Elapsed time', toc - tic)"
      ],
      "execution_count": 259,
      "outputs": [
        {
          "output_type": "stream",
          "text": [
            "True\n",
            "True\n",
            "False\n",
            "Elapsed time 0.0006604194641113281\n"
          ],
          "name": "stdout"
        }
      ]
    },
    {
      "cell_type": "code",
      "metadata": {
        "id": "f4gFVlIPlKqY",
        "colab_type": "code",
        "colab": {}
      },
      "source": [
        "my_phone_dict = {}"
      ],
      "execution_count": 0,
      "outputs": []
    },
    {
      "cell_type": "code",
      "metadata": {
        "id": "rR7Wuj-plUUj",
        "colab_type": "code",
        "outputId": "1a00d3cf-b0c8-4d55-a0c5-ed9a0d5002a5",
        "colab": {
          "base_uri": "https://localhost:8080/",
          "height": 36
        }
      },
      "source": [
        "type(my_phone_dict)"
      ],
      "execution_count": 261,
      "outputs": [
        {
          "output_type": "execute_result",
          "data": {
            "text/plain": [
              "dict"
            ]
          },
          "metadata": {
            "tags": []
          },
          "execution_count": 261
        }
      ]
    },
    {
      "cell_type": "code",
      "metadata": {
        "id": "6lOSqt7AlVjo",
        "colab_type": "code",
        "colab": {}
      },
      "source": [
        "my_phone_dict['name'] = 'iPhone 5s'\n",
        "my_phone_dict['isAndroid'] = False\n",
        "my_phone_dict['screenSize'] = 4.3"
      ],
      "execution_count": 0,
      "outputs": []
    },
    {
      "cell_type": "code",
      "metadata": {
        "id": "SkH6EGBblg9V",
        "colab_type": "code",
        "outputId": "c545ff36-21ed-4c66-c38a-f9919039adae",
        "colab": {
          "base_uri": "https://localhost:8080/",
          "height": 36
        }
      },
      "source": [
        "print(my_phone_dict)"
      ],
      "execution_count": 263,
      "outputs": [
        {
          "output_type": "stream",
          "text": [
            "{'name': 'iPhone 5s', 'isAndroid': False, 'screenSize': 4.3}\n"
          ],
          "name": "stdout"
        }
      ]
    },
    {
      "cell_type": "code",
      "metadata": {
        "id": "T9z8HizClim9",
        "colab_type": "code",
        "outputId": "061f1809-d7b8-444b-c89b-02de5246fdc4",
        "colab": {
          "base_uri": "https://localhost:8080/",
          "height": 36
        }
      },
      "source": [
        "my_phone_dict['name']"
      ],
      "execution_count": 264,
      "outputs": [
        {
          "output_type": "execute_result",
          "data": {
            "text/plain": [
              "'iPhone 5s'"
            ]
          },
          "metadata": {
            "tags": []
          },
          "execution_count": 264
        }
      ]
    },
    {
      "cell_type": "code",
      "metadata": {
        "id": "7pHwVu93llst",
        "colab_type": "code",
        "outputId": "3e7d7351-ce09-4ae0-a811-0a6b52cbe0fe",
        "colab": {
          "base_uri": "https://localhost:8080/",
          "height": 36
        }
      },
      "source": [
        "print(my_phone_dict.keys())"
      ],
      "execution_count": 265,
      "outputs": [
        {
          "output_type": "stream",
          "text": [
            "dict_keys(['name', 'isAndroid', 'screenSize'])\n"
          ],
          "name": "stdout"
        }
      ]
    },
    {
      "cell_type": "code",
      "metadata": {
        "id": "ogBrVfpHlsSc",
        "colab_type": "code",
        "outputId": "13ad54ff-ca1a-4cb3-b3c2-721c1dfe07a4",
        "colab": {
          "base_uri": "https://localhost:8080/",
          "height": 36
        }
      },
      "source": [
        "print(my_phone_dict.values())"
      ],
      "execution_count": 266,
      "outputs": [
        {
          "output_type": "stream",
          "text": [
            "dict_values(['iPhone 5s', False, 4.3])\n"
          ],
          "name": "stdout"
        }
      ]
    },
    {
      "cell_type": "code",
      "metadata": {
        "id": "HpK08O1alvtd",
        "colab_type": "code",
        "outputId": "e7ca6c07-47b0-4cd3-9cf1-dbacc985f911",
        "colab": {
          "base_uri": "https://localhost:8080/",
          "height": 36
        }
      },
      "source": [
        "print(my_phone_dict.items())"
      ],
      "execution_count": 267,
      "outputs": [
        {
          "output_type": "stream",
          "text": [
            "dict_items([('name', 'iPhone 5s'), ('isAndroid', False), ('screenSize', 4.3)])\n"
          ],
          "name": "stdout"
        }
      ]
    },
    {
      "cell_type": "code",
      "metadata": {
        "id": "-78yQjyilx4g",
        "colab_type": "code",
        "outputId": "93003d8e-1944-4c29-8b94-01392ce38a2a",
        "colab": {
          "base_uri": "https://localhost:8080/",
          "height": 73
        }
      },
      "source": [
        "for key in my_phone_dict.keys():\n",
        "  print(key, ':', my_phone_dict[key])"
      ],
      "execution_count": 268,
      "outputs": [
        {
          "output_type": "stream",
          "text": [
            "name : iPhone 5s\n",
            "isAndroid : False\n",
            "screenSize : 4.3\n"
          ],
          "name": "stdout"
        }
      ]
    },
    {
      "cell_type": "markdown",
      "metadata": {
        "id": "4nvsLqecoOoP",
        "colab_type": "text"
      },
      "source": [
        "# Python Packages"
      ]
    },
    {
      "cell_type": "code",
      "metadata": {
        "id": "eCkZm4lxoQJB",
        "colab_type": "code",
        "colab": {}
      },
      "source": [
        "import math"
      ],
      "execution_count": 0,
      "outputs": []
    },
    {
      "cell_type": "code",
      "metadata": {
        "id": "lSiEHau3oV8S",
        "colab_type": "code",
        "outputId": "9e178170-b72e-4946-c51f-a2078d524c70",
        "colab": {
          "base_uri": "https://localhost:8080/",
          "height": 0
        }
      },
      "source": [
        "a = math.sqrt(100)\n",
        "print(a)"
      ],
      "execution_count": 270,
      "outputs": [
        {
          "output_type": "stream",
          "text": [
            "10.0\n"
          ],
          "name": "stdout"
        }
      ]
    },
    {
      "cell_type": "code",
      "metadata": {
        "id": "3yZAgHD1oX2H",
        "colab_type": "code",
        "outputId": "411148a8-a601-4aef-b979-c4c29a4fbfc5",
        "colab": {
          "base_uri": "https://localhost:8080/",
          "height": 0
        }
      },
      "source": [
        "a = math.pow(100, 0.5)\n",
        "print(a)"
      ],
      "execution_count": 271,
      "outputs": [
        {
          "output_type": "stream",
          "text": [
            "10.0\n"
          ],
          "name": "stdout"
        }
      ]
    },
    {
      "cell_type": "code",
      "metadata": {
        "id": "pdPODnnzoaWP",
        "colab_type": "code",
        "outputId": "7b038385-1beb-4a6a-b87d-5dcb8637715f",
        "colab": {
          "base_uri": "https://localhost:8080/",
          "height": 0
        }
      },
      "source": [
        "x = 100\n",
        "y = 1\n",
        "for i in range(1, x):\n",
        "  y *= i\n",
        "print('Factorial of', x, 'is', y)"
      ],
      "execution_count": 272,
      "outputs": [
        {
          "output_type": "stream",
          "text": [
            "Factorial of 100 is 933262154439441526816992388562667004907159682643816214685929638952175999932299156089414639761565182862536979208272237582511852109168640000000000000000000000\n"
          ],
          "name": "stdout"
        }
      ]
    },
    {
      "cell_type": "code",
      "metadata": {
        "id": "2Wc0vvPxopEH",
        "colab_type": "code",
        "colab": {}
      },
      "source": [
        "y = math.factorial(x)"
      ],
      "execution_count": 0,
      "outputs": []
    },
    {
      "cell_type": "code",
      "metadata": {
        "id": "M7amwM7YoxLv",
        "colab_type": "code",
        "colab": {}
      },
      "source": [
        "import math as m"
      ],
      "execution_count": 0,
      "outputs": []
    },
    {
      "cell_type": "code",
      "metadata": {
        "id": "EPPb0q4xo0yX",
        "colab_type": "code",
        "colab": {}
      },
      "source": [
        "y = m.factorial(x)"
      ],
      "execution_count": 0,
      "outputs": []
    },
    {
      "cell_type": "code",
      "metadata": {
        "id": "lyMXPcaeo2Aw",
        "colab_type": "code",
        "colab": {}
      },
      "source": [
        "from math import factorial"
      ],
      "execution_count": 0,
      "outputs": []
    },
    {
      "cell_type": "code",
      "metadata": {
        "id": "azItJu7Ao5bb",
        "colab_type": "code",
        "colab": {}
      },
      "source": [
        "y = factorial(x)"
      ],
      "execution_count": 0,
      "outputs": []
    },
    {
      "cell_type": "code",
      "metadata": {
        "id": "5YrGXzyYo6lb",
        "colab_type": "code",
        "outputId": "89aed722-2c57-4b15-fddc-eaef3f28b78f",
        "colab": {
          "base_uri": "https://localhost:8080/",
          "height": 0
        }
      },
      "source": [
        "vals = list(range(1, 100))\n",
        "tic = time.time()\n",
        "for x in vals:\n",
        "  y = 1\n",
        "  for i in range(1, x):\n",
        "    y *= i\n",
        "toc = time.time()\n",
        "print('Elapsed time in secs with own function', toc - tic)\n",
        "\n",
        "tic = time.time()\n",
        "for x in vals:\n",
        "  y = math.factorial(x)\n",
        "toc = time.time()\n",
        "print('Elapsed time in secs with own function', toc - tic)"
      ],
      "execution_count": 278,
      "outputs": [
        {
          "output_type": "stream",
          "text": [
            "Elapsed time in secs with own function 0.0013110637664794922\n",
            "Elapsed time in secs with own function 0.0001957416534423828\n"
          ],
          "name": "stdout"
        }
      ]
    },
    {
      "cell_type": "code",
      "metadata": {
        "id": "u1CRIBPtpP7S",
        "colab_type": "code",
        "colab": {}
      },
      "source": [
        "!echo 'def hello():' > my_first_module.py\n",
        "!echo '    print(\"hello, i am living in a different file!!!\")' >> my_first_module.py"
      ],
      "execution_count": 0,
      "outputs": []
    },
    {
      "cell_type": "code",
      "metadata": {
        "id": "3q0hPJ8IpwYX",
        "colab_type": "code",
        "outputId": "c08b5528-a7ac-4b5b-8273-47a1b97e313b",
        "colab": {
          "base_uri": "https://localhost:8080/",
          "height": 0
        }
      },
      "source": [
        "!cat my_first_module.py"
      ],
      "execution_count": 280,
      "outputs": [
        {
          "output_type": "stream",
          "text": [
            "def hello():\n",
            "    print(\"hello, i am living in a different file!!!\")\n"
          ],
          "name": "stdout"
        }
      ]
    },
    {
      "cell_type": "code",
      "metadata": {
        "id": "6ItBO96rp1O0",
        "colab_type": "code",
        "colab": {}
      },
      "source": [
        "import my_first_module"
      ],
      "execution_count": 0,
      "outputs": []
    },
    {
      "cell_type": "code",
      "metadata": {
        "id": "HAPgfIjMqEhz",
        "colab_type": "code",
        "outputId": "f7f5e28a-fdde-432a-aa9e-0f771d95fd0c",
        "colab": {
          "base_uri": "https://localhost:8080/",
          "height": 0
        }
      },
      "source": [
        "my_first_module.hello()"
      ],
      "execution_count": 282,
      "outputs": [
        {
          "output_type": "stream",
          "text": [
            "hello, i am living in a different file!!!\n"
          ],
          "name": "stdout"
        }
      ]
    },
    {
      "cell_type": "code",
      "metadata": {
        "id": "iiJNMrLGqGm0",
        "colab_type": "code",
        "colab": {}
      },
      "source": [
        "from my_first_module import hello"
      ],
      "execution_count": 0,
      "outputs": []
    },
    {
      "cell_type": "code",
      "metadata": {
        "id": "t7idGE7-qJUV",
        "colab_type": "code",
        "outputId": "89951f6a-8100-48ff-f8e5-18a768310fc2",
        "colab": {
          "base_uri": "https://localhost:8080/",
          "height": 0
        }
      },
      "source": [
        "hello()"
      ],
      "execution_count": 284,
      "outputs": [
        {
          "output_type": "stream",
          "text": [
            "hello, i am living in a different file!!!\n"
          ],
          "name": "stdout"
        }
      ]
    },
    {
      "cell_type": "markdown",
      "metadata": {
        "id": "gU7QTkRy3SMz",
        "colab_type": "text"
      },
      "source": [
        "# File handling"
      ]
    },
    {
      "cell_type": "code",
      "metadata": {
        "id": "_CStPzCqqJ3G",
        "colab_type": "code",
        "outputId": "bd284cd6-476a-4b54-992d-4d1f566af3ad",
        "colab": {
          "base_uri": "https://localhost:8080/",
          "height": 411
        }
      },
      "source": [
        "!wget https://www.dropbox.com/s/2uqr4er3o7n9ypa/mobile_cleaned.csv"
      ],
      "execution_count": 285,
      "outputs": [
        {
          "output_type": "stream",
          "text": [
            "--2020-02-27 17:08:37--  https://www.dropbox.com/s/2uqr4er3o7n9ypa/mobile_cleaned.csv\n",
            "Resolving www.dropbox.com (www.dropbox.com)... 162.125.9.1, 2620:100:601f:1::a27d:901\n",
            "Connecting to www.dropbox.com (www.dropbox.com)|162.125.9.1|:443... connected.\n",
            "HTTP request sent, awaiting response... 301 Moved Permanently\n",
            "Location: /s/raw/2uqr4er3o7n9ypa/mobile_cleaned.csv [following]\n",
            "--2020-02-27 17:08:38--  https://www.dropbox.com/s/raw/2uqr4er3o7n9ypa/mobile_cleaned.csv\n",
            "Reusing existing connection to www.dropbox.com:443.\n",
            "HTTP request sent, awaiting response... 302 Found\n",
            "Location: https://uce732158ac0d8c1cd04b02ea459.dl.dropboxusercontent.com/cd/0/inline/Ay7aoGiz1M3Rx1xld_kCDYCzWGRk-ZFCStiri_cSDOUT3RieuS1P0fxJSegV6NP2AkmdxHbuPVSx-hRDNc1jkS-4WwytO3p02G2YXlaqWX_OP7V99BFbB3SFpAJ5Oq_NZR8/file# [following]\n",
            "--2020-02-27 17:08:38--  https://uce732158ac0d8c1cd04b02ea459.dl.dropboxusercontent.com/cd/0/inline/Ay7aoGiz1M3Rx1xld_kCDYCzWGRk-ZFCStiri_cSDOUT3RieuS1P0fxJSegV6NP2AkmdxHbuPVSx-hRDNc1jkS-4WwytO3p02G2YXlaqWX_OP7V99BFbB3SFpAJ5Oq_NZR8/file\n",
            "Resolving uce732158ac0d8c1cd04b02ea459.dl.dropboxusercontent.com (uce732158ac0d8c1cd04b02ea459.dl.dropboxusercontent.com)... 162.125.9.6, 2620:100:601f:6::a27d:906\n",
            "Connecting to uce732158ac0d8c1cd04b02ea459.dl.dropboxusercontent.com (uce732158ac0d8c1cd04b02ea459.dl.dropboxusercontent.com)|162.125.9.6|:443... connected.\n",
            "HTTP request sent, awaiting response... 200 OK\n",
            "Length: 14044 (14K) [text/plain]\n",
            "Saving to: ‘mobile_cleaned.csv.1’\n",
            "\n",
            "\rmobile_cleaned.csv.   0%[                    ]       0  --.-KB/s               \rmobile_cleaned.csv. 100%[===================>]  13.71K  --.-KB/s    in 0s      \n",
            "\n",
            "2020-02-27 17:08:39 (103 MB/s) - ‘mobile_cleaned.csv.1’ saved [14044/14044]\n",
            "\n"
          ],
          "name": "stdout"
        }
      ]
    },
    {
      "cell_type": "code",
      "metadata": {
        "id": "exNoyWvW3asG",
        "colab_type": "code",
        "outputId": "7c4e2534-f69a-4227-953f-fd34b0f842d1",
        "colab": {
          "base_uri": "https://localhost:8080/",
          "height": 54
        }
      },
      "source": [
        "!ls"
      ],
      "execution_count": 286,
      "outputs": [
        {
          "output_type": "stream",
          "text": [
            "index.jpg\t    mobile_cleaned.csv.1      my_first_module.py  sample_data\n",
            "mobile_cleaned.csv  my_first_file_output.txt  __pycache__\n"
          ],
          "name": "stdout"
        }
      ]
    },
    {
      "cell_type": "code",
      "metadata": {
        "id": "UEjTlzPt3ceh",
        "colab_type": "code",
        "colab": {}
      },
      "source": [
        "file = open('mobile_cleaned.csv', 'r')"
      ],
      "execution_count": 0,
      "outputs": []
    },
    {
      "cell_type": "code",
      "metadata": {
        "id": "K0cZlXDS3nUA",
        "colab_type": "code",
        "colab": {}
      },
      "source": [
        "s = file.readline()"
      ],
      "execution_count": 0,
      "outputs": []
    },
    {
      "cell_type": "code",
      "metadata": {
        "id": "nARRi5LD3pU2",
        "colab_type": "code",
        "outputId": "dfe7e909-e6be-4d78-9279-e83c5c03b248",
        "colab": {
          "base_uri": "https://localhost:8080/",
          "height": 74
        }
      },
      "source": [
        "print(s)"
      ],
      "execution_count": 289,
      "outputs": [
        {
          "output_type": "stream",
          "text": [
            "sim_type,aperture,gpu_rank,weight,stand_by_time,processor_frequency,thickness,flash_type,front_camera_resolution,auto_focus,screen_size,frames_per_second,FM,no_of_reviews_in_gsmarena_in_week,os,phone_height,screen_protection,sim_size,price,talk_time,video_resolution,display_resolution,removable_battery,display_type,primary_camera_resolution,battery_type,ram_memory,internal_memory,brand_rank,no_of_cores,micro_sd_slot,screen_pixel_density,water_proof_rate,phone_width,expandable_memory,version,usb_type,battery_capacity,processor_rank,is_liked\n",
            "\n"
          ],
          "name": "stdout"
        }
      ]
    },
    {
      "cell_type": "code",
      "metadata": {
        "id": "iqGdV0ej3qTx",
        "colab_type": "code",
        "outputId": "93b04419-f42b-4658-8235-2b667eb55762",
        "colab": {
          "base_uri": "https://localhost:8080/",
          "height": 56
        }
      },
      "source": [
        "print(s.split(','))"
      ],
      "execution_count": 290,
      "outputs": [
        {
          "output_type": "stream",
          "text": [
            "['sim_type', 'aperture', 'gpu_rank', 'weight', 'stand_by_time', 'processor_frequency', 'thickness', 'flash_type', 'front_camera_resolution', 'auto_focus', 'screen_size', 'frames_per_second', 'FM', 'no_of_reviews_in_gsmarena_in_week', 'os', 'phone_height', 'screen_protection', 'sim_size', 'price', 'talk_time', 'video_resolution', 'display_resolution', 'removable_battery', 'display_type', 'primary_camera_resolution', 'battery_type', 'ram_memory', 'internal_memory', 'brand_rank', 'no_of_cores', 'micro_sd_slot', 'screen_pixel_density', 'water_proof_rate', 'phone_width', 'expandable_memory', 'version', 'usb_type', 'battery_capacity', 'processor_rank', 'is_liked\\n']\n"
          ],
          "name": "stdout"
        }
      ]
    },
    {
      "cell_type": "code",
      "metadata": {
        "id": "XWU2nyzf30Xr",
        "colab_type": "code",
        "colab": {}
      },
      "source": [
        "file.close()"
      ],
      "execution_count": 0,
      "outputs": []
    },
    {
      "cell_type": "code",
      "metadata": {
        "id": "uK4w6pJs35Ey",
        "colab_type": "code",
        "colab": {}
      },
      "source": [
        "#file.readline()"
      ],
      "execution_count": 0,
      "outputs": []
    },
    {
      "cell_type": "code",
      "metadata": {
        "id": "AWmQKP-t36LK",
        "colab_type": "code",
        "outputId": "0a60bee0-cad4-4c3f-e672-4271f732cd82",
        "colab": {
          "base_uri": "https://localhost:8080/",
          "height": 74
        }
      },
      "source": [
        "with open('mobile_cleaned.csv', 'r') as file:\n",
        "  print(file.readline())"
      ],
      "execution_count": 293,
      "outputs": [
        {
          "output_type": "stream",
          "text": [
            "sim_type,aperture,gpu_rank,weight,stand_by_time,processor_frequency,thickness,flash_type,front_camera_resolution,auto_focus,screen_size,frames_per_second,FM,no_of_reviews_in_gsmarena_in_week,os,phone_height,screen_protection,sim_size,price,talk_time,video_resolution,display_resolution,removable_battery,display_type,primary_camera_resolution,battery_type,ram_memory,internal_memory,brand_rank,no_of_cores,micro_sd_slot,screen_pixel_density,water_proof_rate,phone_width,expandable_memory,version,usb_type,battery_capacity,processor_rank,is_liked\n",
            "\n"
          ],
          "name": "stdout"
        }
      ]
    },
    {
      "cell_type": "code",
      "metadata": {
        "id": "losKznsX4EPL",
        "colab_type": "code",
        "colab": {
          "base_uri": "https://localhost:8080/",
          "height": 1000
        },
        "outputId": "f41fef57-3284-4134-a6f0-e0df357f8794"
      },
      "source": [
        "with open('mobile_cleaned.csv', 'r') as file:\n",
        "  print(file.read())"
      ],
      "execution_count": 294,
      "outputs": [
        {
          "output_type": "stream",
          "text": [
            "sim_type,aperture,gpu_rank,weight,stand_by_time,processor_frequency,thickness,flash_type,front_camera_resolution,auto_focus,screen_size,frames_per_second,FM,no_of_reviews_in_gsmarena_in_week,os,phone_height,screen_protection,sim_size,price,talk_time,video_resolution,display_resolution,removable_battery,display_type,primary_camera_resolution,battery_type,ram_memory,internal_memory,brand_rank,no_of_cores,micro_sd_slot,screen_pixel_density,water_proof_rate,phone_width,expandable_memory,version,usb_type,battery_capacity,processor_rank,is_liked\n",
            "0,12,55,155.0,250,1.3,10.5,5,2.0,0,4.5,15,3,0,0,132.9,26,3,3870,9,480,12,3,11,5.0,1,1,7,29,6,4,2,3,67.8,64.0,5,3,2000,125,1\n",
            "0,1,55,132.0,300,1.3,10.6,5,0.3,1,4.0,30,2,6,0,124.5,26,5,4059,9,720,15,3,11,5.0,1,1,7,11,6,4,4,6,64.0,32.0,5,3,2000,165,1\n",
            "0,9,55,142.0,329,1.5,8.5,5,2.0,3,5.0,30,2,20,0,145.5,4,3,4777,10,1080,4,3,1,5.04,2,1,7,27,6,4,9,6,72.0,32.0,6,3,2500,164,0\n",
            "0,8,55,152.0,385,1.3,8.0,5,2.0,3,5.0,15,3,0,0,147.5,26,3,5799,19,720,17,3,2,5.0,1,1,7,4,6,4,1,3,75.1,32.0,6,3,3000,165,1\n",
            "1,1,55,234.0,385,1.3,7.9,5,1.92,3,5.0,15,3,0,0,179.0,18,3,5990,11,720,17,3,1,5.0,1,1,7,4,6,4,1,6,91.0,32.0,6,3,3000,165,0\n",
            "0,14,55,179.0,280,1.3,7.9,5,5.0,3,5.5,30,3,6,0,150.0,5,3,5999,22,720,0,0,2,8.0,1,1,7,4,6,4,7,3,71.0,32.0,6,3,2900,165,0\n",
            "1,1,56,124.0,230,1.3,8.8,5,2.0,3,4.0,30,3,0,0,123.0,26,3,5999,11,1080,16,3,2,5.0,1,512,5,30,0,4,4,3,62.5,128.0,2,3,1700,163,1\n",
            "0,8,41,154.0,182,1.0,8.1,5,2.0,3,5.0,30,5,0,0,132.0,26,3,6599,7,720,4,3,2,8.0,0,2,2,4,6,4,9,3,78.0,32.0,6,3,2000,92,1\n",
            "1,8,41,214.0,182,1.0,8.2,5,2.0,3,5.0,30,3,39,0,172.0,18,3,6599,6,720,14,3,2,8.0,1,2,2,4,6,4,9,6,80.0,32.0,6,7,2000,92,1\n",
            "0,1,55,155.0,435,1.3,11.6,5,2.0,3,5.0,15,2,5,0,142.1,5,3,6649,9,720,4,1,2,8.0,1,2,7,4,6,4,9,6,72.4,32.0,5,3,3000,125,1\n",
            "0,1,55,169.0,514,1.3,7.9,2,2.0,3,5.0,30,3,5,0,152.0,26,3,6749,14,720,4,1,2,8.0,2,2,7,4,6,4,9,3,75.0,32.0,5,4,4000,126,1\n",
            "0,10,55,137.0,300,1.3,7.9,5,5.0,3,5.0,30,2,42,1,141.6,18,3,6990,15,720,3,3,7,8.0,1,1,7,2,6,3,9,6,70.0,128.0,0,3,2600,166,0\n",
            "0,1,50,135.0,280,1.4,8.0,7,5.0,3,5.3,30,3,10,0,148.0,26,3,6999,8,1080,4,3,2,13.0,1,1,7,20,4,4,8,2,74.0,32.0,4,3,2500,79,1\n",
            "0,11,43,133.0,198,1.2,9.0,5,2.0,3,4.7,30,2,139,0,134.0,5,3,6999,7,1080,14,3,2,8.0,2,2,2,6,6,4,11,6,67.0,32.0,4,8,2200,94,1\n",
            "0,8,41,142.0,200,1.3,8.9,5,5.0,3,5.0,30,3,94,0,140.8,21,3,6999,10,1080,4,1,2,13.0,1,3,2,18,6,6,9,6,70.4,32.0,6,3,2500,92,1\n",
            "1,10,41,131.0,680,1.3,8.7,5,5.0,3,5.0,30,1,10,0,140.1,1,11,6999,23,1080,14,1,1,13.0,1,2,2,30,6,2,9,3,68.9,256.0,6,3,2500,92,1\n",
            "1,10,47,152.0,576,1.2,8.6,5,5.0,3,5.0,30,3,28,3,144.0,26,3,7340,26,480,4,3,2,8.0,1,1,7,7,6,4,9,3,73.7,128.0,13,3,2200,132,1\n",
            "0,10,43,128.0,264,1.2,8.2,5,2.0,3,5.0,30,2,126,0,141.0,26,3,7499,13,720,4,3,1,8.0,2,2,2,11,6,4,9,6,70.0,32.0,4,3,2300,94,1\n",
            "0,10,41,130.0,180,1.3,8.4,5,2.0,3,4.5,30,3,0,0,69.0,18,3,7590,11,1080,4,3,7,5.0,1,1,7,2,6,6,5,6,136.5,128.0,6,7,2000,100,1\n",
            "0,10,43,143.0,160,1.2,8.2,5,5.0,3,5.0,30,3,142,0,142.4,6,3,7790,7,1080,4,3,2,8.0,1,2,2,17,6,6,9,3,73.0,32.0,5,3,2230,94,1\n",
            "0,1,55,152.0,450,1.2,9.4,2,5.0,3,5.0,30,2,0,0,143.0,5,3,7899,14,1080,4,1,2,8.0,1,2,7,4,6,4,9,6,71.8,32.0,6,3,4000,94,1\n",
            "0,10,34,140.0,264,1.5,8.0,5,5.0,3,5.5,30,5,184,0,152.6,26,3,7914,39,1080,4,3,2,8.0,2,2,7,11,4,4,7,3,76.2,32.0,5,3,2900,16,1\n",
            "2,1,38,125.0,354,1.3,7.6,5,5.0,3,5.0,30,5,10,0,144.6,14,11,7999,12,1080,9,1,2,13.0,2,3,4,27,4,2,23,6,72.0,128.0,6,5,2400,19,0\n",
            "3,1,43,97.0,345,1.2,5.1,5,5.0,3,4.8,30,3,0,0,141.9,5,9,8490,8,1080,14,1,0,8.0,2,2,2,4,6,2,10,2,68.1,0.0,5,3,2000,94,1\n",
            "0,10,29,150.0,322,1.5,8.2,5,5.0,3,5.0,30,3,113,0,142.0,2,12,8499,15,1080,9,3,2,13.0,2,2,2,11,4,6,23,6,71.0,32.0,6,4,2750,21,1\n",
            "0,8,43,202.0,914,1.2,10.6,2,5.0,3,5.5,30,4,34,0,156.0,18,3,8999,38,1080,4,1,2,13.0,2,2,2,16,6,6,7,6,77.5,64.0,5,4,5000,94,1\n",
            "0,8,43,170.0,456,1.2,10.8,2,5.0,3,5.5,30,2,189,0,152.5,7,3,8999,21,1080,9,3,2,13.0,2,2,2,16,6,4,7,6,77.2,128.0,5,3,3000,94,1\n",
            "0,8,38,155.0,350,1.3,9.3,5,5.0,3,5.5,30,3,122,0,151.0,18,3,8999,38,1080,4,1,2,13.0,1,2,2,18,4,6,7,6,77.0,64.0,6,4,3000,19,1\n",
            "0,1,44,160.0,617,1.7,9.6,5,5.0,3,5.0,30,3,0,0,150.1,26,12,9399,12,1080,4,3,9,8.0,2,1,7,5,4,4,9,3,72.7,32.0,5,3,2100,79,1\n",
            "0,10,43,185.0,775,1.2,9.4,5,5.0,3,5.5,30,2,87,0,154.0,26,3,9499,38,1080,4,3,2,13.0,2,2,2,6,6,4,7,6,78.7,32.0,4,3,3100,94,1\n",
            "0,8,55,141.0,218,1.2,7.6,5,8.0,3,5.0,30,2,9,0,142.7,26,10,9700,16,1080,18,1,11,8.0,3,1,2,10,6,4,3,6,71.7,128.0,1,3,2420,94,1\n",
            "0,8,34,150.0,270,1.7,8.0,2,5.0,3,5.5,30,2,0,0,152.6,19,3,9715,30,1080,1,3,1,13.0,1,2,2,11,4,4,16,6,76.2,32.0,5,3,2900,16,1\n",
            "0,8,43,155.0,250,1.4,11.6,2,5.0,3,5.0,30,2,760,0,142.1,5,3,9999,22,1080,4,1,2,13.0,1,2,2,3,6,4,9,7,72.4,32.0,6,3,2470,94,1\n",
            "0,10,28,164.0,264,1.4,8.7,2,5.0,3,5.5,30,2,420,0,150.0,26,3,9999,20,1080,9,1,2,16.0,2,2,4,6,2,1,16,6,76.0,0.0,6,3,4050,12,1\n",
            "0,10,28,164.0,265,1.4,8.7,2,5.0,3,5.5,30,2,420,0,150.0,18,3,9999,20,1080,9,1,2,16.0,2,2,4,6,2,3,16,6,76.0,0.0,6,3,4050,12,1\n",
            "0,8,34,150.0,750,1.7,8.0,2,5.0,3,5.5,30,3,608,0,152.6,26,3,9999,36,1080,9,3,2,13.0,1,2,2,11,4,6,16,6,76.2,32.0,5,4,3000,90,1\n",
            "0,10,34,138.0,521,1.7,8.2,5,5.0,3,5.0,30,3,20,0,146.9,26,9,9999,23,1080,4,3,2,13.0,2,1,7,5,4,4,9,6,70.9,32.0,4,3,2000,16,1\n",
            "1,10,38,149.0,360,1.3,8.7,2,5.0,3,5.5,30,1,0,0,150.9,1,11,9999,20,1080,9,1,2,13.0,6,2,4,30,4,4,18,3,75.2,128.0,5,3,3100,19,1\n",
            "2,0,27,128.0,490,1.7,8.8,5,5.0,3,5.0,30,3,0,0,140.8,18,11,9999,12,720,5,2,2,13.0,6,3,2,4,9,4,9,3,70.4,32.0,6,3,2100,19,0\n",
            "0,4,41,172.0,350,1.2,8.2,5,5.0,3,5.5,30,5,0,0,151.8,18,3,10190,21,1080,4,3,12,13.0,1,2,7,2,6,6,7,6,77.5,128.0,6,3,3000,94,1\n",
            "0,1,38,143.0,275,1.3,8.5,5,5.0,3,5.2,30,3,21,0,148.0,18,3,10899,10,1080,9,1,2,13.0,2,3,2,4,4,5,20,6,73.6,0.0,6,3,2900,90,1\n",
            "0,8,28,169.0,496,2.2,7.5,5,5.0,3,5.5,30,1,26,0,151.1,17,2,10999,20,2160,9,1,2,13.0,2,3,4,19,4,1,9,6,74.2,0.0,8,1,3000,14,1\n",
            "0,8,34,149.0,696,1.7,8.9,5,5.0,3,5.0,30,3,43,0,142.0,26,3,11090,46,1080,4,1,2,13.0,2,2,2,11,4,4,9,3,71.8,32.0,4,4,4000,16,1\n",
            "0,8,41,153.2,261,1.3,8.3,2,8.0,3,5.5,30,3,0,0,151.9,5,3,11299,28,1080,0,3,2,13.0,2,3,2,14,6,4,7,3,76.7,32.0,6,3,3000,92,1\n",
            "0,8,29,130.0,384,1.7,7.8,2,5.0,3,5.0,30,3,385,0,138.1,13,0,11999,35,1080,1,1,2,13.0,1,2,2,6,4,2,23,6,69.6,0.0,5,3,3120,22,1\n",
            "0,10,38,160.0,265,1.3,9.2,2,5.0,3,5.5,30,2,1016,0,153.6,18,3,11999,22,1080,9,1,2,13.0,2,3,2,11,2,3,17,6,76.5,128.0,6,3,3300,12,1\n",
            "0,10,29,155.0,342,1.5,11.6,2,5.0,3,5.0,30,3,0,0,142.1,5,0,12499,28,1080,4,1,12,13.0,1,2,2,3,4,4,34,5,72.4,32.0,6,2,2470,22,1\n",
            "0,13,34,138.0,761,1.7,8.2,5,5.0,3,5.0,30,4,2,0,146.9,18,11,13349,30,1080,3,1,2,13.0,1,2,2,5,4,3,9,6,70.9,32.0,4,3,2000,16,1\n",
            "0,3,41,148.0,566,1.0,9.3,5,5.0,3,5.0,30,2,0,0,141.0,5,3,13349,16,720,4,1,2,8.0,2,2,2,11,6,3,9,6,71.8,32.0,6,3,4000,92,1\n",
            "0,8,29,155.0,620,1.5,9.8,2,5.0,3,5.5,30,3,671,0,153.0,5,3,13499,24,1080,9,4,1,16.0,2,3,3,3,9,4,16,3,76.6,128.0,9,3,3000,72,1\n",
            "0,7,29,171.0,354,1.6,7.5,5,5.0,3,5.5,30,2,73,0,152.4,26,3,13990,23,1080,4,3,7,13.0,1,2,0,2,4,3,16,6,78.6,128.0,6,3,3000,72,1\n",
            "0,8,28,150.0,337,2.0,8.7,5,5.0,3,5.5,30,2,25,0,156.8,5,4,13999,9,1080,9,1,2,13.0,1,4,2,4,4,3,16,6,78.1,64.0,6,3,3000,14,1\n",
            "0,10,30,170.0,354,1.6,7.8,2,5.0,3,5.5,30,2,301,0,151.7,18,3,14249,23,1080,9,3,7,13.0,1,3,2,2,4,3,16,6,76.0,128.0,9,3,3300,72,1\n",
            "0,9,43,141.0,345,1.2,7.3,6,5.0,4,5.5,30,5,0,0,151.3,7,11,14300,18,1080,4,4,7,13.0,1,2,2,2,11,4,7,3,77.2,64.0,4,3,2950,94,0\n",
            "0,1,44,154.5,560,1.7,7.7,5,8.0,3,5.5,30,2,12,0,157.7,26,9,14614,12,1080,4,1,2,13.0,2,1,2,5,4,4,7,6,78.7,32.0,4,3,2600,79,1\n",
            "1,1,44,171.8,1093,1.4,7.7,5,1.1,3,6.0,30,3,24,0,165.2,26,3,14880,30,1080,4,1,11,13.0,1,1,7,8,6,4,6,6,83.8,32.0,3,3,3000,129,1\n",
            "1,10,29,229.0,480,1.5,7.6,4,5.0,3,6.8,30,3,0,0,186.6,18,3,14990,24,1080,1,1,1,13.0,2,2,4,11,4,4,12,6,96.6,64.0,5,3,3500,22,1\n",
            "0,10,16,160.0,200,2.3,6.9,5,8.0,3,5.0,30,3,175,0,140.0,5,9,14999,24,1080,9,1,0,13.0,2,3,2,12,6,1,23,6,69.0,0.0,6,4,2525,15,1\n",
            "3,6,16,149.0,280,2.5,8.9,5,8.0,3,5.0,30,2,33,0,139.2,26,3,14999,18,2160,1,1,2,13.0,1,3,2,6,6,2,23,6,68.5,0.0,4,3,3080,15,1\n",
            "3,3,16,144.0,250,2.5,10.0,2,13.0,3,5.2,30,4,188,0,140.8,5,11,14999,24,2160,9,1,5,13.0,1,2,2,3,6,1,20,4,72.4,0.0,4,3,2300,15,1\n",
            "2,10,16,175.0,840,2.5,8.9,3,8.0,3,5.5,30,1,6,0,155.7,15,11,15689,48,1080,9,1,4,13.0,2,3,6,11,6,0,16,3,77.3,0.0,6,14,4100,15,0\n",
            "0,8,29,134.0,380,1.7,7.3,5,8.0,3,5.0,30,1,0,0,143.5,8,2,15950,20,1080,9,1,2,13.0,1,3,2,10,4,3,9,6,71.0,128.0,6,3,2500,21,1\n",
            "0,7,30,170.0,354,1.6,7.8,5,5.0,3,5.5,30,3,301,0,151.7,26,3,15990,23,1080,0,3,7,13.0,1,3,2,2,4,4,7,6,76.0,32.0,9,3,3300,72,1\n",
            "0,13,29,189.0,600,1.5,9.9,2,5.0,3,5.5,30,2,137,0,152.9,5,11,15999,44,1080,9,1,2,13.0,2,2,4,11,4,3,16,6,75.6,128.0,6,3,5000,22,1\n",
            "3,10,15,130.0,370,1.6,7.9,5,2.0,3,5.0,30,1,347,0,136.6,5,3,16999,17,1080,9,3,7,13.0,1,2,2,2,4,4,23,3,69.8,64.0,2,10,2600,20,1\n",
            "0,10,29,145.0,456,1.7,7.3,2,8.0,3,5.0,30,2,22,0,142.0,5,3,17810,21,1080,1,1,2,16.0,2,3,4,11,4,4,23,6,70.0,128.0,5,3,3000,22,1\n",
            "0,8,29,169.0,330,1.7,10.9,2,5.0,3,5.5,30,2,48,0,148.0,5,11,18499,18,1080,9,1,2,21.0,1,2,4,3,6,4,16,7,75.0,128.0,6,3,3630,22,1\n",
            "1,8,29,135.0,488,1.5,7.3,5,5.0,3,5.0,30,3,0,0,145.5,21,9,18798,13,1080,6,1,2,13.0,1,2,2,8,6,4,9,0,72.6,128.0,5,3,2400,22,1\n",
            "0,10,34,147.0,682,1.7,7.9,5,5.0,3,5.5,30,3,0,0,150.3,20,9,19000,11,1080,1,1,3,13.0,1,2,2,8,4,4,0,3,77.4,128.0,5,7,2600,16,1\n",
            "0,8,38,150.0,420,1.5,8.0,5,4.0,3,5.5,30,3,18,0,157.7,26,9,19490,12,1080,9,1,2,13.0,2,2,2,5,4,4,16,3,78.9,2048.0,6,3,2800,19,1\n",
            "0,10,34,165.0,170,1.5,7.6,5,4.0,3,5.5,30,1,13,0,157.7,26,9,19890,7,1080,4,3,2,13.0,6,2,2,5,4,4,7,3,79.7,128.0,5,3,2600,16,1\n",
            "3,8,16,162.0,360,2.5,8.9,2,5.0,3,5.5,30,4,22,0,152.9,5,3,19999,38,2160,9,1,2,13.0,2,3,6,12,6,1,16,6,75.9,0.0,4,4,3100,15,1\n",
            "3,10,17,112.0,250,1.3,7.6,2,1.2,3,4.0,30,1,1304,2,123.8,12,11,20397,10,1080,2,1,2,8.0,2,1,2,1,0,1,13,6,58.6,0.0,11,13,1560,13,1\n",
            "0,8,29,183.0,687,1.7,8.0,5,4.0,3,5.5,30,2,131,0,158.0,26,11,21300,19,1080,9,1,9,13.0,2,2,2,5,4,4,16,6,77.5,128.0,5,3,2600,22,1\n",
            "3,10,16,145.0,390,1.9,8.1,5,2.0,3,5.1,30,1,22,0,142.0,5,9,21999,21,2160,1,3,7,16.0,1,2,2,2,6,4,22,7,72.5,128.0,4,9,2800,15,0\n",
            "0,8,34,187.0,635,1.7,8.2,5,13.0,3,6.0,30,3,26,0,164.2,20,9,21999,13,1080,1,1,2,13.0,1,2,2,8,4,4,14,3,79.6,200.0,5,3,2930,16,1\n",
            "0,8,9,175.0,360,1.8,9.9,2,5.0,3,5.5,30,4,100,0,151.8,5,9,22999,38,2160,9,1,2,13.0,2,4,6,12,6,1,16,6,74.9,0.0,6,12,3300,5,1\n",
            "1,8,24,157.0,620,2.2,8.5,1,8.0,3,5.2,30,3,29,0,143.2,26,9,22999,23,1080,9,4,2,20.0,2,3,2,15,4,4,20,6,71.9,128.0,5,3,3100,11,0\n",
            "0,8,14,175.0,618,1.8,9.3,2,8.0,4,5.5,30,2,0,0,154.0,5,11,24499,31,2160,9,4,1,21.0,4,3,6,11,8,6,16,6,76.5,0.0,6,3,3600,8,0\n",
            "3,7,41,155.0,180,1.6,7.1,5,5.0,3,5.2,30,3,75,0,144.8,7,9,24900,16,1080,1,0,7,13.0,2,2,2,2,4,4,20,3,71.0,128.0,6,3,2900,72,1\n",
            "1,8,3,129.0,598,1.8,7.3,2,4.0,3,5.15,30,1,0,0,144.6,7,9,24999,27,2160,1,1,2,16.0,2,4,4,6,6,2,21,6,69.2,0.0,9,0,3000,2,0\n",
            "4,8,14,179.0,410,1.8,11.1,0,5.0,3,5.7,30,1,4,0,153.9,5,9,24999,19,2160,10,4,12,21.0,1,3,6,3,8,4,26,6,76.2,128.0,6,3,3000,3,1\n",
            "3,8,9,144.0,590,2.0,6.9,5,2.2,3,5.2,30,2,126,0,146.0,25,3,25500,17,2160,1,1,1,20.7,1,3,4,8,6,4,20,7,72.0,128.0,5,3,2930,5,1\n",
            "1,10,28,142.6,504,2.0,7.6,5,13.0,3,5.0,30,3,69,0,145.0,21,9,25500,12,216,1,1,2,21.2,1,3,2,8,4,4,23,1,72.0,200.0,5,3,2600,14,0\n",
            "0,10,25,145.0,250,2.0,6.6,5,16.0,3,5.5,30,4,19,0,151.8,7,11,27580,24,1080,9,1,0,13.0,2,4,6,10,4,3,16,6,74.3,128.0,6,3,2850,90,1\n",
            "3,10,11,176.0,200,2.7,8.5,5,3.7,3,5.7,30,1,226,0,153.5,0,3,29900,20,216,10,3,7,16.0,1,3,4,2,6,4,24,6,78.6,128.0,4,3,3220,9,1\n",
            "0,10,21,168.0,420,2.3,8.3,5,2.0,3,5.7,30,0,502,0,151.2,5,3,29990,21,2160,9,3,7,13.0,1,3,4,2,6,4,15,3,79.2,64.0,3,9,3200,52,1\n",
            "4,6,14,155.0,410,1.8,6.3,2,8.0,3,5.5,30,3,0,0,148.9,10,9,30947,19,2160,10,5,1,16.0,1,3,4,9,8,4,28,6,76.1,2048.0,6,3,3000,8,1\n",
            "3,8,9,178.0,440,2.0,7.3,2,8.0,3,5.7,30,1,87,0,159.3,11,9,31999,23,2160,8,1,0,12.3,2,3,4,15,4,2,25,6,77.8,0.0,9,3,3450,5,1\n",
            "3,7,8,138.0,354,2.1,6.8,2,5.0,3,5.1,30,1,349,0,143.4,7,9,33900,17,2160,10,1,7,16.0,1,3,4,2,6,2,31,3,70.5,0.0,5,3,2550,4,1\n",
            "3,8,9,169.0,500,2.0,9.2,2,5.0,3,5.4,30,4,22,0,149.8,23,11,34999,25,2160,10,1,0,21.0,1,3,4,3,6,1,29,6,78.0,0.0,7,3,3760,5,0\n",
            "3,10,6,113.0,240,1.84,7.6,2,1.2,3,4.0,30,1,0,2,123.8,3,6,34999,14,2160,13,1,1,12.0,2,1,2,1,1,2,13,6,58.6,0.0,14,13,1624,1,0\n",
            "4,8,14,136.0,360,1.8,7.9,1,5.0,3,5.2,30,1,24,0,147.0,5,9,35900,14,2160,9,4,2,12.3,4,2,2,9,8,2,19,6,72.6,0.0,9,11,2700,8,1\n",
            "3,10,12,129.0,250,1.4,6.9,2,1.3,3,4.7,60,1,410,2,138.1,16,9,36499,14,1080,7,1,2,8.0,2,1,2,1,0,2,13,3,67.0,0.0,12,6,1810,7,1\n",
            "3,10,12,129.0,250,1.4,6.9,2,1.2,3,4.7,60,4,39,2,138.1,16,11,36999,14,1080,9,1,2,8.0,2,1,2,1,0,1,13,6,67.0,0.0,12,13,1810,7,1\n",
            "3,10,28,168.0,580,2.2,9.6,2,4.0,3,5.2,30,3,11,0,151.0,7,7,37766,20,2160,10,4,10,20.0,4,3,4,5,10,4,30,6,72.0,256.0,5,3,2840,56,0\n",
            "3,12,16,149.0,410,2.5,8.9,3,2.1,3,5.5,30,3,0,0,146.3,5,1,38000,19,2160,10,3,1,13.0,5,3,4,9,7,4,28,6,74.6,32.0,4,3,3000,15,1\n",
            "0,8,9,154.0,340,2.0,7.3,6,5.0,2,5.2,30,3,9,0,146.0,24,7,39890,13,2160,9,4,1,23.0,4,3,4,8,5,6,20,1,72.0,256.0,6,3,2900,5,1\n",
            "3,2,8,132.0,362,1.5,7.0,5,5.0,4,5.1,30,1,0,0,142.1,9,7,40900,14,2160,10,1,7,16.0,1,3,4,2,7,4,32,6,70.1,64.0,5,3,2600,4,1\n",
            "3,10,12,129.0,250,1.4,6.9,2,1.2,3,4.7,60,4,39,2,138.1,16,11,48329,14,1080,7,1,2,8.0,2,1,6,1,0,1,13,6,67.0,0.0,12,13,1810,7,1\n",
            "0,5,3,152.0,242,2.3,7.9,5,5.0,3,5.1,30,4,150,0,142.4,7,9,48900,22,2160,10,1,8,12.0,1,4,4,2,6,6,32,1,69.6,200.0,9,3,3000,101,1\n",
            "3,10,6,143.0,240,1.8,7.1,2,5.0,3,4.7,30,4,100,2,138.3,16,11,49499,14,2160,7,1,2,12.0,2,2,2,1,0,1,13,6,67.1,0.0,14,13,1715,1,1\n",
            "0,7,43,171.0,330,2.1,7.6,5,5.0,3,5.7,30,1,107,0,153.2,7,9,50895,22,2160,8,1,7,16.0,2,4,4,2,4,2,25,6,76.1,0.0,6,3,3450,4,1\n",
            "3,8,9,180.0,600,2.0,7.8,6,5.0,2,5.5,30,3,0,0,154.4,22,7,52699,19,2160,11,4,2,23.0,4,3,4,8,12,6,33,1,75.8,256.0,6,3,3430,5,1\n",
            "3,10,14,192.0,540,1.8,9.4,2,2.0,2,5.4,30,1,0,0,147.0,26,7,54900,15,2160,10,4,0,18.0,4,3,4,25,3,4,29,6,77.2,256.0,6,3,3410,8,1\n",
            "0,5,3,157.0,400,2.3,7.7,5,5.0,3,5.5,30,4,144,0,150.9,7,9,56900,27,2160,10,1,8,12.0,1,4,4,2,6,6,27,1,72.6,200.0,9,3,3600,101,1\n",
            "3,10,6,192.0,384,1.8,7.3,2,5.0,3,5.5,30,4,81,2,158.2,16,11,59000,24,2160,7,1,2,12.0,2,2,2,1,0,1,16,6,77.9,0.0,14,13,2750,1,1\n",
            "3,10,12,129.0,250,1.4,6.9,2,1.2,3,4.7,60,4,39,2,138.1,16,11,64500,14,1080,7,1,2,8.0,2,1,1,1,0,1,13,6,67.0,0.0,12,13,1810,7,1\n",
            "2,8,3,158.0,400,2.2,7.4,6,8.0,3,5.5,30,1,0,0,152.7,7,8,27999,40,2160,9,1,6,16.0,4,6,6,12,6,5,16,6,74.7,0.0,10,12,3000,2,0\n",
            "\n"
          ],
          "name": "stdout"
        }
      ]
    },
    {
      "cell_type": "code",
      "metadata": {
        "id": "Z7ZiqBi-4NAw",
        "colab_type": "code",
        "colab": {
          "base_uri": "https://localhost:8080/",
          "height": 1000
        },
        "outputId": "4323c853-76af-4071-8517-7c6e2001b835"
      },
      "source": [
        "with open('mobile_cleaned.csv', 'r') as file:\n",
        "  for line in file:\n",
        "    for word in line.split(','):\n",
        "      print(word)\n",
        "    print('-------')"
      ],
      "execution_count": 295,
      "outputs": [
        {
          "output_type": "stream",
          "text": [
            "sim_type\n",
            "aperture\n",
            "gpu_rank\n",
            "weight\n",
            "stand_by_time\n",
            "processor_frequency\n",
            "thickness\n",
            "flash_type\n",
            "front_camera_resolution\n",
            "auto_focus\n",
            "screen_size\n",
            "frames_per_second\n",
            "FM\n",
            "no_of_reviews_in_gsmarena_in_week\n",
            "os\n",
            "phone_height\n",
            "screen_protection\n",
            "sim_size\n",
            "price\n",
            "talk_time\n",
            "video_resolution\n",
            "display_resolution\n",
            "removable_battery\n",
            "display_type\n",
            "primary_camera_resolution\n",
            "battery_type\n",
            "ram_memory\n",
            "internal_memory\n",
            "brand_rank\n",
            "no_of_cores\n",
            "micro_sd_slot\n",
            "screen_pixel_density\n",
            "water_proof_rate\n",
            "phone_width\n",
            "expandable_memory\n",
            "version\n",
            "usb_type\n",
            "battery_capacity\n",
            "processor_rank\n",
            "is_liked\n",
            "\n",
            "-------\n",
            "0\n",
            "12\n",
            "55\n",
            "155.0\n",
            "250\n",
            "1.3\n",
            "10.5\n",
            "5\n",
            "2.0\n",
            "0\n",
            "4.5\n",
            "15\n",
            "3\n",
            "0\n",
            "0\n",
            "132.9\n",
            "26\n",
            "3\n",
            "3870\n",
            "9\n",
            "480\n",
            "12\n",
            "3\n",
            "11\n",
            "5.0\n",
            "1\n",
            "1\n",
            "7\n",
            "29\n",
            "6\n",
            "4\n",
            "2\n",
            "3\n",
            "67.8\n",
            "64.0\n",
            "5\n",
            "3\n",
            "2000\n",
            "125\n",
            "1\n",
            "\n",
            "-------\n",
            "0\n",
            "1\n",
            "55\n",
            "132.0\n",
            "300\n",
            "1.3\n",
            "10.6\n",
            "5\n",
            "0.3\n",
            "1\n",
            "4.0\n",
            "30\n",
            "2\n",
            "6\n",
            "0\n",
            "124.5\n",
            "26\n",
            "5\n",
            "4059\n",
            "9\n",
            "720\n",
            "15\n",
            "3\n",
            "11\n",
            "5.0\n",
            "1\n",
            "1\n",
            "7\n",
            "11\n",
            "6\n",
            "4\n",
            "4\n",
            "6\n",
            "64.0\n",
            "32.0\n",
            "5\n",
            "3\n",
            "2000\n",
            "165\n",
            "1\n",
            "\n",
            "-------\n",
            "0\n",
            "9\n",
            "55\n",
            "142.0\n",
            "329\n",
            "1.5\n",
            "8.5\n",
            "5\n",
            "2.0\n",
            "3\n",
            "5.0\n",
            "30\n",
            "2\n",
            "20\n",
            "0\n",
            "145.5\n",
            "4\n",
            "3\n",
            "4777\n",
            "10\n",
            "1080\n",
            "4\n",
            "3\n",
            "1\n",
            "5.04\n",
            "2\n",
            "1\n",
            "7\n",
            "27\n",
            "6\n",
            "4\n",
            "9\n",
            "6\n",
            "72.0\n",
            "32.0\n",
            "6\n",
            "3\n",
            "2500\n",
            "164\n",
            "0\n",
            "\n",
            "-------\n",
            "0\n",
            "8\n",
            "55\n",
            "152.0\n",
            "385\n",
            "1.3\n",
            "8.0\n",
            "5\n",
            "2.0\n",
            "3\n",
            "5.0\n",
            "15\n",
            "3\n",
            "0\n",
            "0\n",
            "147.5\n",
            "26\n",
            "3\n",
            "5799\n",
            "19\n",
            "720\n",
            "17\n",
            "3\n",
            "2\n",
            "5.0\n",
            "1\n",
            "1\n",
            "7\n",
            "4\n",
            "6\n",
            "4\n",
            "1\n",
            "3\n",
            "75.1\n",
            "32.0\n",
            "6\n",
            "3\n",
            "3000\n",
            "165\n",
            "1\n",
            "\n",
            "-------\n",
            "1\n",
            "1\n",
            "55\n",
            "234.0\n",
            "385\n",
            "1.3\n",
            "7.9\n",
            "5\n",
            "1.92\n",
            "3\n",
            "5.0\n",
            "15\n",
            "3\n",
            "0\n",
            "0\n",
            "179.0\n",
            "18\n",
            "3\n",
            "5990\n",
            "11\n",
            "720\n",
            "17\n",
            "3\n",
            "1\n",
            "5.0\n",
            "1\n",
            "1\n",
            "7\n",
            "4\n",
            "6\n",
            "4\n",
            "1\n",
            "6\n",
            "91.0\n",
            "32.0\n",
            "6\n",
            "3\n",
            "3000\n",
            "165\n",
            "0\n",
            "\n",
            "-------\n",
            "0\n",
            "14\n",
            "55\n",
            "179.0\n",
            "280\n",
            "1.3\n",
            "7.9\n",
            "5\n",
            "5.0\n",
            "3\n",
            "5.5\n",
            "30\n",
            "3\n",
            "6\n",
            "0\n",
            "150.0\n",
            "5\n",
            "3\n",
            "5999\n",
            "22\n",
            "720\n",
            "0\n",
            "0\n",
            "2\n",
            "8.0\n",
            "1\n",
            "1\n",
            "7\n",
            "4\n",
            "6\n",
            "4\n",
            "7\n",
            "3\n",
            "71.0\n",
            "32.0\n",
            "6\n",
            "3\n",
            "2900\n",
            "165\n",
            "0\n",
            "\n",
            "-------\n",
            "1\n",
            "1\n",
            "56\n",
            "124.0\n",
            "230\n",
            "1.3\n",
            "8.8\n",
            "5\n",
            "2.0\n",
            "3\n",
            "4.0\n",
            "30\n",
            "3\n",
            "0\n",
            "0\n",
            "123.0\n",
            "26\n",
            "3\n",
            "5999\n",
            "11\n",
            "1080\n",
            "16\n",
            "3\n",
            "2\n",
            "5.0\n",
            "1\n",
            "512\n",
            "5\n",
            "30\n",
            "0\n",
            "4\n",
            "4\n",
            "3\n",
            "62.5\n",
            "128.0\n",
            "2\n",
            "3\n",
            "1700\n",
            "163\n",
            "1\n",
            "\n",
            "-------\n",
            "0\n",
            "8\n",
            "41\n",
            "154.0\n",
            "182\n",
            "1.0\n",
            "8.1\n",
            "5\n",
            "2.0\n",
            "3\n",
            "5.0\n",
            "30\n",
            "5\n",
            "0\n",
            "0\n",
            "132.0\n",
            "26\n",
            "3\n",
            "6599\n",
            "7\n",
            "720\n",
            "4\n",
            "3\n",
            "2\n",
            "8.0\n",
            "0\n",
            "2\n",
            "2\n",
            "4\n",
            "6\n",
            "4\n",
            "9\n",
            "3\n",
            "78.0\n",
            "32.0\n",
            "6\n",
            "3\n",
            "2000\n",
            "92\n",
            "1\n",
            "\n",
            "-------\n",
            "1\n",
            "8\n",
            "41\n",
            "214.0\n",
            "182\n",
            "1.0\n",
            "8.2\n",
            "5\n",
            "2.0\n",
            "3\n",
            "5.0\n",
            "30\n",
            "3\n",
            "39\n",
            "0\n",
            "172.0\n",
            "18\n",
            "3\n",
            "6599\n",
            "6\n",
            "720\n",
            "14\n",
            "3\n",
            "2\n",
            "8.0\n",
            "1\n",
            "2\n",
            "2\n",
            "4\n",
            "6\n",
            "4\n",
            "9\n",
            "6\n",
            "80.0\n",
            "32.0\n",
            "6\n",
            "7\n",
            "2000\n",
            "92\n",
            "1\n",
            "\n",
            "-------\n",
            "0\n",
            "1\n",
            "55\n",
            "155.0\n",
            "435\n",
            "1.3\n",
            "11.6\n",
            "5\n",
            "2.0\n",
            "3\n",
            "5.0\n",
            "15\n",
            "2\n",
            "5\n",
            "0\n",
            "142.1\n",
            "5\n",
            "3\n",
            "6649\n",
            "9\n",
            "720\n",
            "4\n",
            "1\n",
            "2\n",
            "8.0\n",
            "1\n",
            "2\n",
            "7\n",
            "4\n",
            "6\n",
            "4\n",
            "9\n",
            "6\n",
            "72.4\n",
            "32.0\n",
            "5\n",
            "3\n",
            "3000\n",
            "125\n",
            "1\n",
            "\n",
            "-------\n",
            "0\n",
            "1\n",
            "55\n",
            "169.0\n",
            "514\n",
            "1.3\n",
            "7.9\n",
            "2\n",
            "2.0\n",
            "3\n",
            "5.0\n",
            "30\n",
            "3\n",
            "5\n",
            "0\n",
            "152.0\n",
            "26\n",
            "3\n",
            "6749\n",
            "14\n",
            "720\n",
            "4\n",
            "1\n",
            "2\n",
            "8.0\n",
            "2\n",
            "2\n",
            "7\n",
            "4\n",
            "6\n",
            "4\n",
            "9\n",
            "3\n",
            "75.0\n",
            "32.0\n",
            "5\n",
            "4\n",
            "4000\n",
            "126\n",
            "1\n",
            "\n",
            "-------\n",
            "0\n",
            "10\n",
            "55\n",
            "137.0\n",
            "300\n",
            "1.3\n",
            "7.9\n",
            "5\n",
            "5.0\n",
            "3\n",
            "5.0\n",
            "30\n",
            "2\n",
            "42\n",
            "1\n",
            "141.6\n",
            "18\n",
            "3\n",
            "6990\n",
            "15\n",
            "720\n",
            "3\n",
            "3\n",
            "7\n",
            "8.0\n",
            "1\n",
            "1\n",
            "7\n",
            "2\n",
            "6\n",
            "3\n",
            "9\n",
            "6\n",
            "70.0\n",
            "128.0\n",
            "0\n",
            "3\n",
            "2600\n",
            "166\n",
            "0\n",
            "\n",
            "-------\n",
            "0\n",
            "1\n",
            "50\n",
            "135.0\n",
            "280\n",
            "1.4\n",
            "8.0\n",
            "7\n",
            "5.0\n",
            "3\n",
            "5.3\n",
            "30\n",
            "3\n",
            "10\n",
            "0\n",
            "148.0\n",
            "26\n",
            "3\n",
            "6999\n",
            "8\n",
            "1080\n",
            "4\n",
            "3\n",
            "2\n",
            "13.0\n",
            "1\n",
            "1\n",
            "7\n",
            "20\n",
            "4\n",
            "4\n",
            "8\n",
            "2\n",
            "74.0\n",
            "32.0\n",
            "4\n",
            "3\n",
            "2500\n",
            "79\n",
            "1\n",
            "\n",
            "-------\n",
            "0\n",
            "11\n",
            "43\n",
            "133.0\n",
            "198\n",
            "1.2\n",
            "9.0\n",
            "5\n",
            "2.0\n",
            "3\n",
            "4.7\n",
            "30\n",
            "2\n",
            "139\n",
            "0\n",
            "134.0\n",
            "5\n",
            "3\n",
            "6999\n",
            "7\n",
            "1080\n",
            "14\n",
            "3\n",
            "2\n",
            "8.0\n",
            "2\n",
            "2\n",
            "2\n",
            "6\n",
            "6\n",
            "4\n",
            "11\n",
            "6\n",
            "67.0\n",
            "32.0\n",
            "4\n",
            "8\n",
            "2200\n",
            "94\n",
            "1\n",
            "\n",
            "-------\n",
            "0\n",
            "8\n",
            "41\n",
            "142.0\n",
            "200\n",
            "1.3\n",
            "8.9\n",
            "5\n",
            "5.0\n",
            "3\n",
            "5.0\n",
            "30\n",
            "3\n",
            "94\n",
            "0\n",
            "140.8\n",
            "21\n",
            "3\n",
            "6999\n",
            "10\n",
            "1080\n",
            "4\n",
            "1\n",
            "2\n",
            "13.0\n",
            "1\n",
            "3\n",
            "2\n",
            "18\n",
            "6\n",
            "6\n",
            "9\n",
            "6\n",
            "70.4\n",
            "32.0\n",
            "6\n",
            "3\n",
            "2500\n",
            "92\n",
            "1\n",
            "\n",
            "-------\n",
            "1\n",
            "10\n",
            "41\n",
            "131.0\n",
            "680\n",
            "1.3\n",
            "8.7\n",
            "5\n",
            "5.0\n",
            "3\n",
            "5.0\n",
            "30\n",
            "1\n",
            "10\n",
            "0\n",
            "140.1\n",
            "1\n",
            "11\n",
            "6999\n",
            "23\n",
            "1080\n",
            "14\n",
            "1\n",
            "1\n",
            "13.0\n",
            "1\n",
            "2\n",
            "2\n",
            "30\n",
            "6\n",
            "2\n",
            "9\n",
            "3\n",
            "68.9\n",
            "256.0\n",
            "6\n",
            "3\n",
            "2500\n",
            "92\n",
            "1\n",
            "\n",
            "-------\n",
            "1\n",
            "10\n",
            "47\n",
            "152.0\n",
            "576\n",
            "1.2\n",
            "8.6\n",
            "5\n",
            "5.0\n",
            "3\n",
            "5.0\n",
            "30\n",
            "3\n",
            "28\n",
            "3\n",
            "144.0\n",
            "26\n",
            "3\n",
            "7340\n",
            "26\n",
            "480\n",
            "4\n",
            "3\n",
            "2\n",
            "8.0\n",
            "1\n",
            "1\n",
            "7\n",
            "7\n",
            "6\n",
            "4\n",
            "9\n",
            "3\n",
            "73.7\n",
            "128.0\n",
            "13\n",
            "3\n",
            "2200\n",
            "132\n",
            "1\n",
            "\n",
            "-------\n",
            "0\n",
            "10\n",
            "43\n",
            "128.0\n",
            "264\n",
            "1.2\n",
            "8.2\n",
            "5\n",
            "2.0\n",
            "3\n",
            "5.0\n",
            "30\n",
            "2\n",
            "126\n",
            "0\n",
            "141.0\n",
            "26\n",
            "3\n",
            "7499\n",
            "13\n",
            "720\n",
            "4\n",
            "3\n",
            "1\n",
            "8.0\n",
            "2\n",
            "2\n",
            "2\n",
            "11\n",
            "6\n",
            "4\n",
            "9\n",
            "6\n",
            "70.0\n",
            "32.0\n",
            "4\n",
            "3\n",
            "2300\n",
            "94\n",
            "1\n",
            "\n",
            "-------\n",
            "0\n",
            "10\n",
            "41\n",
            "130.0\n",
            "180\n",
            "1.3\n",
            "8.4\n",
            "5\n",
            "2.0\n",
            "3\n",
            "4.5\n",
            "30\n",
            "3\n",
            "0\n",
            "0\n",
            "69.0\n",
            "18\n",
            "3\n",
            "7590\n",
            "11\n",
            "1080\n",
            "4\n",
            "3\n",
            "7\n",
            "5.0\n",
            "1\n",
            "1\n",
            "7\n",
            "2\n",
            "6\n",
            "6\n",
            "5\n",
            "6\n",
            "136.5\n",
            "128.0\n",
            "6\n",
            "7\n",
            "2000\n",
            "100\n",
            "1\n",
            "\n",
            "-------\n",
            "0\n",
            "10\n",
            "43\n",
            "143.0\n",
            "160\n",
            "1.2\n",
            "8.2\n",
            "5\n",
            "5.0\n",
            "3\n",
            "5.0\n",
            "30\n",
            "3\n",
            "142\n",
            "0\n",
            "142.4\n",
            "6\n",
            "3\n",
            "7790\n",
            "7\n",
            "1080\n",
            "4\n",
            "3\n",
            "2\n",
            "8.0\n",
            "1\n",
            "2\n",
            "2\n",
            "17\n",
            "6\n",
            "6\n",
            "9\n",
            "3\n",
            "73.0\n",
            "32.0\n",
            "5\n",
            "3\n",
            "2230\n",
            "94\n",
            "1\n",
            "\n",
            "-------\n",
            "0\n",
            "1\n",
            "55\n",
            "152.0\n",
            "450\n",
            "1.2\n",
            "9.4\n",
            "2\n",
            "5.0\n",
            "3\n",
            "5.0\n",
            "30\n",
            "2\n",
            "0\n",
            "0\n",
            "143.0\n",
            "5\n",
            "3\n",
            "7899\n",
            "14\n",
            "1080\n",
            "4\n",
            "1\n",
            "2\n",
            "8.0\n",
            "1\n",
            "2\n",
            "7\n",
            "4\n",
            "6\n",
            "4\n",
            "9\n",
            "6\n",
            "71.8\n",
            "32.0\n",
            "6\n",
            "3\n",
            "4000\n",
            "94\n",
            "1\n",
            "\n",
            "-------\n",
            "0\n",
            "10\n",
            "34\n",
            "140.0\n",
            "264\n",
            "1.5\n",
            "8.0\n",
            "5\n",
            "5.0\n",
            "3\n",
            "5.5\n",
            "30\n",
            "5\n",
            "184\n",
            "0\n",
            "152.6\n",
            "26\n",
            "3\n",
            "7914\n",
            "39\n",
            "1080\n",
            "4\n",
            "3\n",
            "2\n",
            "8.0\n",
            "2\n",
            "2\n",
            "7\n",
            "11\n",
            "4\n",
            "4\n",
            "7\n",
            "3\n",
            "76.2\n",
            "32.0\n",
            "5\n",
            "3\n",
            "2900\n",
            "16\n",
            "1\n",
            "\n",
            "-------\n",
            "2\n",
            "1\n",
            "38\n",
            "125.0\n",
            "354\n",
            "1.3\n",
            "7.6\n",
            "5\n",
            "5.0\n",
            "3\n",
            "5.0\n",
            "30\n",
            "5\n",
            "10\n",
            "0\n",
            "144.6\n",
            "14\n",
            "11\n",
            "7999\n",
            "12\n",
            "1080\n",
            "9\n",
            "1\n",
            "2\n",
            "13.0\n",
            "2\n",
            "3\n",
            "4\n",
            "27\n",
            "4\n",
            "2\n",
            "23\n",
            "6\n",
            "72.0\n",
            "128.0\n",
            "6\n",
            "5\n",
            "2400\n",
            "19\n",
            "0\n",
            "\n",
            "-------\n",
            "3\n",
            "1\n",
            "43\n",
            "97.0\n",
            "345\n",
            "1.2\n",
            "5.1\n",
            "5\n",
            "5.0\n",
            "3\n",
            "4.8\n",
            "30\n",
            "3\n",
            "0\n",
            "0\n",
            "141.9\n",
            "5\n",
            "9\n",
            "8490\n",
            "8\n",
            "1080\n",
            "14\n",
            "1\n",
            "0\n",
            "8.0\n",
            "2\n",
            "2\n",
            "2\n",
            "4\n",
            "6\n",
            "2\n",
            "10\n",
            "2\n",
            "68.1\n",
            "0.0\n",
            "5\n",
            "3\n",
            "2000\n",
            "94\n",
            "1\n",
            "\n",
            "-------\n",
            "0\n",
            "10\n",
            "29\n",
            "150.0\n",
            "322\n",
            "1.5\n",
            "8.2\n",
            "5\n",
            "5.0\n",
            "3\n",
            "5.0\n",
            "30\n",
            "3\n",
            "113\n",
            "0\n",
            "142.0\n",
            "2\n",
            "12\n",
            "8499\n",
            "15\n",
            "1080\n",
            "9\n",
            "3\n",
            "2\n",
            "13.0\n",
            "2\n",
            "2\n",
            "2\n",
            "11\n",
            "4\n",
            "6\n",
            "23\n",
            "6\n",
            "71.0\n",
            "32.0\n",
            "6\n",
            "4\n",
            "2750\n",
            "21\n",
            "1\n",
            "\n",
            "-------\n",
            "0\n",
            "8\n",
            "43\n",
            "202.0\n",
            "914\n",
            "1.2\n",
            "10.6\n",
            "2\n",
            "5.0\n",
            "3\n",
            "5.5\n",
            "30\n",
            "4\n",
            "34\n",
            "0\n",
            "156.0\n",
            "18\n",
            "3\n",
            "8999\n",
            "38\n",
            "1080\n",
            "4\n",
            "1\n",
            "2\n",
            "13.0\n",
            "2\n",
            "2\n",
            "2\n",
            "16\n",
            "6\n",
            "6\n",
            "7\n",
            "6\n",
            "77.5\n",
            "64.0\n",
            "5\n",
            "4\n",
            "5000\n",
            "94\n",
            "1\n",
            "\n",
            "-------\n",
            "0\n",
            "8\n",
            "43\n",
            "170.0\n",
            "456\n",
            "1.2\n",
            "10.8\n",
            "2\n",
            "5.0\n",
            "3\n",
            "5.5\n",
            "30\n",
            "2\n",
            "189\n",
            "0\n",
            "152.5\n",
            "7\n",
            "3\n",
            "8999\n",
            "21\n",
            "1080\n",
            "9\n",
            "3\n",
            "2\n",
            "13.0\n",
            "2\n",
            "2\n",
            "2\n",
            "16\n",
            "6\n",
            "4\n",
            "7\n",
            "6\n",
            "77.2\n",
            "128.0\n",
            "5\n",
            "3\n",
            "3000\n",
            "94\n",
            "1\n",
            "\n",
            "-------\n",
            "0\n",
            "8\n",
            "38\n",
            "155.0\n",
            "350\n",
            "1.3\n",
            "9.3\n",
            "5\n",
            "5.0\n",
            "3\n",
            "5.5\n",
            "30\n",
            "3\n",
            "122\n",
            "0\n",
            "151.0\n",
            "18\n",
            "3\n",
            "8999\n",
            "38\n",
            "1080\n",
            "4\n",
            "1\n",
            "2\n",
            "13.0\n",
            "1\n",
            "2\n",
            "2\n",
            "18\n",
            "4\n",
            "6\n",
            "7\n",
            "6\n",
            "77.0\n",
            "64.0\n",
            "6\n",
            "4\n",
            "3000\n",
            "19\n",
            "1\n",
            "\n",
            "-------\n",
            "0\n",
            "1\n",
            "44\n",
            "160.0\n",
            "617\n",
            "1.7\n",
            "9.6\n",
            "5\n",
            "5.0\n",
            "3\n",
            "5.0\n",
            "30\n",
            "3\n",
            "0\n",
            "0\n",
            "150.1\n",
            "26\n",
            "12\n",
            "9399\n",
            "12\n",
            "1080\n",
            "4\n",
            "3\n",
            "9\n",
            "8.0\n",
            "2\n",
            "1\n",
            "7\n",
            "5\n",
            "4\n",
            "4\n",
            "9\n",
            "3\n",
            "72.7\n",
            "32.0\n",
            "5\n",
            "3\n",
            "2100\n",
            "79\n",
            "1\n",
            "\n",
            "-------\n",
            "0\n",
            "10\n",
            "43\n",
            "185.0\n",
            "775\n",
            "1.2\n",
            "9.4\n",
            "5\n",
            "5.0\n",
            "3\n",
            "5.5\n",
            "30\n",
            "2\n",
            "87\n",
            "0\n",
            "154.0\n",
            "26\n",
            "3\n",
            "9499\n",
            "38\n",
            "1080\n",
            "4\n",
            "3\n",
            "2\n",
            "13.0\n",
            "2\n",
            "2\n",
            "2\n",
            "6\n",
            "6\n",
            "4\n",
            "7\n",
            "6\n",
            "78.7\n",
            "32.0\n",
            "4\n",
            "3\n",
            "3100\n",
            "94\n",
            "1\n",
            "\n",
            "-------\n",
            "0\n",
            "8\n",
            "55\n",
            "141.0\n",
            "218\n",
            "1.2\n",
            "7.6\n",
            "5\n",
            "8.0\n",
            "3\n",
            "5.0\n",
            "30\n",
            "2\n",
            "9\n",
            "0\n",
            "142.7\n",
            "26\n",
            "10\n",
            "9700\n",
            "16\n",
            "1080\n",
            "18\n",
            "1\n",
            "11\n",
            "8.0\n",
            "3\n",
            "1\n",
            "2\n",
            "10\n",
            "6\n",
            "4\n",
            "3\n",
            "6\n",
            "71.7\n",
            "128.0\n",
            "1\n",
            "3\n",
            "2420\n",
            "94\n",
            "1\n",
            "\n",
            "-------\n",
            "0\n",
            "8\n",
            "34\n",
            "150.0\n",
            "270\n",
            "1.7\n",
            "8.0\n",
            "2\n",
            "5.0\n",
            "3\n",
            "5.5\n",
            "30\n",
            "2\n",
            "0\n",
            "0\n",
            "152.6\n",
            "19\n",
            "3\n",
            "9715\n",
            "30\n",
            "1080\n",
            "1\n",
            "3\n",
            "1\n",
            "13.0\n",
            "1\n",
            "2\n",
            "2\n",
            "11\n",
            "4\n",
            "4\n",
            "16\n",
            "6\n",
            "76.2\n",
            "32.0\n",
            "5\n",
            "3\n",
            "2900\n",
            "16\n",
            "1\n",
            "\n",
            "-------\n",
            "0\n",
            "8\n",
            "43\n",
            "155.0\n",
            "250\n",
            "1.4\n",
            "11.6\n",
            "2\n",
            "5.0\n",
            "3\n",
            "5.0\n",
            "30\n",
            "2\n",
            "760\n",
            "0\n",
            "142.1\n",
            "5\n",
            "3\n",
            "9999\n",
            "22\n",
            "1080\n",
            "4\n",
            "1\n",
            "2\n",
            "13.0\n",
            "1\n",
            "2\n",
            "2\n",
            "3\n",
            "6\n",
            "4\n",
            "9\n",
            "7\n",
            "72.4\n",
            "32.0\n",
            "6\n",
            "3\n",
            "2470\n",
            "94\n",
            "1\n",
            "\n",
            "-------\n",
            "0\n",
            "10\n",
            "28\n",
            "164.0\n",
            "264\n",
            "1.4\n",
            "8.7\n",
            "2\n",
            "5.0\n",
            "3\n",
            "5.5\n",
            "30\n",
            "2\n",
            "420\n",
            "0\n",
            "150.0\n",
            "26\n",
            "3\n",
            "9999\n",
            "20\n",
            "1080\n",
            "9\n",
            "1\n",
            "2\n",
            "16.0\n",
            "2\n",
            "2\n",
            "4\n",
            "6\n",
            "2\n",
            "1\n",
            "16\n",
            "6\n",
            "76.0\n",
            "0.0\n",
            "6\n",
            "3\n",
            "4050\n",
            "12\n",
            "1\n",
            "\n",
            "-------\n",
            "0\n",
            "10\n",
            "28\n",
            "164.0\n",
            "265\n",
            "1.4\n",
            "8.7\n",
            "2\n",
            "5.0\n",
            "3\n",
            "5.5\n",
            "30\n",
            "2\n",
            "420\n",
            "0\n",
            "150.0\n",
            "18\n",
            "3\n",
            "9999\n",
            "20\n",
            "1080\n",
            "9\n",
            "1\n",
            "2\n",
            "16.0\n",
            "2\n",
            "2\n",
            "4\n",
            "6\n",
            "2\n",
            "3\n",
            "16\n",
            "6\n",
            "76.0\n",
            "0.0\n",
            "6\n",
            "3\n",
            "4050\n",
            "12\n",
            "1\n",
            "\n",
            "-------\n",
            "0\n",
            "8\n",
            "34\n",
            "150.0\n",
            "750\n",
            "1.7\n",
            "8.0\n",
            "2\n",
            "5.0\n",
            "3\n",
            "5.5\n",
            "30\n",
            "3\n",
            "608\n",
            "0\n",
            "152.6\n",
            "26\n",
            "3\n",
            "9999\n",
            "36\n",
            "1080\n",
            "9\n",
            "3\n",
            "2\n",
            "13.0\n",
            "1\n",
            "2\n",
            "2\n",
            "11\n",
            "4\n",
            "6\n",
            "16\n",
            "6\n",
            "76.2\n",
            "32.0\n",
            "5\n",
            "4\n",
            "3000\n",
            "90\n",
            "1\n",
            "\n",
            "-------\n",
            "0\n",
            "10\n",
            "34\n",
            "138.0\n",
            "521\n",
            "1.7\n",
            "8.2\n",
            "5\n",
            "5.0\n",
            "3\n",
            "5.0\n",
            "30\n",
            "3\n",
            "20\n",
            "0\n",
            "146.9\n",
            "26\n",
            "9\n",
            "9999\n",
            "23\n",
            "1080\n",
            "4\n",
            "3\n",
            "2\n",
            "13.0\n",
            "2\n",
            "1\n",
            "7\n",
            "5\n",
            "4\n",
            "4\n",
            "9\n",
            "6\n",
            "70.9\n",
            "32.0\n",
            "4\n",
            "3\n",
            "2000\n",
            "16\n",
            "1\n",
            "\n",
            "-------\n",
            "1\n",
            "10\n",
            "38\n",
            "149.0\n",
            "360\n",
            "1.3\n",
            "8.7\n",
            "2\n",
            "5.0\n",
            "3\n",
            "5.5\n",
            "30\n",
            "1\n",
            "0\n",
            "0\n",
            "150.9\n",
            "1\n",
            "11\n",
            "9999\n",
            "20\n",
            "1080\n",
            "9\n",
            "1\n",
            "2\n",
            "13.0\n",
            "6\n",
            "2\n",
            "4\n",
            "30\n",
            "4\n",
            "4\n",
            "18\n",
            "3\n",
            "75.2\n",
            "128.0\n",
            "5\n",
            "3\n",
            "3100\n",
            "19\n",
            "1\n",
            "\n",
            "-------\n",
            "2\n",
            "0\n",
            "27\n",
            "128.0\n",
            "490\n",
            "1.7\n",
            "8.8\n",
            "5\n",
            "5.0\n",
            "3\n",
            "5.0\n",
            "30\n",
            "3\n",
            "0\n",
            "0\n",
            "140.8\n",
            "18\n",
            "11\n",
            "9999\n",
            "12\n",
            "720\n",
            "5\n",
            "2\n",
            "2\n",
            "13.0\n",
            "6\n",
            "3\n",
            "2\n",
            "4\n",
            "9\n",
            "4\n",
            "9\n",
            "3\n",
            "70.4\n",
            "32.0\n",
            "6\n",
            "3\n",
            "2100\n",
            "19\n",
            "0\n",
            "\n",
            "-------\n",
            "0\n",
            "4\n",
            "41\n",
            "172.0\n",
            "350\n",
            "1.2\n",
            "8.2\n",
            "5\n",
            "5.0\n",
            "3\n",
            "5.5\n",
            "30\n",
            "5\n",
            "0\n",
            "0\n",
            "151.8\n",
            "18\n",
            "3\n",
            "10190\n",
            "21\n",
            "1080\n",
            "4\n",
            "3\n",
            "12\n",
            "13.0\n",
            "1\n",
            "2\n",
            "7\n",
            "2\n",
            "6\n",
            "6\n",
            "7\n",
            "6\n",
            "77.5\n",
            "128.0\n",
            "6\n",
            "3\n",
            "3000\n",
            "94\n",
            "1\n",
            "\n",
            "-------\n",
            "0\n",
            "1\n",
            "38\n",
            "143.0\n",
            "275\n",
            "1.3\n",
            "8.5\n",
            "5\n",
            "5.0\n",
            "3\n",
            "5.2\n",
            "30\n",
            "3\n",
            "21\n",
            "0\n",
            "148.0\n",
            "18\n",
            "3\n",
            "10899\n",
            "10\n",
            "1080\n",
            "9\n",
            "1\n",
            "2\n",
            "13.0\n",
            "2\n",
            "3\n",
            "2\n",
            "4\n",
            "4\n",
            "5\n",
            "20\n",
            "6\n",
            "73.6\n",
            "0.0\n",
            "6\n",
            "3\n",
            "2900\n",
            "90\n",
            "1\n",
            "\n",
            "-------\n",
            "0\n",
            "8\n",
            "28\n",
            "169.0\n",
            "496\n",
            "2.2\n",
            "7.5\n",
            "5\n",
            "5.0\n",
            "3\n",
            "5.5\n",
            "30\n",
            "1\n",
            "26\n",
            "0\n",
            "151.1\n",
            "17\n",
            "2\n",
            "10999\n",
            "20\n",
            "2160\n",
            "9\n",
            "1\n",
            "2\n",
            "13.0\n",
            "2\n",
            "3\n",
            "4\n",
            "19\n",
            "4\n",
            "1\n",
            "9\n",
            "6\n",
            "74.2\n",
            "0.0\n",
            "8\n",
            "1\n",
            "3000\n",
            "14\n",
            "1\n",
            "\n",
            "-------\n",
            "0\n",
            "8\n",
            "34\n",
            "149.0\n",
            "696\n",
            "1.7\n",
            "8.9\n",
            "5\n",
            "5.0\n",
            "3\n",
            "5.0\n",
            "30\n",
            "3\n",
            "43\n",
            "0\n",
            "142.0\n",
            "26\n",
            "3\n",
            "11090\n",
            "46\n",
            "1080\n",
            "4\n",
            "1\n",
            "2\n",
            "13.0\n",
            "2\n",
            "2\n",
            "2\n",
            "11\n",
            "4\n",
            "4\n",
            "9\n",
            "3\n",
            "71.8\n",
            "32.0\n",
            "4\n",
            "4\n",
            "4000\n",
            "16\n",
            "1\n",
            "\n",
            "-------\n",
            "0\n",
            "8\n",
            "41\n",
            "153.2\n",
            "261\n",
            "1.3\n",
            "8.3\n",
            "2\n",
            "8.0\n",
            "3\n",
            "5.5\n",
            "30\n",
            "3\n",
            "0\n",
            "0\n",
            "151.9\n",
            "5\n",
            "3\n",
            "11299\n",
            "28\n",
            "1080\n",
            "0\n",
            "3\n",
            "2\n",
            "13.0\n",
            "2\n",
            "3\n",
            "2\n",
            "14\n",
            "6\n",
            "4\n",
            "7\n",
            "3\n",
            "76.7\n",
            "32.0\n",
            "6\n",
            "3\n",
            "3000\n",
            "92\n",
            "1\n",
            "\n",
            "-------\n",
            "0\n",
            "8\n",
            "29\n",
            "130.0\n",
            "384\n",
            "1.7\n",
            "7.8\n",
            "2\n",
            "5.0\n",
            "3\n",
            "5.0\n",
            "30\n",
            "3\n",
            "385\n",
            "0\n",
            "138.1\n",
            "13\n",
            "0\n",
            "11999\n",
            "35\n",
            "1080\n",
            "1\n",
            "1\n",
            "2\n",
            "13.0\n",
            "1\n",
            "2\n",
            "2\n",
            "6\n",
            "4\n",
            "2\n",
            "23\n",
            "6\n",
            "69.6\n",
            "0.0\n",
            "5\n",
            "3\n",
            "3120\n",
            "22\n",
            "1\n",
            "\n",
            "-------\n",
            "0\n",
            "10\n",
            "38\n",
            "160.0\n",
            "265\n",
            "1.3\n",
            "9.2\n",
            "2\n",
            "5.0\n",
            "3\n",
            "5.5\n",
            "30\n",
            "2\n",
            "1016\n",
            "0\n",
            "153.6\n",
            "18\n",
            "3\n",
            "11999\n",
            "22\n",
            "1080\n",
            "9\n",
            "1\n",
            "2\n",
            "13.0\n",
            "2\n",
            "3\n",
            "2\n",
            "11\n",
            "2\n",
            "3\n",
            "17\n",
            "6\n",
            "76.5\n",
            "128.0\n",
            "6\n",
            "3\n",
            "3300\n",
            "12\n",
            "1\n",
            "\n",
            "-------\n",
            "0\n",
            "10\n",
            "29\n",
            "155.0\n",
            "342\n",
            "1.5\n",
            "11.6\n",
            "2\n",
            "5.0\n",
            "3\n",
            "5.0\n",
            "30\n",
            "3\n",
            "0\n",
            "0\n",
            "142.1\n",
            "5\n",
            "0\n",
            "12499\n",
            "28\n",
            "1080\n",
            "4\n",
            "1\n",
            "12\n",
            "13.0\n",
            "1\n",
            "2\n",
            "2\n",
            "3\n",
            "4\n",
            "4\n",
            "34\n",
            "5\n",
            "72.4\n",
            "32.0\n",
            "6\n",
            "2\n",
            "2470\n",
            "22\n",
            "1\n",
            "\n",
            "-------\n",
            "0\n",
            "13\n",
            "34\n",
            "138.0\n",
            "761\n",
            "1.7\n",
            "8.2\n",
            "5\n",
            "5.0\n",
            "3\n",
            "5.0\n",
            "30\n",
            "4\n",
            "2\n",
            "0\n",
            "146.9\n",
            "18\n",
            "11\n",
            "13349\n",
            "30\n",
            "1080\n",
            "3\n",
            "1\n",
            "2\n",
            "13.0\n",
            "1\n",
            "2\n",
            "2\n",
            "5\n",
            "4\n",
            "3\n",
            "9\n",
            "6\n",
            "70.9\n",
            "32.0\n",
            "4\n",
            "3\n",
            "2000\n",
            "16\n",
            "1\n",
            "\n",
            "-------\n",
            "0\n",
            "3\n",
            "41\n",
            "148.0\n",
            "566\n",
            "1.0\n",
            "9.3\n",
            "5\n",
            "5.0\n",
            "3\n",
            "5.0\n",
            "30\n",
            "2\n",
            "0\n",
            "0\n",
            "141.0\n",
            "5\n",
            "3\n",
            "13349\n",
            "16\n",
            "720\n",
            "4\n",
            "1\n",
            "2\n",
            "8.0\n",
            "2\n",
            "2\n",
            "2\n",
            "11\n",
            "6\n",
            "3\n",
            "9\n",
            "6\n",
            "71.8\n",
            "32.0\n",
            "6\n",
            "3\n",
            "4000\n",
            "92\n",
            "1\n",
            "\n",
            "-------\n",
            "0\n",
            "8\n",
            "29\n",
            "155.0\n",
            "620\n",
            "1.5\n",
            "9.8\n",
            "2\n",
            "5.0\n",
            "3\n",
            "5.5\n",
            "30\n",
            "3\n",
            "671\n",
            "0\n",
            "153.0\n",
            "5\n",
            "3\n",
            "13499\n",
            "24\n",
            "1080\n",
            "9\n",
            "4\n",
            "1\n",
            "16.0\n",
            "2\n",
            "3\n",
            "3\n",
            "3\n",
            "9\n",
            "4\n",
            "16\n",
            "3\n",
            "76.6\n",
            "128.0\n",
            "9\n",
            "3\n",
            "3000\n",
            "72\n",
            "1\n",
            "\n",
            "-------\n",
            "0\n",
            "7\n",
            "29\n",
            "171.0\n",
            "354\n",
            "1.6\n",
            "7.5\n",
            "5\n",
            "5.0\n",
            "3\n",
            "5.5\n",
            "30\n",
            "2\n",
            "73\n",
            "0\n",
            "152.4\n",
            "26\n",
            "3\n",
            "13990\n",
            "23\n",
            "1080\n",
            "4\n",
            "3\n",
            "7\n",
            "13.0\n",
            "1\n",
            "2\n",
            "0\n",
            "2\n",
            "4\n",
            "3\n",
            "16\n",
            "6\n",
            "78.6\n",
            "128.0\n",
            "6\n",
            "3\n",
            "3000\n",
            "72\n",
            "1\n",
            "\n",
            "-------\n",
            "0\n",
            "8\n",
            "28\n",
            "150.0\n",
            "337\n",
            "2.0\n",
            "8.7\n",
            "5\n",
            "5.0\n",
            "3\n",
            "5.5\n",
            "30\n",
            "2\n",
            "25\n",
            "0\n",
            "156.8\n",
            "5\n",
            "4\n",
            "13999\n",
            "9\n",
            "1080\n",
            "9\n",
            "1\n",
            "2\n",
            "13.0\n",
            "1\n",
            "4\n",
            "2\n",
            "4\n",
            "4\n",
            "3\n",
            "16\n",
            "6\n",
            "78.1\n",
            "64.0\n",
            "6\n",
            "3\n",
            "3000\n",
            "14\n",
            "1\n",
            "\n",
            "-------\n",
            "0\n",
            "10\n",
            "30\n",
            "170.0\n",
            "354\n",
            "1.6\n",
            "7.8\n",
            "2\n",
            "5.0\n",
            "3\n",
            "5.5\n",
            "30\n",
            "2\n",
            "301\n",
            "0\n",
            "151.7\n",
            "18\n",
            "3\n",
            "14249\n",
            "23\n",
            "1080\n",
            "9\n",
            "3\n",
            "7\n",
            "13.0\n",
            "1\n",
            "3\n",
            "2\n",
            "2\n",
            "4\n",
            "3\n",
            "16\n",
            "6\n",
            "76.0\n",
            "128.0\n",
            "9\n",
            "3\n",
            "3300\n",
            "72\n",
            "1\n",
            "\n",
            "-------\n",
            "0\n",
            "9\n",
            "43\n",
            "141.0\n",
            "345\n",
            "1.2\n",
            "7.3\n",
            "6\n",
            "5.0\n",
            "4\n",
            "5.5\n",
            "30\n",
            "5\n",
            "0\n",
            "0\n",
            "151.3\n",
            "7\n",
            "11\n",
            "14300\n",
            "18\n",
            "1080\n",
            "4\n",
            "4\n",
            "7\n",
            "13.0\n",
            "1\n",
            "2\n",
            "2\n",
            "2\n",
            "11\n",
            "4\n",
            "7\n",
            "3\n",
            "77.2\n",
            "64.0\n",
            "4\n",
            "3\n",
            "2950\n",
            "94\n",
            "0\n",
            "\n",
            "-------\n",
            "0\n",
            "1\n",
            "44\n",
            "154.5\n",
            "560\n",
            "1.7\n",
            "7.7\n",
            "5\n",
            "8.0\n",
            "3\n",
            "5.5\n",
            "30\n",
            "2\n",
            "12\n",
            "0\n",
            "157.7\n",
            "26\n",
            "9\n",
            "14614\n",
            "12\n",
            "1080\n",
            "4\n",
            "1\n",
            "2\n",
            "13.0\n",
            "2\n",
            "1\n",
            "2\n",
            "5\n",
            "4\n",
            "4\n",
            "7\n",
            "6\n",
            "78.7\n",
            "32.0\n",
            "4\n",
            "3\n",
            "2600\n",
            "79\n",
            "1\n",
            "\n",
            "-------\n",
            "1\n",
            "1\n",
            "44\n",
            "171.8\n",
            "1093\n",
            "1.4\n",
            "7.7\n",
            "5\n",
            "1.1\n",
            "3\n",
            "6.0\n",
            "30\n",
            "3\n",
            "24\n",
            "0\n",
            "165.2\n",
            "26\n",
            "3\n",
            "14880\n",
            "30\n",
            "1080\n",
            "4\n",
            "1\n",
            "11\n",
            "13.0\n",
            "1\n",
            "1\n",
            "7\n",
            "8\n",
            "6\n",
            "4\n",
            "6\n",
            "6\n",
            "83.8\n",
            "32.0\n",
            "3\n",
            "3\n",
            "3000\n",
            "129\n",
            "1\n",
            "\n",
            "-------\n",
            "1\n",
            "10\n",
            "29\n",
            "229.0\n",
            "480\n",
            "1.5\n",
            "7.6\n",
            "4\n",
            "5.0\n",
            "3\n",
            "6.8\n",
            "30\n",
            "3\n",
            "0\n",
            "0\n",
            "186.6\n",
            "18\n",
            "3\n",
            "14990\n",
            "24\n",
            "1080\n",
            "1\n",
            "1\n",
            "1\n",
            "13.0\n",
            "2\n",
            "2\n",
            "4\n",
            "11\n",
            "4\n",
            "4\n",
            "12\n",
            "6\n",
            "96.6\n",
            "64.0\n",
            "5\n",
            "3\n",
            "3500\n",
            "22\n",
            "1\n",
            "\n",
            "-------\n",
            "0\n",
            "10\n",
            "16\n",
            "160.0\n",
            "200\n",
            "2.3\n",
            "6.9\n",
            "5\n",
            "8.0\n",
            "3\n",
            "5.0\n",
            "30\n",
            "3\n",
            "175\n",
            "0\n",
            "140.0\n",
            "5\n",
            "9\n",
            "14999\n",
            "24\n",
            "1080\n",
            "9\n",
            "1\n",
            "0\n",
            "13.0\n",
            "2\n",
            "3\n",
            "2\n",
            "12\n",
            "6\n",
            "1\n",
            "23\n",
            "6\n",
            "69.0\n",
            "0.0\n",
            "6\n",
            "4\n",
            "2525\n",
            "15\n",
            "1\n",
            "\n",
            "-------\n",
            "3\n",
            "6\n",
            "16\n",
            "149.0\n",
            "280\n",
            "2.5\n",
            "8.9\n",
            "5\n",
            "8.0\n",
            "3\n",
            "5.0\n",
            "30\n",
            "2\n",
            "33\n",
            "0\n",
            "139.2\n",
            "26\n",
            "3\n",
            "14999\n",
            "18\n",
            "2160\n",
            "1\n",
            "1\n",
            "2\n",
            "13.0\n",
            "1\n",
            "3\n",
            "2\n",
            "6\n",
            "6\n",
            "2\n",
            "23\n",
            "6\n",
            "68.5\n",
            "0.0\n",
            "4\n",
            "3\n",
            "3080\n",
            "15\n",
            "1\n",
            "\n",
            "-------\n",
            "3\n",
            "3\n",
            "16\n",
            "144.0\n",
            "250\n",
            "2.5\n",
            "10.0\n",
            "2\n",
            "13.0\n",
            "3\n",
            "5.2\n",
            "30\n",
            "4\n",
            "188\n",
            "0\n",
            "140.8\n",
            "5\n",
            "11\n",
            "14999\n",
            "24\n",
            "2160\n",
            "9\n",
            "1\n",
            "5\n",
            "13.0\n",
            "1\n",
            "2\n",
            "2\n",
            "3\n",
            "6\n",
            "1\n",
            "20\n",
            "4\n",
            "72.4\n",
            "0.0\n",
            "4\n",
            "3\n",
            "2300\n",
            "15\n",
            "1\n",
            "\n",
            "-------\n",
            "2\n",
            "10\n",
            "16\n",
            "175.0\n",
            "840\n",
            "2.5\n",
            "8.9\n",
            "3\n",
            "8.0\n",
            "3\n",
            "5.5\n",
            "30\n",
            "1\n",
            "6\n",
            "0\n",
            "155.7\n",
            "15\n",
            "11\n",
            "15689\n",
            "48\n",
            "1080\n",
            "9\n",
            "1\n",
            "4\n",
            "13.0\n",
            "2\n",
            "3\n",
            "6\n",
            "11\n",
            "6\n",
            "0\n",
            "16\n",
            "3\n",
            "77.3\n",
            "0.0\n",
            "6\n",
            "14\n",
            "4100\n",
            "15\n",
            "0\n",
            "\n",
            "-------\n",
            "0\n",
            "8\n",
            "29\n",
            "134.0\n",
            "380\n",
            "1.7\n",
            "7.3\n",
            "5\n",
            "8.0\n",
            "3\n",
            "5.0\n",
            "30\n",
            "1\n",
            "0\n",
            "0\n",
            "143.5\n",
            "8\n",
            "2\n",
            "15950\n",
            "20\n",
            "1080\n",
            "9\n",
            "1\n",
            "2\n",
            "13.0\n",
            "1\n",
            "3\n",
            "2\n",
            "10\n",
            "4\n",
            "3\n",
            "9\n",
            "6\n",
            "71.0\n",
            "128.0\n",
            "6\n",
            "3\n",
            "2500\n",
            "21\n",
            "1\n",
            "\n",
            "-------\n",
            "0\n",
            "7\n",
            "30\n",
            "170.0\n",
            "354\n",
            "1.6\n",
            "7.8\n",
            "5\n",
            "5.0\n",
            "3\n",
            "5.5\n",
            "30\n",
            "3\n",
            "301\n",
            "0\n",
            "151.7\n",
            "26\n",
            "3\n",
            "15990\n",
            "23\n",
            "1080\n",
            "0\n",
            "3\n",
            "7\n",
            "13.0\n",
            "1\n",
            "3\n",
            "2\n",
            "2\n",
            "4\n",
            "4\n",
            "7\n",
            "6\n",
            "76.0\n",
            "32.0\n",
            "9\n",
            "3\n",
            "3300\n",
            "72\n",
            "1\n",
            "\n",
            "-------\n",
            "0\n",
            "13\n",
            "29\n",
            "189.0\n",
            "600\n",
            "1.5\n",
            "9.9\n",
            "2\n",
            "5.0\n",
            "3\n",
            "5.5\n",
            "30\n",
            "2\n",
            "137\n",
            "0\n",
            "152.9\n",
            "5\n",
            "11\n",
            "15999\n",
            "44\n",
            "1080\n",
            "9\n",
            "1\n",
            "2\n",
            "13.0\n",
            "2\n",
            "2\n",
            "4\n",
            "11\n",
            "4\n",
            "3\n",
            "16\n",
            "6\n",
            "75.6\n",
            "128.0\n",
            "6\n",
            "3\n",
            "5000\n",
            "22\n",
            "1\n",
            "\n",
            "-------\n",
            "3\n",
            "10\n",
            "15\n",
            "130.0\n",
            "370\n",
            "1.6\n",
            "7.9\n",
            "5\n",
            "2.0\n",
            "3\n",
            "5.0\n",
            "30\n",
            "1\n",
            "347\n",
            "0\n",
            "136.6\n",
            "5\n",
            "3\n",
            "16999\n",
            "17\n",
            "1080\n",
            "9\n",
            "3\n",
            "7\n",
            "13.0\n",
            "1\n",
            "2\n",
            "2\n",
            "2\n",
            "4\n",
            "4\n",
            "23\n",
            "3\n",
            "69.8\n",
            "64.0\n",
            "2\n",
            "10\n",
            "2600\n",
            "20\n",
            "1\n",
            "\n",
            "-------\n",
            "0\n",
            "10\n",
            "29\n",
            "145.0\n",
            "456\n",
            "1.7\n",
            "7.3\n",
            "2\n",
            "8.0\n",
            "3\n",
            "5.0\n",
            "30\n",
            "2\n",
            "22\n",
            "0\n",
            "142.0\n",
            "5\n",
            "3\n",
            "17810\n",
            "21\n",
            "1080\n",
            "1\n",
            "1\n",
            "2\n",
            "16.0\n",
            "2\n",
            "3\n",
            "4\n",
            "11\n",
            "4\n",
            "4\n",
            "23\n",
            "6\n",
            "70.0\n",
            "128.0\n",
            "5\n",
            "3\n",
            "3000\n",
            "22\n",
            "1\n",
            "\n",
            "-------\n",
            "0\n",
            "8\n",
            "29\n",
            "169.0\n",
            "330\n",
            "1.7\n",
            "10.9\n",
            "2\n",
            "5.0\n",
            "3\n",
            "5.5\n",
            "30\n",
            "2\n",
            "48\n",
            "0\n",
            "148.0\n",
            "5\n",
            "11\n",
            "18499\n",
            "18\n",
            "1080\n",
            "9\n",
            "1\n",
            "2\n",
            "21.0\n",
            "1\n",
            "2\n",
            "4\n",
            "3\n",
            "6\n",
            "4\n",
            "16\n",
            "7\n",
            "75.0\n",
            "128.0\n",
            "6\n",
            "3\n",
            "3630\n",
            "22\n",
            "1\n",
            "\n",
            "-------\n",
            "1\n",
            "8\n",
            "29\n",
            "135.0\n",
            "488\n",
            "1.5\n",
            "7.3\n",
            "5\n",
            "5.0\n",
            "3\n",
            "5.0\n",
            "30\n",
            "3\n",
            "0\n",
            "0\n",
            "145.5\n",
            "21\n",
            "9\n",
            "18798\n",
            "13\n",
            "1080\n",
            "6\n",
            "1\n",
            "2\n",
            "13.0\n",
            "1\n",
            "2\n",
            "2\n",
            "8\n",
            "6\n",
            "4\n",
            "9\n",
            "0\n",
            "72.6\n",
            "128.0\n",
            "5\n",
            "3\n",
            "2400\n",
            "22\n",
            "1\n",
            "\n",
            "-------\n",
            "0\n",
            "10\n",
            "34\n",
            "147.0\n",
            "682\n",
            "1.7\n",
            "7.9\n",
            "5\n",
            "5.0\n",
            "3\n",
            "5.5\n",
            "30\n",
            "3\n",
            "0\n",
            "0\n",
            "150.3\n",
            "20\n",
            "9\n",
            "19000\n",
            "11\n",
            "1080\n",
            "1\n",
            "1\n",
            "3\n",
            "13.0\n",
            "1\n",
            "2\n",
            "2\n",
            "8\n",
            "4\n",
            "4\n",
            "0\n",
            "3\n",
            "77.4\n",
            "128.0\n",
            "5\n",
            "7\n",
            "2600\n",
            "16\n",
            "1\n",
            "\n",
            "-------\n",
            "0\n",
            "8\n",
            "38\n",
            "150.0\n",
            "420\n",
            "1.5\n",
            "8.0\n",
            "5\n",
            "4.0\n",
            "3\n",
            "5.5\n",
            "30\n",
            "3\n",
            "18\n",
            "0\n",
            "157.7\n",
            "26\n",
            "9\n",
            "19490\n",
            "12\n",
            "1080\n",
            "9\n",
            "1\n",
            "2\n",
            "13.0\n",
            "2\n",
            "2\n",
            "2\n",
            "5\n",
            "4\n",
            "4\n",
            "16\n",
            "3\n",
            "78.9\n",
            "2048.0\n",
            "6\n",
            "3\n",
            "2800\n",
            "19\n",
            "1\n",
            "\n",
            "-------\n",
            "0\n",
            "10\n",
            "34\n",
            "165.0\n",
            "170\n",
            "1.5\n",
            "7.6\n",
            "5\n",
            "4.0\n",
            "3\n",
            "5.5\n",
            "30\n",
            "1\n",
            "13\n",
            "0\n",
            "157.7\n",
            "26\n",
            "9\n",
            "19890\n",
            "7\n",
            "1080\n",
            "4\n",
            "3\n",
            "2\n",
            "13.0\n",
            "6\n",
            "2\n",
            "2\n",
            "5\n",
            "4\n",
            "4\n",
            "7\n",
            "3\n",
            "79.7\n",
            "128.0\n",
            "5\n",
            "3\n",
            "2600\n",
            "16\n",
            "1\n",
            "\n",
            "-------\n",
            "3\n",
            "8\n",
            "16\n",
            "162.0\n",
            "360\n",
            "2.5\n",
            "8.9\n",
            "2\n",
            "5.0\n",
            "3\n",
            "5.5\n",
            "30\n",
            "4\n",
            "22\n",
            "0\n",
            "152.9\n",
            "5\n",
            "3\n",
            "19999\n",
            "38\n",
            "2160\n",
            "9\n",
            "1\n",
            "2\n",
            "13.0\n",
            "2\n",
            "3\n",
            "6\n",
            "12\n",
            "6\n",
            "1\n",
            "16\n",
            "6\n",
            "75.9\n",
            "0.0\n",
            "4\n",
            "4\n",
            "3100\n",
            "15\n",
            "1\n",
            "\n",
            "-------\n",
            "3\n",
            "10\n",
            "17\n",
            "112.0\n",
            "250\n",
            "1.3\n",
            "7.6\n",
            "2\n",
            "1.2\n",
            "3\n",
            "4.0\n",
            "30\n",
            "1\n",
            "1304\n",
            "2\n",
            "123.8\n",
            "12\n",
            "11\n",
            "20397\n",
            "10\n",
            "1080\n",
            "2\n",
            "1\n",
            "2\n",
            "8.0\n",
            "2\n",
            "1\n",
            "2\n",
            "1\n",
            "0\n",
            "1\n",
            "13\n",
            "6\n",
            "58.6\n",
            "0.0\n",
            "11\n",
            "13\n",
            "1560\n",
            "13\n",
            "1\n",
            "\n",
            "-------\n",
            "0\n",
            "8\n",
            "29\n",
            "183.0\n",
            "687\n",
            "1.7\n",
            "8.0\n",
            "5\n",
            "4.0\n",
            "3\n",
            "5.5\n",
            "30\n",
            "2\n",
            "131\n",
            "0\n",
            "158.0\n",
            "26\n",
            "11\n",
            "21300\n",
            "19\n",
            "1080\n",
            "9\n",
            "1\n",
            "9\n",
            "13.0\n",
            "2\n",
            "2\n",
            "2\n",
            "5\n",
            "4\n",
            "4\n",
            "16\n",
            "6\n",
            "77.5\n",
            "128.0\n",
            "5\n",
            "3\n",
            "2600\n",
            "22\n",
            "1\n",
            "\n",
            "-------\n",
            "3\n",
            "10\n",
            "16\n",
            "145.0\n",
            "390\n",
            "1.9\n",
            "8.1\n",
            "5\n",
            "2.0\n",
            "3\n",
            "5.1\n",
            "30\n",
            "1\n",
            "22\n",
            "0\n",
            "142.0\n",
            "5\n",
            "9\n",
            "21999\n",
            "21\n",
            "2160\n",
            "1\n",
            "3\n",
            "7\n",
            "16.0\n",
            "1\n",
            "2\n",
            "2\n",
            "2\n",
            "6\n",
            "4\n",
            "22\n",
            "7\n",
            "72.5\n",
            "128.0\n",
            "4\n",
            "9\n",
            "2800\n",
            "15\n",
            "0\n",
            "\n",
            "-------\n",
            "0\n",
            "8\n",
            "34\n",
            "187.0\n",
            "635\n",
            "1.7\n",
            "8.2\n",
            "5\n",
            "13.0\n",
            "3\n",
            "6.0\n",
            "30\n",
            "3\n",
            "26\n",
            "0\n",
            "164.2\n",
            "20\n",
            "9\n",
            "21999\n",
            "13\n",
            "1080\n",
            "1\n",
            "1\n",
            "2\n",
            "13.0\n",
            "1\n",
            "2\n",
            "2\n",
            "8\n",
            "4\n",
            "4\n",
            "14\n",
            "3\n",
            "79.6\n",
            "200.0\n",
            "5\n",
            "3\n",
            "2930\n",
            "16\n",
            "1\n",
            "\n",
            "-------\n",
            "0\n",
            "8\n",
            "9\n",
            "175.0\n",
            "360\n",
            "1.8\n",
            "9.9\n",
            "2\n",
            "5.0\n",
            "3\n",
            "5.5\n",
            "30\n",
            "4\n",
            "100\n",
            "0\n",
            "151.8\n",
            "5\n",
            "9\n",
            "22999\n",
            "38\n",
            "2160\n",
            "9\n",
            "1\n",
            "2\n",
            "13.0\n",
            "2\n",
            "4\n",
            "6\n",
            "12\n",
            "6\n",
            "1\n",
            "16\n",
            "6\n",
            "74.9\n",
            "0.0\n",
            "6\n",
            "12\n",
            "3300\n",
            "5\n",
            "1\n",
            "\n",
            "-------\n",
            "1\n",
            "8\n",
            "24\n",
            "157.0\n",
            "620\n",
            "2.2\n",
            "8.5\n",
            "1\n",
            "8.0\n",
            "3\n",
            "5.2\n",
            "30\n",
            "3\n",
            "29\n",
            "0\n",
            "143.2\n",
            "26\n",
            "9\n",
            "22999\n",
            "23\n",
            "1080\n",
            "9\n",
            "4\n",
            "2\n",
            "20.0\n",
            "2\n",
            "3\n",
            "2\n",
            "15\n",
            "4\n",
            "4\n",
            "20\n",
            "6\n",
            "71.9\n",
            "128.0\n",
            "5\n",
            "3\n",
            "3100\n",
            "11\n",
            "0\n",
            "\n",
            "-------\n",
            "0\n",
            "8\n",
            "14\n",
            "175.0\n",
            "618\n",
            "1.8\n",
            "9.3\n",
            "2\n",
            "8.0\n",
            "4\n",
            "5.5\n",
            "30\n",
            "2\n",
            "0\n",
            "0\n",
            "154.0\n",
            "5\n",
            "11\n",
            "24499\n",
            "31\n",
            "2160\n",
            "9\n",
            "4\n",
            "1\n",
            "21.0\n",
            "4\n",
            "3\n",
            "6\n",
            "11\n",
            "8\n",
            "6\n",
            "16\n",
            "6\n",
            "76.5\n",
            "0.0\n",
            "6\n",
            "3\n",
            "3600\n",
            "8\n",
            "0\n",
            "\n",
            "-------\n",
            "3\n",
            "7\n",
            "41\n",
            "155.0\n",
            "180\n",
            "1.6\n",
            "7.1\n",
            "5\n",
            "5.0\n",
            "3\n",
            "5.2\n",
            "30\n",
            "3\n",
            "75\n",
            "0\n",
            "144.8\n",
            "7\n",
            "9\n",
            "24900\n",
            "16\n",
            "1080\n",
            "1\n",
            "0\n",
            "7\n",
            "13.0\n",
            "2\n",
            "2\n",
            "2\n",
            "2\n",
            "4\n",
            "4\n",
            "20\n",
            "3\n",
            "71.0\n",
            "128.0\n",
            "6\n",
            "3\n",
            "2900\n",
            "72\n",
            "1\n",
            "\n",
            "-------\n",
            "1\n",
            "8\n",
            "3\n",
            "129.0\n",
            "598\n",
            "1.8\n",
            "7.3\n",
            "2\n",
            "4.0\n",
            "3\n",
            "5.15\n",
            "30\n",
            "1\n",
            "0\n",
            "0\n",
            "144.6\n",
            "7\n",
            "9\n",
            "24999\n",
            "27\n",
            "2160\n",
            "1\n",
            "1\n",
            "2\n",
            "16.0\n",
            "2\n",
            "4\n",
            "4\n",
            "6\n",
            "6\n",
            "2\n",
            "21\n",
            "6\n",
            "69.2\n",
            "0.0\n",
            "9\n",
            "0\n",
            "3000\n",
            "2\n",
            "0\n",
            "\n",
            "-------\n",
            "4\n",
            "8\n",
            "14\n",
            "179.0\n",
            "410\n",
            "1.8\n",
            "11.1\n",
            "0\n",
            "5.0\n",
            "3\n",
            "5.7\n",
            "30\n",
            "1\n",
            "4\n",
            "0\n",
            "153.9\n",
            "5\n",
            "9\n",
            "24999\n",
            "19\n",
            "2160\n",
            "10\n",
            "4\n",
            "12\n",
            "21.0\n",
            "1\n",
            "3\n",
            "6\n",
            "3\n",
            "8\n",
            "4\n",
            "26\n",
            "6\n",
            "76.2\n",
            "128.0\n",
            "6\n",
            "3\n",
            "3000\n",
            "3\n",
            "1\n",
            "\n",
            "-------\n",
            "3\n",
            "8\n",
            "9\n",
            "144.0\n",
            "590\n",
            "2.0\n",
            "6.9\n",
            "5\n",
            "2.2\n",
            "3\n",
            "5.2\n",
            "30\n",
            "2\n",
            "126\n",
            "0\n",
            "146.0\n",
            "25\n",
            "3\n",
            "25500\n",
            "17\n",
            "2160\n",
            "1\n",
            "1\n",
            "1\n",
            "20.7\n",
            "1\n",
            "3\n",
            "4\n",
            "8\n",
            "6\n",
            "4\n",
            "20\n",
            "7\n",
            "72.0\n",
            "128.0\n",
            "5\n",
            "3\n",
            "2930\n",
            "5\n",
            "1\n",
            "\n",
            "-------\n",
            "1\n",
            "10\n",
            "28\n",
            "142.6\n",
            "504\n",
            "2.0\n",
            "7.6\n",
            "5\n",
            "13.0\n",
            "3\n",
            "5.0\n",
            "30\n",
            "3\n",
            "69\n",
            "0\n",
            "145.0\n",
            "21\n",
            "9\n",
            "25500\n",
            "12\n",
            "216\n",
            "1\n",
            "1\n",
            "2\n",
            "21.2\n",
            "1\n",
            "3\n",
            "2\n",
            "8\n",
            "4\n",
            "4\n",
            "23\n",
            "1\n",
            "72.0\n",
            "200.0\n",
            "5\n",
            "3\n",
            "2600\n",
            "14\n",
            "0\n",
            "\n",
            "-------\n",
            "0\n",
            "10\n",
            "25\n",
            "145.0\n",
            "250\n",
            "2.0\n",
            "6.6\n",
            "5\n",
            "16.0\n",
            "3\n",
            "5.5\n",
            "30\n",
            "4\n",
            "19\n",
            "0\n",
            "151.8\n",
            "7\n",
            "11\n",
            "27580\n",
            "24\n",
            "1080\n",
            "9\n",
            "1\n",
            "0\n",
            "13.0\n",
            "2\n",
            "4\n",
            "6\n",
            "10\n",
            "4\n",
            "3\n",
            "16\n",
            "6\n",
            "74.3\n",
            "128.0\n",
            "6\n",
            "3\n",
            "2850\n",
            "90\n",
            "1\n",
            "\n",
            "-------\n",
            "3\n",
            "10\n",
            "11\n",
            "176.0\n",
            "200\n",
            "2.7\n",
            "8.5\n",
            "5\n",
            "3.7\n",
            "3\n",
            "5.7\n",
            "30\n",
            "1\n",
            "226\n",
            "0\n",
            "153.5\n",
            "0\n",
            "3\n",
            "29900\n",
            "20\n",
            "216\n",
            "10\n",
            "3\n",
            "7\n",
            "16.0\n",
            "1\n",
            "3\n",
            "4\n",
            "2\n",
            "6\n",
            "4\n",
            "24\n",
            "6\n",
            "78.6\n",
            "128.0\n",
            "4\n",
            "3\n",
            "3220\n",
            "9\n",
            "1\n",
            "\n",
            "-------\n",
            "0\n",
            "10\n",
            "21\n",
            "168.0\n",
            "420\n",
            "2.3\n",
            "8.3\n",
            "5\n",
            "2.0\n",
            "3\n",
            "5.7\n",
            "30\n",
            "0\n",
            "502\n",
            "0\n",
            "151.2\n",
            "5\n",
            "3\n",
            "29990\n",
            "21\n",
            "2160\n",
            "9\n",
            "3\n",
            "7\n",
            "13.0\n",
            "1\n",
            "3\n",
            "4\n",
            "2\n",
            "6\n",
            "4\n",
            "15\n",
            "3\n",
            "79.2\n",
            "64.0\n",
            "3\n",
            "9\n",
            "3200\n",
            "52\n",
            "1\n",
            "\n",
            "-------\n",
            "4\n",
            "6\n",
            "14\n",
            "155.0\n",
            "410\n",
            "1.8\n",
            "6.3\n",
            "2\n",
            "8.0\n",
            "3\n",
            "5.5\n",
            "30\n",
            "3\n",
            "0\n",
            "0\n",
            "148.9\n",
            "10\n",
            "9\n",
            "30947\n",
            "19\n",
            "2160\n",
            "10\n",
            "5\n",
            "1\n",
            "16.0\n",
            "1\n",
            "3\n",
            "4\n",
            "9\n",
            "8\n",
            "4\n",
            "28\n",
            "6\n",
            "76.1\n",
            "2048.0\n",
            "6\n",
            "3\n",
            "3000\n",
            "8\n",
            "1\n",
            "\n",
            "-------\n",
            "3\n",
            "8\n",
            "9\n",
            "178.0\n",
            "440\n",
            "2.0\n",
            "7.3\n",
            "2\n",
            "8.0\n",
            "3\n",
            "5.7\n",
            "30\n",
            "1\n",
            "87\n",
            "0\n",
            "159.3\n",
            "11\n",
            "9\n",
            "31999\n",
            "23\n",
            "2160\n",
            "8\n",
            "1\n",
            "0\n",
            "12.3\n",
            "2\n",
            "3\n",
            "4\n",
            "15\n",
            "4\n",
            "2\n",
            "25\n",
            "6\n",
            "77.8\n",
            "0.0\n",
            "9\n",
            "3\n",
            "3450\n",
            "5\n",
            "1\n",
            "\n",
            "-------\n",
            "3\n",
            "7\n",
            "8\n",
            "138.0\n",
            "354\n",
            "2.1\n",
            "6.8\n",
            "2\n",
            "5.0\n",
            "3\n",
            "5.1\n",
            "30\n",
            "1\n",
            "349\n",
            "0\n",
            "143.4\n",
            "7\n",
            "9\n",
            "33900\n",
            "17\n",
            "2160\n",
            "10\n",
            "1\n",
            "7\n",
            "16.0\n",
            "1\n",
            "3\n",
            "4\n",
            "2\n",
            "6\n",
            "2\n",
            "31\n",
            "3\n",
            "70.5\n",
            "0.0\n",
            "5\n",
            "3\n",
            "2550\n",
            "4\n",
            "1\n",
            "\n",
            "-------\n",
            "3\n",
            "8\n",
            "9\n",
            "169.0\n",
            "500\n",
            "2.0\n",
            "9.2\n",
            "2\n",
            "5.0\n",
            "3\n",
            "5.4\n",
            "30\n",
            "4\n",
            "22\n",
            "0\n",
            "149.8\n",
            "23\n",
            "11\n",
            "34999\n",
            "25\n",
            "2160\n",
            "10\n",
            "1\n",
            "0\n",
            "21.0\n",
            "1\n",
            "3\n",
            "4\n",
            "3\n",
            "6\n",
            "1\n",
            "29\n",
            "6\n",
            "78.0\n",
            "0.0\n",
            "7\n",
            "3\n",
            "3760\n",
            "5\n",
            "0\n",
            "\n",
            "-------\n",
            "3\n",
            "10\n",
            "6\n",
            "113.0\n",
            "240\n",
            "1.84\n",
            "7.6\n",
            "2\n",
            "1.2\n",
            "3\n",
            "4.0\n",
            "30\n",
            "1\n",
            "0\n",
            "2\n",
            "123.8\n",
            "3\n",
            "6\n",
            "34999\n",
            "14\n",
            "2160\n",
            "13\n",
            "1\n",
            "1\n",
            "12.0\n",
            "2\n",
            "1\n",
            "2\n",
            "1\n",
            "1\n",
            "2\n",
            "13\n",
            "6\n",
            "58.6\n",
            "0.0\n",
            "14\n",
            "13\n",
            "1624\n",
            "1\n",
            "0\n",
            "\n",
            "-------\n",
            "4\n",
            "8\n",
            "14\n",
            "136.0\n",
            "360\n",
            "1.8\n",
            "7.9\n",
            "1\n",
            "5.0\n",
            "3\n",
            "5.2\n",
            "30\n",
            "1\n",
            "24\n",
            "0\n",
            "147.0\n",
            "5\n",
            "9\n",
            "35900\n",
            "14\n",
            "2160\n",
            "9\n",
            "4\n",
            "2\n",
            "12.3\n",
            "4\n",
            "2\n",
            "2\n",
            "9\n",
            "8\n",
            "2\n",
            "19\n",
            "6\n",
            "72.6\n",
            "0.0\n",
            "9\n",
            "11\n",
            "2700\n",
            "8\n",
            "1\n",
            "\n",
            "-------\n",
            "3\n",
            "10\n",
            "12\n",
            "129.0\n",
            "250\n",
            "1.4\n",
            "6.9\n",
            "2\n",
            "1.3\n",
            "3\n",
            "4.7\n",
            "60\n",
            "1\n",
            "410\n",
            "2\n",
            "138.1\n",
            "16\n",
            "9\n",
            "36499\n",
            "14\n",
            "1080\n",
            "7\n",
            "1\n",
            "2\n",
            "8.0\n",
            "2\n",
            "1\n",
            "2\n",
            "1\n",
            "0\n",
            "2\n",
            "13\n",
            "3\n",
            "67.0\n",
            "0.0\n",
            "12\n",
            "6\n",
            "1810\n",
            "7\n",
            "1\n",
            "\n",
            "-------\n",
            "3\n",
            "10\n",
            "12\n",
            "129.0\n",
            "250\n",
            "1.4\n",
            "6.9\n",
            "2\n",
            "1.2\n",
            "3\n",
            "4.7\n",
            "60\n",
            "4\n",
            "39\n",
            "2\n",
            "138.1\n",
            "16\n",
            "11\n",
            "36999\n",
            "14\n",
            "1080\n",
            "9\n",
            "1\n",
            "2\n",
            "8.0\n",
            "2\n",
            "1\n",
            "2\n",
            "1\n",
            "0\n",
            "1\n",
            "13\n",
            "6\n",
            "67.0\n",
            "0.0\n",
            "12\n",
            "13\n",
            "1810\n",
            "7\n",
            "1\n",
            "\n",
            "-------\n",
            "3\n",
            "10\n",
            "28\n",
            "168.0\n",
            "580\n",
            "2.2\n",
            "9.6\n",
            "2\n",
            "4.0\n",
            "3\n",
            "5.2\n",
            "30\n",
            "3\n",
            "11\n",
            "0\n",
            "151.0\n",
            "7\n",
            "7\n",
            "37766\n",
            "20\n",
            "2160\n",
            "10\n",
            "4\n",
            "10\n",
            "20.0\n",
            "4\n",
            "3\n",
            "4\n",
            "5\n",
            "10\n",
            "4\n",
            "30\n",
            "6\n",
            "72.0\n",
            "256.0\n",
            "5\n",
            "3\n",
            "2840\n",
            "56\n",
            "0\n",
            "\n",
            "-------\n",
            "3\n",
            "12\n",
            "16\n",
            "149.0\n",
            "410\n",
            "2.5\n",
            "8.9\n",
            "3\n",
            "2.1\n",
            "3\n",
            "5.5\n",
            "30\n",
            "3\n",
            "0\n",
            "0\n",
            "146.3\n",
            "5\n",
            "1\n",
            "38000\n",
            "19\n",
            "2160\n",
            "10\n",
            "3\n",
            "1\n",
            "13.0\n",
            "5\n",
            "3\n",
            "4\n",
            "9\n",
            "7\n",
            "4\n",
            "28\n",
            "6\n",
            "74.6\n",
            "32.0\n",
            "4\n",
            "3\n",
            "3000\n",
            "15\n",
            "1\n",
            "\n",
            "-------\n",
            "0\n",
            "8\n",
            "9\n",
            "154.0\n",
            "340\n",
            "2.0\n",
            "7.3\n",
            "6\n",
            "5.0\n",
            "2\n",
            "5.2\n",
            "30\n",
            "3\n",
            "9\n",
            "0\n",
            "146.0\n",
            "24\n",
            "7\n",
            "39890\n",
            "13\n",
            "2160\n",
            "9\n",
            "4\n",
            "1\n",
            "23.0\n",
            "4\n",
            "3\n",
            "4\n",
            "8\n",
            "5\n",
            "6\n",
            "20\n",
            "1\n",
            "72.0\n",
            "256.0\n",
            "6\n",
            "3\n",
            "2900\n",
            "5\n",
            "1\n",
            "\n",
            "-------\n",
            "3\n",
            "2\n",
            "8\n",
            "132.0\n",
            "362\n",
            "1.5\n",
            "7.0\n",
            "5\n",
            "5.0\n",
            "4\n",
            "5.1\n",
            "30\n",
            "1\n",
            "0\n",
            "0\n",
            "142.1\n",
            "9\n",
            "7\n",
            "40900\n",
            "14\n",
            "2160\n",
            "10\n",
            "1\n",
            "7\n",
            "16.0\n",
            "1\n",
            "3\n",
            "4\n",
            "2\n",
            "7\n",
            "4\n",
            "32\n",
            "6\n",
            "70.1\n",
            "64.0\n",
            "5\n",
            "3\n",
            "2600\n",
            "4\n",
            "1\n",
            "\n",
            "-------\n",
            "3\n",
            "10\n",
            "12\n",
            "129.0\n",
            "250\n",
            "1.4\n",
            "6.9\n",
            "2\n",
            "1.2\n",
            "3\n",
            "4.7\n",
            "60\n",
            "4\n",
            "39\n",
            "2\n",
            "138.1\n",
            "16\n",
            "11\n",
            "48329\n",
            "14\n",
            "1080\n",
            "7\n",
            "1\n",
            "2\n",
            "8.0\n",
            "2\n",
            "1\n",
            "6\n",
            "1\n",
            "0\n",
            "1\n",
            "13\n",
            "6\n",
            "67.0\n",
            "0.0\n",
            "12\n",
            "13\n",
            "1810\n",
            "7\n",
            "1\n",
            "\n",
            "-------\n",
            "0\n",
            "5\n",
            "3\n",
            "152.0\n",
            "242\n",
            "2.3\n",
            "7.9\n",
            "5\n",
            "5.0\n",
            "3\n",
            "5.1\n",
            "30\n",
            "4\n",
            "150\n",
            "0\n",
            "142.4\n",
            "7\n",
            "9\n",
            "48900\n",
            "22\n",
            "2160\n",
            "10\n",
            "1\n",
            "8\n",
            "12.0\n",
            "1\n",
            "4\n",
            "4\n",
            "2\n",
            "6\n",
            "6\n",
            "32\n",
            "1\n",
            "69.6\n",
            "200.0\n",
            "9\n",
            "3\n",
            "3000\n",
            "101\n",
            "1\n",
            "\n",
            "-------\n",
            "3\n",
            "10\n",
            "6\n",
            "143.0\n",
            "240\n",
            "1.8\n",
            "7.1\n",
            "2\n",
            "5.0\n",
            "3\n",
            "4.7\n",
            "30\n",
            "4\n",
            "100\n",
            "2\n",
            "138.3\n",
            "16\n",
            "11\n",
            "49499\n",
            "14\n",
            "2160\n",
            "7\n",
            "1\n",
            "2\n",
            "12.0\n",
            "2\n",
            "2\n",
            "2\n",
            "1\n",
            "0\n",
            "1\n",
            "13\n",
            "6\n",
            "67.1\n",
            "0.0\n",
            "14\n",
            "13\n",
            "1715\n",
            "1\n",
            "1\n",
            "\n",
            "-------\n",
            "0\n",
            "7\n",
            "43\n",
            "171.0\n",
            "330\n",
            "2.1\n",
            "7.6\n",
            "5\n",
            "5.0\n",
            "3\n",
            "5.7\n",
            "30\n",
            "1\n",
            "107\n",
            "0\n",
            "153.2\n",
            "7\n",
            "9\n",
            "50895\n",
            "22\n",
            "2160\n",
            "8\n",
            "1\n",
            "7\n",
            "16.0\n",
            "2\n",
            "4\n",
            "4\n",
            "2\n",
            "4\n",
            "2\n",
            "25\n",
            "6\n",
            "76.1\n",
            "0.0\n",
            "6\n",
            "3\n",
            "3450\n",
            "4\n",
            "1\n",
            "\n",
            "-------\n",
            "3\n",
            "8\n",
            "9\n",
            "180.0\n",
            "600\n",
            "2.0\n",
            "7.8\n",
            "6\n",
            "5.0\n",
            "2\n",
            "5.5\n",
            "30\n",
            "3\n",
            "0\n",
            "0\n",
            "154.4\n",
            "22\n",
            "7\n",
            "52699\n",
            "19\n",
            "2160\n",
            "11\n",
            "4\n",
            "2\n",
            "23.0\n",
            "4\n",
            "3\n",
            "4\n",
            "8\n",
            "12\n",
            "6\n",
            "33\n",
            "1\n",
            "75.8\n",
            "256.0\n",
            "6\n",
            "3\n",
            "3430\n",
            "5\n",
            "1\n",
            "\n",
            "-------\n",
            "3\n",
            "10\n",
            "14\n",
            "192.0\n",
            "540\n",
            "1.8\n",
            "9.4\n",
            "2\n",
            "2.0\n",
            "2\n",
            "5.4\n",
            "30\n",
            "1\n",
            "0\n",
            "0\n",
            "147.0\n",
            "26\n",
            "7\n",
            "54900\n",
            "15\n",
            "2160\n",
            "10\n",
            "4\n",
            "0\n",
            "18.0\n",
            "4\n",
            "3\n",
            "4\n",
            "25\n",
            "3\n",
            "4\n",
            "29\n",
            "6\n",
            "77.2\n",
            "256.0\n",
            "6\n",
            "3\n",
            "3410\n",
            "8\n",
            "1\n",
            "\n",
            "-------\n",
            "0\n",
            "5\n",
            "3\n",
            "157.0\n",
            "400\n",
            "2.3\n",
            "7.7\n",
            "5\n",
            "5.0\n",
            "3\n",
            "5.5\n",
            "30\n",
            "4\n",
            "144\n",
            "0\n",
            "150.9\n",
            "7\n",
            "9\n",
            "56900\n",
            "27\n",
            "2160\n",
            "10\n",
            "1\n",
            "8\n",
            "12.0\n",
            "1\n",
            "4\n",
            "4\n",
            "2\n",
            "6\n",
            "6\n",
            "27\n",
            "1\n",
            "72.6\n",
            "200.0\n",
            "9\n",
            "3\n",
            "3600\n",
            "101\n",
            "1\n",
            "\n",
            "-------\n",
            "3\n",
            "10\n",
            "6\n",
            "192.0\n",
            "384\n",
            "1.8\n",
            "7.3\n",
            "2\n",
            "5.0\n",
            "3\n",
            "5.5\n",
            "30\n",
            "4\n",
            "81\n",
            "2\n",
            "158.2\n",
            "16\n",
            "11\n",
            "59000\n",
            "24\n",
            "2160\n",
            "7\n",
            "1\n",
            "2\n",
            "12.0\n",
            "2\n",
            "2\n",
            "2\n",
            "1\n",
            "0\n",
            "1\n",
            "16\n",
            "6\n",
            "77.9\n",
            "0.0\n",
            "14\n",
            "13\n",
            "2750\n",
            "1\n",
            "1\n",
            "\n",
            "-------\n",
            "3\n",
            "10\n",
            "12\n",
            "129.0\n",
            "250\n",
            "1.4\n",
            "6.9\n",
            "2\n",
            "1.2\n",
            "3\n",
            "4.7\n",
            "60\n",
            "4\n",
            "39\n",
            "2\n",
            "138.1\n",
            "16\n",
            "11\n",
            "64500\n",
            "14\n",
            "1080\n",
            "7\n",
            "1\n",
            "2\n",
            "8.0\n",
            "2\n",
            "1\n",
            "1\n",
            "1\n",
            "0\n",
            "1\n",
            "13\n",
            "6\n",
            "67.0\n",
            "0.0\n",
            "12\n",
            "13\n",
            "1810\n",
            "7\n",
            "1\n",
            "\n",
            "-------\n",
            "2\n",
            "8\n",
            "3\n",
            "158.0\n",
            "400\n",
            "2.2\n",
            "7.4\n",
            "6\n",
            "8.0\n",
            "3\n",
            "5.5\n",
            "30\n",
            "1\n",
            "0\n",
            "0\n",
            "152.7\n",
            "7\n",
            "8\n",
            "27999\n",
            "40\n",
            "2160\n",
            "9\n",
            "1\n",
            "6\n",
            "16.0\n",
            "4\n",
            "6\n",
            "6\n",
            "12\n",
            "6\n",
            "5\n",
            "16\n",
            "6\n",
            "74.7\n",
            "0.0\n",
            "10\n",
            "12\n",
            "3000\n",
            "2\n",
            "0\n",
            "\n",
            "-------\n"
          ],
          "name": "stdout"
        }
      ]
    },
    {
      "cell_type": "code",
      "metadata": {
        "id": "kaekxExq4Yme",
        "colab_type": "code",
        "colab": {}
      },
      "source": [
        "with open('my_first_file_output.txt', 'w') as file:\n",
        "  file.write('hello world from python code')"
      ],
      "execution_count": 0,
      "outputs": []
    },
    {
      "cell_type": "code",
      "metadata": {
        "id": "gB2XHSeU4rWN",
        "colab_type": "code",
        "outputId": "f82c897c-8a89-4c71-cf4e-f7be57e5531d",
        "colab": {
          "base_uri": "https://localhost:8080/",
          "height": 36
        }
      },
      "source": [
        "!cat my_first_file_output.txt"
      ],
      "execution_count": 297,
      "outputs": [
        {
          "output_type": "stream",
          "text": [
            "hello world from python code"
          ],
          "name": "stdout"
        }
      ]
    },
    {
      "cell_type": "markdown",
      "metadata": {
        "id": "z-G5jSNg1g2Z",
        "colab_type": "text"
      },
      "source": [
        "# Python Classes"
      ]
    },
    {
      "cell_type": "code",
      "metadata": {
        "id": "ETDYzg4a1iAN",
        "colab_type": "code",
        "colab": {}
      },
      "source": [
        "class MobilePhone:\n",
        "  \"\"\"This is a sample class to illustrate how Python classes work\"\"\"\n",
        "  def __init__(self, name, is_android = False, screen_size = 4.3):\n",
        "    self.name = name\n",
        "    self.is_android = is_android\n",
        "    self.screen_size = screen_size\n",
        "    self.rating = -1\n",
        "    \n",
        "  def has_rating(self):\n",
        "    return self.rating > -1"
      ],
      "execution_count": 0,
      "outputs": []
    },
    {
      "cell_type": "code",
      "metadata": {
        "id": "vkHApjaE1kod",
        "colab_type": "code",
        "colab": {}
      },
      "source": [
        "new_phone = MobilePhone('iPhone 5s')"
      ],
      "execution_count": 0,
      "outputs": []
    },
    {
      "cell_type": "code",
      "metadata": {
        "id": "L4KjarI-1mPH",
        "colab_type": "code",
        "outputId": "4e9f47a8-13e1-4164-c62f-c98bf652efa9",
        "colab": {
          "base_uri": "https://localhost:8080/",
          "height": 0
        }
      },
      "source": [
        "type(new_phone)"
      ],
      "execution_count": 300,
      "outputs": [
        {
          "output_type": "execute_result",
          "data": {
            "text/plain": [
              "__main__.MobilePhone"
            ]
          },
          "metadata": {
            "tags": []
          },
          "execution_count": 300
        }
      ]
    },
    {
      "cell_type": "code",
      "metadata": {
        "id": "aw6De6Fi1nmp",
        "colab_type": "code",
        "outputId": "6127cc40-926c-4e70-e3ce-6d92abe9d419",
        "colab": {
          "base_uri": "https://localhost:8080/",
          "height": 0
        }
      },
      "source": [
        "print(new_phone.name, new_phone.is_android, new_phone.screen_size)"
      ],
      "execution_count": 301,
      "outputs": [
        {
          "output_type": "stream",
          "text": [
            "iPhone 5s False 4.3\n"
          ],
          "name": "stdout"
        }
      ]
    },
    {
      "cell_type": "code",
      "metadata": {
        "id": "ngQoF2tn27D3",
        "colab_type": "code",
        "colab": {}
      },
      "source": [
        "new_phone.screen_size = 4"
      ],
      "execution_count": 0,
      "outputs": []
    },
    {
      "cell_type": "code",
      "metadata": {
        "id": "vPOH3OsF2-HW",
        "colab_type": "code",
        "outputId": "43346e6c-c7a1-4a85-c9f1-1e79394589a6",
        "colab": {
          "base_uri": "https://localhost:8080/",
          "height": 0
        }
      },
      "source": [
        "new_phone.has_rating()"
      ],
      "execution_count": 303,
      "outputs": [
        {
          "output_type": "execute_result",
          "data": {
            "text/plain": [
              "False"
            ]
          },
          "metadata": {
            "tags": []
          },
          "execution_count": 303
        }
      ]
    },
    {
      "cell_type": "code",
      "metadata": {
        "id": "u4_kG8F73OoA",
        "colab_type": "code",
        "colab": {}
      },
      "source": [
        "new_phone.rating = 3.9"
      ],
      "execution_count": 0,
      "outputs": []
    },
    {
      "cell_type": "code",
      "metadata": {
        "id": "9uU7BylG3U5K",
        "colab_type": "code",
        "outputId": "30d144fd-b5d6-4a3c-b46b-5b42bb07d248",
        "colab": {
          "base_uri": "https://localhost:8080/",
          "height": 0
        }
      },
      "source": [
        "MobilePhone.__doc__"
      ],
      "execution_count": 305,
      "outputs": [
        {
          "output_type": "execute_result",
          "data": {
            "text/plain": [
              "'This is a sample class to illustrate how Python classes work'"
            ]
          },
          "metadata": {
            "tags": []
          },
          "execution_count": 305
        }
      ]
    },
    {
      "cell_type": "code",
      "metadata": {
        "id": "qNUICpHc3c2w",
        "colab_type": "code",
        "colab": {}
      },
      "source": [
        "class iPhone(MobilePhone):\n",
        "  def __init__(self, name):\n",
        "    MobilePhone.__init__(self, name, False, 4)\n",
        "    \n",
        "  def __str__(self):\n",
        "    return self.name + \" \" + str(self.is_android) + \" \" + str(self.screen_size)"
      ],
      "execution_count": 0,
      "outputs": []
    },
    {
      "cell_type": "code",
      "metadata": {
        "id": "6rvMwJsL3rgO",
        "colab_type": "code",
        "colab": {}
      },
      "source": [
        "new_iphone = iPhone('iPhone 5s')"
      ],
      "execution_count": 0,
      "outputs": []
    },
    {
      "cell_type": "code",
      "metadata": {
        "id": "7Gj-7qNG3t-J",
        "colab_type": "code",
        "outputId": "cfded8f7-1e0e-4c49-de58-9c4da1116dbd",
        "colab": {
          "base_uri": "https://localhost:8080/",
          "height": 0
        }
      },
      "source": [
        "new_iphone.is_android"
      ],
      "execution_count": 308,
      "outputs": [
        {
          "output_type": "execute_result",
          "data": {
            "text/plain": [
              "False"
            ]
          },
          "metadata": {
            "tags": []
          },
          "execution_count": 308
        }
      ]
    },
    {
      "cell_type": "code",
      "metadata": {
        "id": "MadGk2Po3viS",
        "colab_type": "code",
        "outputId": "b168c136-f010-425b-ebdb-58d102277887",
        "colab": {
          "base_uri": "https://localhost:8080/",
          "height": 0
        }
      },
      "source": [
        "print(new_iphone)"
      ],
      "execution_count": 309,
      "outputs": [
        {
          "output_type": "stream",
          "text": [
            "iPhone 5s False 4\n"
          ],
          "name": "stdout"
        }
      ]
    },
    {
      "cell_type": "markdown",
      "metadata": {
        "id": "0wUuGWGY67PE",
        "colab_type": "text"
      },
      "source": [
        "# NumPy"
      ]
    },
    {
      "cell_type": "code",
      "metadata": {
        "id": "aUV4wAG369uu",
        "colab_type": "code",
        "colab": {}
      },
      "source": [
        "import numpy as np"
      ],
      "execution_count": 0,
      "outputs": []
    },
    {
      "cell_type": "code",
      "metadata": {
        "id": "MTXAOj6O6-0_",
        "colab_type": "code",
        "outputId": "6119dc4b-8c36-4dc4-a00f-794ee92c2d4a",
        "colab": {
          "base_uri": "https://localhost:8080/",
          "height": 0
        }
      },
      "source": [
        "X = np.array([1, 2, 3])\n",
        "print(X)"
      ],
      "execution_count": 311,
      "outputs": [
        {
          "output_type": "stream",
          "text": [
            "[1 2 3]\n"
          ],
          "name": "stdout"
        }
      ]
    },
    {
      "cell_type": "code",
      "metadata": {
        "id": "cq5AQNm87DzV",
        "colab_type": "code",
        "outputId": "28a60ee7-304f-4d03-aed2-cb838df38bd8",
        "colab": {
          "base_uri": "https://localhost:8080/",
          "height": 0
        }
      },
      "source": [
        "type(X)"
      ],
      "execution_count": 312,
      "outputs": [
        {
          "output_type": "execute_result",
          "data": {
            "text/plain": [
              "numpy.ndarray"
            ]
          },
          "metadata": {
            "tags": []
          },
          "execution_count": 312
        }
      ]
    },
    {
      "cell_type": "code",
      "metadata": {
        "id": "gO4eo4BB7E8o",
        "colab_type": "code",
        "outputId": "6a82a5fb-1fca-4a1e-fe14-93d17689243d",
        "colab": {
          "base_uri": "https://localhost:8080/",
          "height": 0
        }
      },
      "source": [
        "l = [4, 5, 10]\n",
        "X = np.asarray(l)\n",
        "type(X)"
      ],
      "execution_count": 313,
      "outputs": [
        {
          "output_type": "execute_result",
          "data": {
            "text/plain": [
              "numpy.ndarray"
            ]
          },
          "metadata": {
            "tags": []
          },
          "execution_count": 313
        }
      ]
    },
    {
      "cell_type": "code",
      "metadata": {
        "id": "OMuLgPDF7J1X",
        "colab_type": "code",
        "outputId": "a91b258d-5d91-43a0-910a-b0ec09395b50",
        "colab": {
          "base_uri": "https://localhost:8080/",
          "height": 0
        }
      },
      "source": [
        "print(X)"
      ],
      "execution_count": 314,
      "outputs": [
        {
          "output_type": "stream",
          "text": [
            "[ 4  5 10]\n"
          ],
          "name": "stdout"
        }
      ]
    },
    {
      "cell_type": "code",
      "metadata": {
        "id": "BeIAsx0v7MAx",
        "colab_type": "code",
        "outputId": "57966766-8392-4375-e210-2b2092fee97e",
        "colab": {
          "base_uri": "https://localhost:8080/",
          "height": 0
        }
      },
      "source": [
        "X = np.asarray(l, float)\n",
        "print(X)"
      ],
      "execution_count": 315,
      "outputs": [
        {
          "output_type": "stream",
          "text": [
            "[ 4.  5. 10.]\n"
          ],
          "name": "stdout"
        }
      ]
    },
    {
      "cell_type": "code",
      "metadata": {
        "id": "4YvhBkW87PqC",
        "colab_type": "code",
        "outputId": "0fb7460e-e3eb-4254-a3ec-d9937bad294e",
        "colab": {
          "base_uri": "https://localhost:8080/",
          "height": 0
        }
      },
      "source": [
        "X.shape"
      ],
      "execution_count": 316,
      "outputs": [
        {
          "output_type": "execute_result",
          "data": {
            "text/plain": [
              "(3,)"
            ]
          },
          "metadata": {
            "tags": []
          },
          "execution_count": 316
        }
      ]
    },
    {
      "cell_type": "code",
      "metadata": {
        "id": "-23qSA5g7Sdt",
        "colab_type": "code",
        "colab": {}
      },
      "source": [
        "np.array?"
      ],
      "execution_count": 0,
      "outputs": []
    },
    {
      "cell_type": "code",
      "metadata": {
        "id": "j8uf0P_97YyA",
        "colab_type": "code",
        "colab": {}
      },
      "source": [
        "X = np.array([[1, 2, 3], [4, 5, 6]])"
      ],
      "execution_count": 0,
      "outputs": []
    },
    {
      "cell_type": "code",
      "metadata": {
        "id": "MCAscn-A7hs8",
        "colab_type": "code",
        "outputId": "301f4a04-681b-47bd-d426-429a5e51e6da",
        "colab": {
          "base_uri": "https://localhost:8080/",
          "height": 0
        }
      },
      "source": [
        "print(X)"
      ],
      "execution_count": 319,
      "outputs": [
        {
          "output_type": "stream",
          "text": [
            "[[1 2 3]\n",
            " [4 5 6]]\n"
          ],
          "name": "stdout"
        }
      ]
    },
    {
      "cell_type": "code",
      "metadata": {
        "id": "F1y0RgnH7iV6",
        "colab_type": "code",
        "outputId": "1782e8d8-5123-4a66-f2d1-574d0a78a6b9",
        "colab": {
          "base_uri": "https://localhost:8080/",
          "height": 0
        }
      },
      "source": [
        "X.shape"
      ],
      "execution_count": 320,
      "outputs": [
        {
          "output_type": "execute_result",
          "data": {
            "text/plain": [
              "(2, 3)"
            ]
          },
          "metadata": {
            "tags": []
          },
          "execution_count": 320
        }
      ]
    },
    {
      "cell_type": "code",
      "metadata": {
        "id": "aM-Ag6wU7kiL",
        "colab_type": "code",
        "outputId": "710b0afa-4f0d-4853-fb81-cec0892c322c",
        "colab": {
          "base_uri": "https://localhost:8080/",
          "height": 0
        }
      },
      "source": [
        "X[1, 2]"
      ],
      "execution_count": 321,
      "outputs": [
        {
          "output_type": "execute_result",
          "data": {
            "text/plain": [
              "6"
            ]
          },
          "metadata": {
            "tags": []
          },
          "execution_count": 321
        }
      ]
    },
    {
      "cell_type": "code",
      "metadata": {
        "id": "m0olUSq07wAz",
        "colab_type": "code",
        "outputId": "4585b109-00e0-40f2-f5dc-1f1ebbdd90b7",
        "colab": {
          "base_uri": "https://localhost:8080/",
          "height": 0
        }
      },
      "source": [
        "X[0, 0:2]"
      ],
      "execution_count": 322,
      "outputs": [
        {
          "output_type": "execute_result",
          "data": {
            "text/plain": [
              "array([1, 2])"
            ]
          },
          "metadata": {
            "tags": []
          },
          "execution_count": 322
        }
      ]
    },
    {
      "cell_type": "code",
      "metadata": {
        "id": "frA-UZik74GU",
        "colab_type": "code",
        "outputId": "93d741e7-041b-4c0f-c4e8-60c14412da0c",
        "colab": {
          "base_uri": "https://localhost:8080/",
          "height": 0
        }
      },
      "source": [
        "X[0, :]"
      ],
      "execution_count": 323,
      "outputs": [
        {
          "output_type": "execute_result",
          "data": {
            "text/plain": [
              "array([1, 2, 3])"
            ]
          },
          "metadata": {
            "tags": []
          },
          "execution_count": 323
        }
      ]
    },
    {
      "cell_type": "code",
      "metadata": {
        "id": "T3MxHZSR77E4",
        "colab_type": "code",
        "colab": {}
      },
      "source": [
        "X = np.zeros((4, 5))"
      ],
      "execution_count": 0,
      "outputs": []
    },
    {
      "cell_type": "code",
      "metadata": {
        "id": "D-CNl8se8ABG",
        "colab_type": "code",
        "outputId": "ad95330b-4eb3-46fe-df12-9961c8c3fe4b",
        "colab": {
          "base_uri": "https://localhost:8080/",
          "height": 0
        }
      },
      "source": [
        "print(X)"
      ],
      "execution_count": 325,
      "outputs": [
        {
          "output_type": "stream",
          "text": [
            "[[0. 0. 0. 0. 0.]\n",
            " [0. 0. 0. 0. 0.]\n",
            " [0. 0. 0. 0. 0.]\n",
            " [0. 0. 0. 0. 0.]]\n"
          ],
          "name": "stdout"
        }
      ]
    },
    {
      "cell_type": "code",
      "metadata": {
        "id": "Ux36ygka8Ai1",
        "colab_type": "code",
        "colab": {}
      },
      "source": [
        "X = np.eye(4, 4)"
      ],
      "execution_count": 0,
      "outputs": []
    },
    {
      "cell_type": "code",
      "metadata": {
        "id": "Wbbz7nU68FIr",
        "colab_type": "code",
        "outputId": "7d05ccc8-fe7b-46bf-b3f4-80c77ebed3af",
        "colab": {
          "base_uri": "https://localhost:8080/",
          "height": 0
        }
      },
      "source": [
        "print(X)"
      ],
      "execution_count": 327,
      "outputs": [
        {
          "output_type": "stream",
          "text": [
            "[[1. 0. 0. 0.]\n",
            " [0. 1. 0. 0.]\n",
            " [0. 0. 1. 0.]\n",
            " [0. 0. 0. 1.]]\n"
          ],
          "name": "stdout"
        }
      ]
    },
    {
      "cell_type": "code",
      "metadata": {
        "id": "-KvyuCVU8IJH",
        "colab_type": "code",
        "colab": {}
      },
      "source": [
        "X = np.random.random((4, 5))"
      ],
      "execution_count": 0,
      "outputs": []
    },
    {
      "cell_type": "code",
      "metadata": {
        "id": "dqpmLeRx8PU0",
        "colab_type": "code",
        "outputId": "51b81c0d-3894-4d55-a49c-5283829e9406",
        "colab": {
          "base_uri": "https://localhost:8080/",
          "height": 0
        }
      },
      "source": [
        "print(X)"
      ],
      "execution_count": 329,
      "outputs": [
        {
          "output_type": "stream",
          "text": [
            "[[0.35429643 0.49484678 0.12233194 0.11533958 0.6774929 ]\n",
            " [0.49387474 0.9343354  0.22976689 0.27783823 0.91335844]\n",
            " [0.74348448 0.64264666 0.50895408 0.10708728 0.56614708]\n",
            " [0.71281356 0.33274633 0.31410559 0.56042603 0.475278  ]]\n"
          ],
          "name": "stdout"
        }
      ]
    },
    {
      "cell_type": "code",
      "metadata": {
        "id": "3WTNwVYE8Qp0",
        "colab_type": "code",
        "colab": {}
      },
      "source": [
        "Z = X.T"
      ],
      "execution_count": 0,
      "outputs": []
    },
    {
      "cell_type": "code",
      "metadata": {
        "id": "5fuP8kc78W0T",
        "colab_type": "code",
        "outputId": "214a2fac-63b6-4d17-a201-416d8096581b",
        "colab": {
          "base_uri": "https://localhost:8080/",
          "height": 0
        }
      },
      "source": [
        "print(Z)"
      ],
      "execution_count": 331,
      "outputs": [
        {
          "output_type": "stream",
          "text": [
            "[[0.35429643 0.49387474 0.74348448 0.71281356]\n",
            " [0.49484678 0.9343354  0.64264666 0.33274633]\n",
            " [0.12233194 0.22976689 0.50895408 0.31410559]\n",
            " [0.11533958 0.27783823 0.10708728 0.56042603]\n",
            " [0.6774929  0.91335844 0.56614708 0.475278  ]]\n"
          ],
          "name": "stdout"
        }
      ]
    },
    {
      "cell_type": "code",
      "metadata": {
        "id": "M9rIFpsl8YKE",
        "colab_type": "code",
        "colab": {}
      },
      "source": [
        "Y = X.reshape(20, 1)"
      ],
      "execution_count": 0,
      "outputs": []
    },
    {
      "cell_type": "code",
      "metadata": {
        "id": "M6nBY7pd8eQ2",
        "colab_type": "code",
        "outputId": "f9deb85e-30ac-4200-d8d7-9a79fcc6fb19",
        "colab": {
          "base_uri": "https://localhost:8080/",
          "height": 0
        }
      },
      "source": [
        "print(Y)"
      ],
      "execution_count": 333,
      "outputs": [
        {
          "output_type": "stream",
          "text": [
            "[[0.35429643]\n",
            " [0.49484678]\n",
            " [0.12233194]\n",
            " [0.11533958]\n",
            " [0.6774929 ]\n",
            " [0.49387474]\n",
            " [0.9343354 ]\n",
            " [0.22976689]\n",
            " [0.27783823]\n",
            " [0.91335844]\n",
            " [0.74348448]\n",
            " [0.64264666]\n",
            " [0.50895408]\n",
            " [0.10708728]\n",
            " [0.56614708]\n",
            " [0.71281356]\n",
            " [0.33274633]\n",
            " [0.31410559]\n",
            " [0.56042603]\n",
            " [0.475278  ]]\n"
          ],
          "name": "stdout"
        }
      ]
    },
    {
      "cell_type": "code",
      "metadata": {
        "id": "S9M9AXsS8faf",
        "colab_type": "code",
        "outputId": "c86dcb1e-f988-4bbe-95cb-abaea4a50ece",
        "colab": {
          "base_uri": "https://localhost:8080/",
          "height": 0
        }
      },
      "source": [
        "A = np.arange(5)\n",
        "print(A)"
      ],
      "execution_count": 334,
      "outputs": [
        {
          "output_type": "stream",
          "text": [
            "[0 1 2 3 4]\n"
          ],
          "name": "stdout"
        }
      ]
    },
    {
      "cell_type": "code",
      "metadata": {
        "id": "u3HrI5_98oin",
        "colab_type": "code",
        "colab": {}
      },
      "source": [
        "B = np.arange(5)"
      ],
      "execution_count": 0,
      "outputs": []
    },
    {
      "cell_type": "code",
      "metadata": {
        "id": "jvLlYcMz8ruY",
        "colab_type": "code",
        "outputId": "f439d943-bec1-49ac-f247-b19f815aaf4e",
        "colab": {
          "base_uri": "https://localhost:8080/",
          "height": 0
        }
      },
      "source": [
        "C = A + B\n",
        "D = A - B\n",
        "E = A * B\n",
        "print(C, D, E)"
      ],
      "execution_count": 336,
      "outputs": [
        {
          "output_type": "stream",
          "text": [
            "[0 2 4 6 8] [0 0 0 0 0] [ 0  1  4  9 16]\n"
          ],
          "name": "stdout"
        }
      ]
    },
    {
      "cell_type": "code",
      "metadata": {
        "id": "vUsGKXTe8vXp",
        "colab_type": "code",
        "outputId": "aadae4d9-1dc7-4e60-a694-f6b638ae8975",
        "colab": {
          "base_uri": "https://localhost:8080/",
          "height": 0
        }
      },
      "source": [
        "print(A, A + 1)"
      ],
      "execution_count": 337,
      "outputs": [
        {
          "output_type": "stream",
          "text": [
            "[0 1 2 3 4] [1 2 3 4 5]\n"
          ],
          "name": "stdout"
        }
      ]
    },
    {
      "cell_type": "code",
      "metadata": {
        "id": "VDohF0vp8zhz",
        "colab_type": "code",
        "outputId": "a447055e-152d-4297-b6bb-968b43e85b4f",
        "colab": {
          "base_uri": "https://localhost:8080/",
          "height": 0
        }
      },
      "source": [
        "A = np.random.random((2, 3))\n",
        "print(A)\n",
        "print(A + 1)"
      ],
      "execution_count": 338,
      "outputs": [
        {
          "output_type": "stream",
          "text": [
            "[[0.77243474 0.7933511  0.53641939]\n",
            " [0.8732111  0.30398397 0.43082707]]\n",
            "[[1.77243474 1.7933511  1.53641939]\n",
            " [1.8732111  1.30398397 1.43082707]]\n"
          ],
          "name": "stdout"
        }
      ]
    },
    {
      "cell_type": "code",
      "metadata": {
        "id": "cDyBixAq88Rq",
        "colab_type": "code",
        "outputId": "ab0343b4-4cfc-490e-c359-9272f79089ec",
        "colab": {
          "base_uri": "https://localhost:8080/",
          "height": 0
        }
      },
      "source": [
        "A = np.floor(np.random.random((2, 3))*10)\n",
        "print(A)"
      ],
      "execution_count": 339,
      "outputs": [
        {
          "output_type": "stream",
          "text": [
            "[[2. 2. 9.]\n",
            " [0. 5. 9.]]\n"
          ],
          "name": "stdout"
        }
      ]
    },
    {
      "cell_type": "code",
      "metadata": {
        "id": "83SVLoCV9KI2",
        "colab_type": "code",
        "outputId": "1f1c1b59-055b-4340-b45a-a3abe5836d14",
        "colab": {
          "base_uri": "https://localhost:8080/",
          "height": 0
        }
      },
      "source": [
        "u = [1, 2, 3]\n",
        "v = [-1, 0, 1]\n",
        "\n",
        "p1 = np.inner(u, v)\n",
        "print(p1)"
      ],
      "execution_count": 340,
      "outputs": [
        {
          "output_type": "stream",
          "text": [
            "2\n"
          ],
          "name": "stdout"
        }
      ]
    },
    {
      "cell_type": "code",
      "metadata": {
        "id": "2cTF8Dj39TRW",
        "colab_type": "code",
        "outputId": "20a52879-0a1f-4d40-ec64-8b78f8d22dd7",
        "colab": {
          "base_uri": "https://localhost:8080/",
          "height": 0
        }
      },
      "source": [
        "p2 = np.outer(u, v)\n",
        "print(p2)"
      ],
      "execution_count": 341,
      "outputs": [
        {
          "output_type": "stream",
          "text": [
            "[[-1  0  1]\n",
            " [-2  0  2]\n",
            " [-3  0  3]]\n"
          ],
          "name": "stdout"
        }
      ]
    },
    {
      "cell_type": "code",
      "metadata": {
        "id": "8bvV3VLf9YAk",
        "colab_type": "code",
        "outputId": "3b0773cd-a286-4274-86e1-a4986b13c409",
        "colab": {
          "base_uri": "https://localhost:8080/",
          "height": 0
        }
      },
      "source": [
        "A = np.ones((2, 3))\n",
        "B = np.ones((3, 2))\n",
        "np.dot(A, B)"
      ],
      "execution_count": 342,
      "outputs": [
        {
          "output_type": "execute_result",
          "data": {
            "text/plain": [
              "array([[3., 3.],\n",
              "       [3., 3.]])"
            ]
          },
          "metadata": {
            "tags": []
          },
          "execution_count": 342
        }
      ]
    },
    {
      "cell_type": "code",
      "metadata": {
        "id": "r-1EvJHN9irJ",
        "colab_type": "code",
        "outputId": "36dd8927-6e8e-42f9-b0e4-a24ce537c647",
        "colab": {
          "base_uri": "https://localhost:8080/",
          "height": 0
        }
      },
      "source": [
        "np.dot(B.T, A.T)"
      ],
      "execution_count": 343,
      "outputs": [
        {
          "output_type": "execute_result",
          "data": {
            "text/plain": [
              "array([[3., 3.],\n",
              "       [3., 3.]])"
            ]
          },
          "metadata": {
            "tags": []
          },
          "execution_count": 343
        }
      ]
    },
    {
      "cell_type": "code",
      "metadata": {
        "id": "6RKfdl_q9m_S",
        "colab_type": "code",
        "outputId": "acd6de4d-e38e-40e9-a03d-d9d980ed32a3",
        "colab": {
          "base_uri": "https://localhost:8080/",
          "height": 0
        }
      },
      "source": [
        "A = np.ones((2, 3))\n",
        "print(A)"
      ],
      "execution_count": 344,
      "outputs": [
        {
          "output_type": "stream",
          "text": [
            "[[1. 1. 1.]\n",
            " [1. 1. 1.]]\n"
          ],
          "name": "stdout"
        }
      ]
    },
    {
      "cell_type": "code",
      "metadata": {
        "id": "50bhOhuY9plm",
        "colab_type": "code",
        "outputId": "d39388ae-53fb-49f4-f8e3-0ff2ba985759",
        "colab": {
          "base_uri": "https://localhost:8080/",
          "height": 0
        }
      },
      "source": [
        "A.sum()"
      ],
      "execution_count": 345,
      "outputs": [
        {
          "output_type": "execute_result",
          "data": {
            "text/plain": [
              "6.0"
            ]
          },
          "metadata": {
            "tags": []
          },
          "execution_count": 345
        }
      ]
    },
    {
      "cell_type": "code",
      "metadata": {
        "id": "P6y9EEdY9qyD",
        "colab_type": "code",
        "outputId": "ece5a166-8199-47a4-febe-faaef399438b",
        "colab": {
          "base_uri": "https://localhost:8080/",
          "height": 0
        }
      },
      "source": [
        "A.sum(axis = 0)"
      ],
      "execution_count": 346,
      "outputs": [
        {
          "output_type": "execute_result",
          "data": {
            "text/plain": [
              "array([2., 2., 2.])"
            ]
          },
          "metadata": {
            "tags": []
          },
          "execution_count": 346
        }
      ]
    },
    {
      "cell_type": "code",
      "metadata": {
        "id": "l87rZ2Bt9v6c",
        "colab_type": "code",
        "outputId": "b3c4de19-2939-4f9a-bab5-02c9b0c51080",
        "colab": {
          "base_uri": "https://localhost:8080/",
          "height": 0
        }
      },
      "source": [
        "A.sum(axis = 1)"
      ],
      "execution_count": 347,
      "outputs": [
        {
          "output_type": "execute_result",
          "data": {
            "text/plain": [
              "array([3., 3.])"
            ]
          },
          "metadata": {
            "tags": []
          },
          "execution_count": 347
        }
      ]
    },
    {
      "cell_type": "code",
      "metadata": {
        "id": "v8j0GuVC9yZM",
        "colab_type": "code",
        "outputId": "6ec4ec90-062f-443e-a3f4-3c1a6eba0058",
        "colab": {
          "base_uri": "https://localhost:8080/",
          "height": 0
        }
      },
      "source": [
        "A.max()"
      ],
      "execution_count": 348,
      "outputs": [
        {
          "output_type": "execute_result",
          "data": {
            "text/plain": [
              "1.0"
            ]
          },
          "metadata": {
            "tags": []
          },
          "execution_count": 348
        }
      ]
    },
    {
      "cell_type": "code",
      "metadata": {
        "id": "K-8LkSefyrxw",
        "colab_type": "code",
        "colab": {}
      },
      "source": [
        ""
      ],
      "execution_count": 0,
      "outputs": []
    },
    {
      "cell_type": "markdown",
      "metadata": {
        "id": "RcMuyR28zDPw",
        "colab_type": "text"
      },
      "source": [
        "# Plotting"
      ]
    },
    {
      "cell_type": "code",
      "metadata": {
        "id": "F2NwFmsD0NNr",
        "colab_type": "code",
        "colab": {}
      },
      "source": [
        "import matplotlib.pyplot as plt\n",
        "import numpy as np"
      ],
      "execution_count": 0,
      "outputs": []
    },
    {
      "cell_type": "code",
      "metadata": {
        "id": "RXIyNRGB0Tfp",
        "colab_type": "code",
        "outputId": "6944e9b1-09f0-4fe8-fb5a-7b89f9a1af31",
        "colab": {
          "base_uri": "https://localhost:8080/",
          "height": 204
        }
      },
      "source": [
        "x = np.random.random((10, 1))\n",
        "print(x)"
      ],
      "execution_count": 350,
      "outputs": [
        {
          "output_type": "stream",
          "text": [
            "[[0.4319721 ]\n",
            " [0.37765109]\n",
            " [0.78362644]\n",
            " [0.29881305]\n",
            " [0.72959751]\n",
            " [0.65090676]\n",
            " [0.11640156]\n",
            " [0.18536352]\n",
            " [0.77212033]\n",
            " [0.17898698]]\n"
          ],
          "name": "stdout"
        }
      ]
    },
    {
      "cell_type": "code",
      "metadata": {
        "id": "q25Y0IJG0XPb",
        "colab_type": "code",
        "outputId": "f3acefbd-2c28-4392-9ad1-65a2131a8f42",
        "colab": {
          "base_uri": "https://localhost:8080/",
          "height": 268
        }
      },
      "source": [
        "plt.plot(x, '*-')\n",
        "plt.show()"
      ],
      "execution_count": 351,
      "outputs": [
        {
          "output_type": "display_data",
          "data": {
            "image/png": "[encoded data removed]",
            "text/plain": [
              "<Figure size 432x288 with 1 Axes>"
            ]
          },
          "metadata": {
            "tags": []
          }
        }
      ]
    },
    {
      "cell_type": "code",
      "metadata": {
        "id": "xwwFs1JY0ZfN",
        "colab_type": "code",
        "outputId": "7c0d05d9-aa18-4714-a6b0-6317c64fe211",
        "colab": {
          "base_uri": "https://localhost:8080/",
          "height": 268
        }
      },
      "source": [
        "x = np.linspace(0, 100, 50)\n",
        "y = np.power(x, 2)\n",
        "plt.plot(x, y, '+')\n",
        "plt.show()"
      ],
      "execution_count": 352,
      "outputs": [
        {
          "output_type": "display_data",
          "data": {
            "image/png": "[encoded data removed]",
            "text/plain": [
              "<Figure size 432x288 with 1 Axes>"
            ]
          },
          "metadata": {
            "tags": []
          }
        }
      ]
    },
    {
      "cell_type": "code",
      "metadata": {
        "id": "0tGC0DCB01dx",
        "colab_type": "code",
        "colab": {}
      },
      "source": [
        "import seaborn as sns"
      ],
      "execution_count": 0,
      "outputs": []
    },
    {
      "cell_type": "code",
      "metadata": {
        "id": "WNdO9A1F1HkN",
        "colab_type": "code",
        "colab": {}
      },
      "source": [
        "sns.set()"
      ],
      "execution_count": 0,
      "outputs": []
    },
    {
      "cell_type": "code",
      "metadata": {
        "id": "usDEQ0Sm1Iu5",
        "colab_type": "code",
        "outputId": "36a64d46-fa16-41cb-a4fd-164a9de9e4c1",
        "colab": {
          "base_uri": "https://localhost:8080/",
          "height": 268
        }
      },
      "source": [
        "sns.lineplot(x, y)\n",
        "plt.show()"
      ],
      "execution_count": 355,
      "outputs": [
        {
          "output_type": "display_data",
          "data": {
            "image/png": "[encoded data removed]",
            "text/plain": [
              "<Figure size 432x288 with 1 Axes>"
            ]
          },
          "metadata": {
            "tags": []
          }
        }
      ]
    },
    {
      "cell_type": "code",
      "metadata": {
        "id": "9JmBRLjl1Vc9",
        "colab_type": "code",
        "outputId": "b0eba98f-f369-4748-c776-c966de7eb8d5",
        "colab": {
          "base_uri": "https://localhost:8080/",
          "height": 204
        }
      },
      "source": [
        "!wget https://www.dropbox.com/s/w94odi4aq1k44lf/mobile_cleaned.csv"
      ],
      "execution_count": 356,
      "outputs": [
        {
          "output_type": "stream",
          "text": [
            "--2020-02-27 17:08:50--  https://www.dropbox.com/s/w94odi4aq1k44lf/mobile_cleaned.csv\n",
            "Resolving www.dropbox.com (www.dropbox.com)... 162.125.9.1, 2620:100:601f:1::a27d:901\n",
            "Connecting to www.dropbox.com (www.dropbox.com)|162.125.9.1|:443... connected.\n",
            "HTTP request sent, awaiting response... 301 Moved Permanently\n",
            "Location: /s/raw/w94odi4aq1k44lf/mobile_cleaned.csv [following]\n",
            "--2020-02-27 17:08:50--  https://www.dropbox.com/s/raw/w94odi4aq1k44lf/mobile_cleaned.csv\n",
            "Reusing existing connection to www.dropbox.com:443.\n",
            "HTTP request sent, awaiting response... 404 Not Found\n",
            "2020-02-27 17:08:50 ERROR 404: Not Found.\n",
            "\n"
          ],
          "name": "stdout"
        }
      ]
    },
    {
      "cell_type": "code",
      "metadata": {
        "id": "TuW2gohJ1vpH",
        "colab_type": "code",
        "outputId": "a4682c62-b4ea-4713-abbb-9b97c60b76d3",
        "colab": {
          "base_uri": "https://localhost:8080/",
          "height": 54
        }
      },
      "source": [
        "!ls"
      ],
      "execution_count": 357,
      "outputs": [
        {
          "output_type": "stream",
          "text": [
            "index.jpg\t    mobile_cleaned.csv.1      my_first_module.py  sample_data\n",
            "mobile_cleaned.csv  my_first_file_output.txt  __pycache__\n"
          ],
          "name": "stdout"
        }
      ]
    },
    {
      "cell_type": "code",
      "metadata": {
        "id": "8MTCMQFG1xeh",
        "colab_type": "code",
        "outputId": "7589f506-7b63-491b-e544-6e1995ab0464",
        "colab": {
          "base_uri": "https://localhost:8080/",
          "height": 226
        }
      },
      "source": [
        "import pandas as pd\n",
        "data = pd.read_csv('mobile_cleaned.csv')\n",
        "data.head()"
      ],
      "execution_count": 358,
      "outputs": [
        {
          "output_type": "execute_result",
          "data": {
            "text/html": [
              "<div>\n",
              "<style scoped>\n",
              "    .dataframe tbody tr th:only-of-type {\n",
              "        vertical-align: middle;\n",
              "    }\n",
              "\n",
              "    .dataframe tbody tr th {\n",
              "        vertical-align: top;\n",
              "    }\n",
              "\n",
              "    .dataframe thead th {\n",
              "        text-align: right;\n",
              "    }\n",
              "</style>\n",
              "<table border=\"1\" class=\"dataframe\">\n",
              "  <thead>\n",
              "    <tr style=\"text-align: right;\">\n",
              "      <th></th>\n",
              "      <th>sim_type</th>\n",
              "      <th>aperture</th>\n",
              "      <th>gpu_rank</th>\n",
              "      <th>weight</th>\n",
              "      <th>stand_by_time</th>\n",
              "      <th>processor_frequency</th>\n",
              "      <th>thickness</th>\n",
              "      <th>flash_type</th>\n",
              "      <th>front_camera_resolution</th>\n",
              "      <th>auto_focus</th>\n",
              "      <th>screen_size</th>\n",
              "      <th>frames_per_second</th>\n",
              "      <th>FM</th>\n",
              "      <th>no_of_reviews_in_gsmarena_in_week</th>\n",
              "      <th>os</th>\n",
              "      <th>phone_height</th>\n",
              "      <th>screen_protection</th>\n",
              "      <th>sim_size</th>\n",
              "      <th>price</th>\n",
              "      <th>talk_time</th>\n",
              "      <th>video_resolution</th>\n",
              "      <th>display_resolution</th>\n",
              "      <th>removable_battery</th>\n",
              "      <th>display_type</th>\n",
              "      <th>primary_camera_resolution</th>\n",
              "      <th>battery_type</th>\n",
              "      <th>ram_memory</th>\n",
              "      <th>internal_memory</th>\n",
              "      <th>brand_rank</th>\n",
              "      <th>no_of_cores</th>\n",
              "      <th>micro_sd_slot</th>\n",
              "      <th>screen_pixel_density</th>\n",
              "      <th>water_proof_rate</th>\n",
              "      <th>phone_width</th>\n",
              "      <th>expandable_memory</th>\n",
              "      <th>version</th>\n",
              "      <th>usb_type</th>\n",
              "      <th>battery_capacity</th>\n",
              "      <th>processor_rank</th>\n",
              "      <th>is_liked</th>\n",
              "    </tr>\n",
              "  </thead>\n",
              "  <tbody>\n",
              "    <tr>\n",
              "      <th>0</th>\n",
              "      <td>0</td>\n",
              "      <td>12</td>\n",
              "      <td>55</td>\n",
              "      <td>155.0</td>\n",
              "      <td>250</td>\n",
              "      <td>1.3</td>\n",
              "      <td>10.5</td>\n",
              "      <td>5</td>\n",
              "      <td>2.00</td>\n",
              "      <td>0</td>\n",
              "      <td>4.5</td>\n",
              "      <td>15</td>\n",
              "      <td>3</td>\n",
              "      <td>0</td>\n",
              "      <td>0</td>\n",
              "      <td>132.9</td>\n",
              "      <td>26</td>\n",
              "      <td>3</td>\n",
              "      <td>3870</td>\n",
              "      <td>9</td>\n",
              "      <td>480</td>\n",
              "      <td>12</td>\n",
              "      <td>3</td>\n",
              "      <td>11</td>\n",
              "      <td>5.00</td>\n",
              "      <td>1</td>\n",
              "      <td>1</td>\n",
              "      <td>7</td>\n",
              "      <td>29</td>\n",
              "      <td>6</td>\n",
              "      <td>4</td>\n",
              "      <td>2</td>\n",
              "      <td>3</td>\n",
              "      <td>67.8</td>\n",
              "      <td>64.0</td>\n",
              "      <td>5</td>\n",
              "      <td>3</td>\n",
              "      <td>2000</td>\n",
              "      <td>125</td>\n",
              "      <td>1</td>\n",
              "    </tr>\n",
              "    <tr>\n",
              "      <th>1</th>\n",
              "      <td>0</td>\n",
              "      <td>1</td>\n",
              "      <td>55</td>\n",
              "      <td>132.0</td>\n",
              "      <td>300</td>\n",
              "      <td>1.3</td>\n",
              "      <td>10.6</td>\n",
              "      <td>5</td>\n",
              "      <td>0.30</td>\n",
              "      <td>1</td>\n",
              "      <td>4.0</td>\n",
              "      <td>30</td>\n",
              "      <td>2</td>\n",
              "      <td>6</td>\n",
              "      <td>0</td>\n",
              "      <td>124.5</td>\n",
              "      <td>26</td>\n",
              "      <td>5</td>\n",
              "      <td>4059</td>\n",
              "      <td>9</td>\n",
              "      <td>720</td>\n",
              "      <td>15</td>\n",
              "      <td>3</td>\n",
              "      <td>11</td>\n",
              "      <td>5.00</td>\n",
              "      <td>1</td>\n",
              "      <td>1</td>\n",
              "      <td>7</td>\n",
              "      <td>11</td>\n",
              "      <td>6</td>\n",
              "      <td>4</td>\n",
              "      <td>4</td>\n",
              "      <td>6</td>\n",
              "      <td>64.0</td>\n",
              "      <td>32.0</td>\n",
              "      <td>5</td>\n",
              "      <td>3</td>\n",
              "      <td>2000</td>\n",
              "      <td>165</td>\n",
              "      <td>1</td>\n",
              "    </tr>\n",
              "    <tr>\n",
              "      <th>2</th>\n",
              "      <td>0</td>\n",
              "      <td>9</td>\n",
              "      <td>55</td>\n",
              "      <td>142.0</td>\n",
              "      <td>329</td>\n",
              "      <td>1.5</td>\n",
              "      <td>8.5</td>\n",
              "      <td>5</td>\n",
              "      <td>2.00</td>\n",
              "      <td>3</td>\n",
              "      <td>5.0</td>\n",
              "      <td>30</td>\n",
              "      <td>2</td>\n",
              "      <td>20</td>\n",
              "      <td>0</td>\n",
              "      <td>145.5</td>\n",
              "      <td>4</td>\n",
              "      <td>3</td>\n",
              "      <td>4777</td>\n",
              "      <td>10</td>\n",
              "      <td>1080</td>\n",
              "      <td>4</td>\n",
              "      <td>3</td>\n",
              "      <td>1</td>\n",
              "      <td>5.04</td>\n",
              "      <td>2</td>\n",
              "      <td>1</td>\n",
              "      <td>7</td>\n",
              "      <td>27</td>\n",
              "      <td>6</td>\n",
              "      <td>4</td>\n",
              "      <td>9</td>\n",
              "      <td>6</td>\n",
              "      <td>72.0</td>\n",
              "      <td>32.0</td>\n",
              "      <td>6</td>\n",
              "      <td>3</td>\n",
              "      <td>2500</td>\n",
              "      <td>164</td>\n",
              "      <td>0</td>\n",
              "    </tr>\n",
              "    <tr>\n",
              "      <th>3</th>\n",
              "      <td>0</td>\n",
              "      <td>8</td>\n",
              "      <td>55</td>\n",
              "      <td>152.0</td>\n",
              "      <td>385</td>\n",
              "      <td>1.3</td>\n",
              "      <td>8.0</td>\n",
              "      <td>5</td>\n",
              "      <td>2.00</td>\n",
              "      <td>3</td>\n",
              "      <td>5.0</td>\n",
              "      <td>15</td>\n",
              "      <td>3</td>\n",
              "      <td>0</td>\n",
              "      <td>0</td>\n",
              "      <td>147.5</td>\n",
              "      <td>26</td>\n",
              "      <td>3</td>\n",
              "      <td>5799</td>\n",
              "      <td>19</td>\n",
              "      <td>720</td>\n",
              "      <td>17</td>\n",
              "      <td>3</td>\n",
              "      <td>2</td>\n",
              "      <td>5.00</td>\n",
              "      <td>1</td>\n",
              "      <td>1</td>\n",
              "      <td>7</td>\n",
              "      <td>4</td>\n",
              "      <td>6</td>\n",
              "      <td>4</td>\n",
              "      <td>1</td>\n",
              "      <td>3</td>\n",
              "      <td>75.1</td>\n",
              "      <td>32.0</td>\n",
              "      <td>6</td>\n",
              "      <td>3</td>\n",
              "      <td>3000</td>\n",
              "      <td>165</td>\n",
              "      <td>1</td>\n",
              "    </tr>\n",
              "    <tr>\n",
              "      <th>4</th>\n",
              "      <td>1</td>\n",
              "      <td>1</td>\n",
              "      <td>55</td>\n",
              "      <td>234.0</td>\n",
              "      <td>385</td>\n",
              "      <td>1.3</td>\n",
              "      <td>7.9</td>\n",
              "      <td>5</td>\n",
              "      <td>1.92</td>\n",
              "      <td>3</td>\n",
              "      <td>5.0</td>\n",
              "      <td>15</td>\n",
              "      <td>3</td>\n",
              "      <td>0</td>\n",
              "      <td>0</td>\n",
              "      <td>179.0</td>\n",
              "      <td>18</td>\n",
              "      <td>3</td>\n",
              "      <td>5990</td>\n",
              "      <td>11</td>\n",
              "      <td>720</td>\n",
              "      <td>17</td>\n",
              "      <td>3</td>\n",
              "      <td>1</td>\n",
              "      <td>5.00</td>\n",
              "      <td>1</td>\n",
              "      <td>1</td>\n",
              "      <td>7</td>\n",
              "      <td>4</td>\n",
              "      <td>6</td>\n",
              "      <td>4</td>\n",
              "      <td>1</td>\n",
              "      <td>6</td>\n",
              "      <td>91.0</td>\n",
              "      <td>32.0</td>\n",
              "      <td>6</td>\n",
              "      <td>3</td>\n",
              "      <td>3000</td>\n",
              "      <td>165</td>\n",
              "      <td>0</td>\n",
              "    </tr>\n",
              "  </tbody>\n",
              "</table>\n",
              "</div>"
            ],
            "text/plain": [
              "   sim_type  aperture  gpu_rank  ...  battery_capacity  processor_rank  is_liked\n",
              "0         0        12        55  ...              2000             125         1\n",
              "1         0         1        55  ...              2000             165         1\n",
              "2         0         9        55  ...              2500             164         0\n",
              "3         0         8        55  ...              3000             165         1\n",
              "4         1         1        55  ...              3000             165         0\n",
              "\n",
              "[5 rows x 40 columns]"
            ]
          },
          "metadata": {
            "tags": []
          },
          "execution_count": 358
        }
      ]
    },
    {
      "cell_type": "code",
      "metadata": {
        "id": "5tCFDbiF14HM",
        "colab_type": "code",
        "outputId": "3704a132-4b46-4c3a-a7ac-571e07df1326",
        "colab": {
          "base_uri": "https://localhost:8080/",
          "height": 285
        }
      },
      "source": [
        "ax = sns.scatterplot(x=\"stand_by_time\", y=\"battery_capacity\", data=data)"
      ],
      "execution_count": 359,
      "outputs": [
        {
          "output_type": "display_data",
          "data": {
            "image/png": "[encoded data removed]",
            "text/plain": [
              "<Figure size 432x288 with 1 Axes>"
            ]
          },
          "metadata": {
            "tags": []
          }
        }
      ]
    },
    {
      "cell_type": "code",
      "metadata": {
        "id": "4kUBm6WF2Eid",
        "colab_type": "code",
        "outputId": "d50fdc71-af4c-4bb9-c8d8-bb80994c4e47",
        "colab": {
          "base_uri": "https://localhost:8080/",
          "height": 285
        }
      },
      "source": [
        "ax = sns.scatterplot(x = \"stand_by_time\", y = \"battery_capacity\", hue=\"thickness\", data=data)"
      ],
      "execution_count": 360,
      "outputs": [
        {
          "output_type": "display_data",
          "data": {
            "image/png": "[encoded data removed]",
            "text/plain": [
              "<Figure size 432x288 with 1 Axes>"
            ]
          },
          "metadata": {
            "tags": []
          }
        }
      ]
    },
    {
      "cell_type": "code",
      "metadata": {
        "id": "Tjfgfhag2Xoh",
        "colab_type": "code",
        "outputId": "a4970d40-b69e-4b1c-b0bd-a8d6faefea26",
        "colab": {
          "base_uri": "https://localhost:8080/",
          "height": 285
        }
      },
      "source": [
        "ax = sns.distplot(data[\"stand_by_time\"])"
      ],
      "execution_count": 361,
      "outputs": [
        {
          "output_type": "display_data",
          "data": {
            "image/png": "[encoded data removed]",
            "text/plain": [
              "<Figure size 432x288 with 1 Axes>"
            ]
          },
          "metadata": {
            "tags": []
          }
        }
      ]
    },
    {
      "cell_type": "code",
      "metadata": {
        "id": "bV9DgHe12haU",
        "colab_type": "code",
        "outputId": "eec26cd0-850f-4161-cc10-95ce9dfa0c0f",
        "colab": {
          "base_uri": "https://localhost:8080/",
          "height": 285
        }
      },
      "source": [
        "ax = sns.distplot(data[\"stand_by_time\"], kde=False, rug=True, bins = 20)"
      ],
      "execution_count": 362,
      "outputs": [
        {
          "output_type": "display_data",
          "data": {
            "image/png": "[encoded data removed]",
            "text/plain": [
              "<Figure size 432x288 with 1 Axes>"
            ]
          },
          "metadata": {
            "tags": []
          }
        }
      ]
    },
    {
      "cell_type": "code",
      "metadata": {
        "id": "iP9zrLI92t89",
        "colab_type": "code",
        "outputId": "5bc9b849-f9e4-44ae-b18f-3c67e11795fa",
        "colab": {
          "base_uri": "https://localhost:8080/",
          "height": 285
        }
      },
      "source": [
        "ax = sns.boxplot(x=\"is_liked\", y=\"battery_capacity\", data=data)"
      ],
      "execution_count": 363,
      "outputs": [
        {
          "output_type": "display_data",
          "data": {
            "image/png": "[encoded data removed]",
            "text/plain": [
              "<Figure size 432x288 with 1 Axes>"
            ]
          },
          "metadata": {
            "tags": []
          }
        }
      ]
    },
    {
      "cell_type": "code",
      "metadata": {
        "id": "p4UoIsEY29zx",
        "colab_type": "code",
        "outputId": "0b5ab15f-0629-43a5-b1cd-fd29f676d7a9",
        "colab": {
          "base_uri": "https://localhost:8080/",
          "height": 285
        }
      },
      "source": [
        "ax = sns.boxplot(x = \"expandable_memory\", y = \"price\", data=data)"
      ],
      "execution_count": 364,
      "outputs": [
        {
          "output_type": "display_data",
          "data": {
            "image/png": "[encoded data removed]",
            "text/plain": [
              "<Figure size 432x288 with 1 Axes>"
            ]
          },
          "metadata": {
            "tags": []
          }
        }
      ]
    },
    {
      "cell_type": "code",
      "metadata": {
        "id": "syqEvEkB3O1e",
        "colab_type": "code",
        "outputId": "5dc16ade-4796-4615-e7e7-f1ba9b6475b6",
        "colab": {
          "base_uri": "https://localhost:8080/",
          "height": 391
        }
      },
      "source": [
        "uniform_data = np.random.rand(10, 12)\n",
        "print(uniform_data)"
      ],
      "execution_count": 365,
      "outputs": [
        {
          "output_type": "stream",
          "text": [
            "[[0.2307663  0.82593026 0.80906587 0.41717836 0.57636152 0.27328904\n",
            "  0.31299076 0.05241489 0.73460861 0.12161828 0.77204923 0.01264517]\n",
            " [0.51244857 0.61479645 0.20050437 0.37023443 0.43207608 0.72738883\n",
            "  0.25153246 0.32073999 0.63251928 0.08901555 0.81489395 0.55601527]\n",
            " [0.95883476 0.27451812 0.97863984 0.79718532 0.64478743 0.77637637\n",
            "  0.21032419 0.0374813  0.2813812  0.49661106 0.77870284 0.2447861 ]\n",
            " [0.70204907 0.97181996 0.33299285 0.9436453  0.53526798 0.27921488\n",
            "  0.38825039 0.5379805  0.46013845 0.3253182  0.7836415  0.6379444 ]\n",
            " [0.77337145 0.54360275 0.3852054  0.19101348 0.5051416  0.39172446\n",
            "  0.01004271 0.15153558 0.57343036 0.92773516 0.58667025 0.5602328 ]\n",
            " [0.21955962 0.82967756 0.02996263 0.01632346 0.25641578 0.71022675\n",
            "  0.76435801 0.46224973 0.40356981 0.55002096 0.78965579 0.19712418]\n",
            " [0.43193942 0.46147134 0.55622455 0.53176229 0.47186967 0.86751671\n",
            "  0.43540763 0.52445731 0.30049561 0.41453601 0.83767875 0.704143  ]\n",
            " [0.62308679 0.09533923 0.5225019  0.33183033 0.01656735 0.45212339\n",
            "  0.37867117 0.32947704 0.27523105 0.77976524 0.91523596 0.78640119]\n",
            " [0.74621531 0.00745936 0.678147   0.40742836 0.14267925 0.21853615\n",
            "  0.42434915 0.84955469 0.60641897 0.44986714 0.16639609 0.0081757 ]\n",
            " [0.72363761 0.35167103 0.93780843 0.51509414 0.36218653 0.15895518\n",
            "  0.31212696 0.95081288 0.35793905 0.84983163 0.17500465 0.6001015 ]]\n"
          ],
          "name": "stdout"
        }
      ]
    },
    {
      "cell_type": "code",
      "metadata": {
        "id": "BcF0aSUl3bye",
        "colab_type": "code",
        "outputId": "02bfc1a3-2e70-4cbe-9d6e-be588204d391",
        "colab": {
          "base_uri": "https://localhost:8080/",
          "height": 268
        }
      },
      "source": [
        "ax = sns.heatmap(uniform_data, cmap=\"YlGnBu\")"
      ],
      "execution_count": 366,
      "outputs": [
        {
          "output_type": "display_data",
          "data": {
            "image/png": "[encoded data removed]",
            "text/plain": [
              "<Figure size 432x288 with 2 Axes>"
            ]
          },
          "metadata": {
            "tags": []
          }
        }
      ]
    },
    {
      "cell_type": "code",
      "metadata": {
        "id": "VVR75RpL3fCQ",
        "colab_type": "code",
        "outputId": "aa46aea4-88e0-4603-d01b-658775c5188a",
        "colab": {
          "base_uri": "https://localhost:8080/",
          "height": 243
        }
      },
      "source": [
        "!wget https://s3.amazonaws.com/thinkific-import/153034/3f9yaVLKTyUGmlBPcSOA_logo_long.png"
      ],
      "execution_count": 367,
      "outputs": [
        {
          "output_type": "stream",
          "text": [
            "--2020-02-27 17:08:59--  https://s3.amazonaws.com/thinkific-import/153034/3f9yaVLKTyUGmlBPcSOA_logo_long.png\n",
            "Resolving s3.amazonaws.com (s3.amazonaws.com)... 52.216.101.173\n",
            "Connecting to s3.amazonaws.com (s3.amazonaws.com)|52.216.101.173|:443... connected.\n",
            "HTTP request sent, awaiting response... 200 OK\n",
            "Length: 27958 (27K) [image/png]\n",
            "Saving to: ‘3f9yaVLKTyUGmlBPcSOA_logo_long.png’\n",
            "\n",
            "\r          3f9yaVLKT   0%[                    ]       0  --.-KB/s               \r3f9yaVLKTyUGmlBPcSO 100%[===================>]  27.30K  --.-KB/s    in 0.03s   \n",
            "\n",
            "2020-02-27 17:08:59 (1.05 MB/s) - ‘3f9yaVLKTyUGmlBPcSOA_logo_long.png’ saved [27958/27958]\n",
            "\n"
          ],
          "name": "stdout"
        }
      ]
    },
    {
      "cell_type": "code",
      "metadata": {
        "id": "7-Q_iKju3wdR",
        "colab_type": "code",
        "colab": {}
      },
      "source": [
        ""
      ],
      "execution_count": 0,
      "outputs": []
    },
    {
      "cell_type": "code",
      "metadata": {
        "id": "KgkiVMM33xww",
        "colab_type": "code",
        "colab": {}
      },
      "source": [
        ""
      ],
      "execution_count": 0,
      "outputs": []
    },
    {
      "cell_type": "code",
      "metadata": {
        "id": "22iOaO2G31eE",
        "colab_type": "code",
        "outputId": "0d19212f-8447-4d99-b288-f3df4b33f33a",
        "colab": {
          "base_uri": "https://localhost:8080/",
          "height": 54
        }
      },
      "source": [
        ""
      ],
      "execution_count": 370,
      "outputs": [
        {
          "output_type": "stream",
          "text": [
            "index.jpg\t    mobile_cleaned.csv.1      my_first_module.py  __pycache__\n",
            "mobile_cleaned.csv  my_first_file_output.txt  onefourthlabs.png   sample_data\n"
          ],
          "name": "stdout"
        }
      ]
    },
    {
      "cell_type": "code",
      "metadata": {
        "id": "9Vq30WyH32ni",
        "colab_type": "code",
        "colab": {}
      },
      "source": [
        "import matplotlib.image as mpimg"
      ],
      "execution_count": 0,
      "outputs": []
    },
    {
      "cell_type": "code",
      "metadata": {
        "id": "wSI9QFqL37hU",
        "colab_type": "code",
        "colab": {}
      },
      "source": [
        "img = mpimg.imread('index.jpg')"
      ],
      "execution_count": 0,
      "outputs": []
    },
    {
      "cell_type": "code",
      "metadata": {
        "id": "pfmD9rIm3_B9",
        "colab_type": "code",
        "outputId": "b71988c9-da2f-422b-b937-6c74b05af0e6",
        "colab": {
          "base_uri": "https://localhost:8080/",
          "height": 933
        }
      },
      "source": [
        "print(img)"
      ],
      "execution_count": 373,
      "outputs": [
        {
          "output_type": "stream",
          "text": [
            "[[[ 56  36  48]\n",
            "  [ 55  35  47]\n",
            "  [ 50  30  42]\n",
            "  ...\n",
            "  [ 65  40  59]\n",
            "  [ 65  40  59]\n",
            "  [ 65  40  59]]\n",
            "\n",
            " [[ 67  45  58]\n",
            "  [ 67  45  58]\n",
            "  [ 61  39  52]\n",
            "  ...\n",
            "  [ 66  41  60]\n",
            "  [ 65  40  59]\n",
            "  [ 65  40  59]]\n",
            "\n",
            " [[ 76  52  66]\n",
            "  [ 76  52  66]\n",
            "  [ 70  46  60]\n",
            "  ...\n",
            "  [ 66  41  60]\n",
            "  [ 66  41  60]\n",
            "  [ 65  40  59]]\n",
            "\n",
            " ...\n",
            "\n",
            " [[231 191 140]\n",
            "  [255 219 177]\n",
            "  [250 216 181]\n",
            "  ...\n",
            "  [146  81  61]\n",
            "  [ 67  27  19]\n",
            "  [ 62  38  38]]\n",
            "\n",
            " [[213 174 133]\n",
            "  [170 131 100]\n",
            "  [113  77  55]\n",
            "  ...\n",
            "  [198 111  81]\n",
            "  [ 82  23   7]\n",
            "  [ 66  27  22]]\n",
            "\n",
            " [[118  79  50]\n",
            "  [100  62  43]\n",
            "  [ 52  18   8]\n",
            "  ...\n",
            "  [230 133  91]\n",
            "  [107  41  15]\n",
            "  [ 66  24  10]]]\n"
          ],
          "name": "stdout"
        }
      ]
    },
    {
      "cell_type": "code",
      "metadata": {
        "id": "jw3eIxBa4BBb",
        "colab_type": "code",
        "outputId": "5b725949-94e6-413a-f8d7-ef966a16a11f",
        "colab": {
          "base_uri": "https://localhost:8080/",
          "height": 221
        }
      },
      "source": [
        "imgplot = plt.imshow(img)"
      ],
      "execution_count": 374,
      "outputs": [
        {
          "output_type": "display_data",
          "data": {
            "image/png": "[encoded data removed]",
            "text/plain": [
              "<Figure size 432x288 with 1 Axes>"
            ]
          },
          "metadata": {
            "tags": []
          }
        }
      ]
    },
    {
      "cell_type": "code",
      "metadata": {
        "id": "KaLC_q5a4IDn",
        "colab_type": "code",
        "colab": {}
      },
      "source": [
        ""
      ],
      "execution_count": 0,
      "outputs": []
    }
  ]
}